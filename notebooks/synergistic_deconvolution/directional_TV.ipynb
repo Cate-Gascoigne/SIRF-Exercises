{
 "cells": [
  {
   "cell_type": "code",
   "execution_count": null,
   "metadata": {},
   "outputs": [],
   "source": [
    "from cil.optimisation.functions import L2NormSquared, TotalVariation, MixedL21Norm\n",
    "from cil.optimisation.operators import BlockOperator, FiniteDifferenceOperator, CompositionOperator, DiagonalOperator\n",
    "from cil.optimisation.algorithms import PDHG\n",
    "from cil.utilities import dataexample\n",
    "from cil.plugins.ccpi_regularisation.functions import FGP_dTV\n",
    "import numpy as np \n",
    "\n",
    "from cil.utilities import dataexample\n",
    "from cil.utilities.display import show2D\n",
    "from cil.recon import FDK\n",
    "from cil.processors import TransmissionAbsorptionConverter, Slicer\n",
    "\n",
    "import numpy as np\n",
    "\n",
    "from cil.plugins.tigre import ProjectionOperator\n",
    "from cil.optimisation.algorithms import FISTA\n",
    "from cil.optimisation.functions import LeastSquares, TotalVariation\n",
    "from cil.optimisation.operators import  BlurringOperator\n",
    "\n",
    "\n",
    "\n",
    "# set up default colour map for visualisation\n",
    "cmap = \"gray\"\n",
    "\n",
    "# set the backend for FBP and the ProjectionOperator\n",
    "device = 'gpu'\n",
    "\n"
   ]
  },
  {
   "cell_type": "markdown",
   "metadata": {},
   "source": [
    "\n",
    "# Simulated sphere cone beam reconstruction using directional total variation "
   ]
  },
  {
   "cell_type": "markdown",
   "metadata": {},
   "source": [
    "In this notebook we use directional TV to reconstruct a slice from a simulated sphere cone beam dataset where the forward model involves a gaussian blur and then a tomographic cone beam projection"
   ]
  },
  {
   "cell_type": "markdown",
   "metadata": {},
   "source": [
    "### CIL version 23.1.0"
   ]
  },
  {
   "cell_type": "code",
   "execution_count": null,
   "metadata": {},
   "outputs": [],
   "source": [
    "import cil\n",
    "print(cil.__version__)"
   ]
  },
  {
   "cell_type": "markdown",
   "metadata": {},
   "source": [
    "## Load data "
   ]
  },
  {
   "cell_type": "code",
   "execution_count": null,
   "metadata": {},
   "outputs": [],
   "source": [
    "\n",
    "#%% Load data\n",
    "ground_truth = dataexample.SIMULATED_SPHERE_VOLUME.get()\n",
    "\n",
    "data = dataexample.SIMULATED_CONE_BEAM_DATA.get()\n",
    "twoD = True\n",
    "if twoD:\n",
    "    data = data.get_slice(vertical='centre')\n",
    "    ground_truth = ground_truth.get_slice(vertical='centre')\n",
    "\n",
    "absorption = TransmissionAbsorptionConverter()(data)\n",
    "absorption = Slicer(roi={'angle':(0, -1, 5)})(absorption)\n",
    "\n",
    "ig = ground_truth.geometry\n",
    "\n",
    "recon = FDK(absorption, image_geometry=ig).run()\n",
    "\n",
    "show2D([ground_truth, recon], title = ['Ground Truth', 'FDK Reconstruction'], origin = 'upper', num_cols = 2)\n",
    "\n",
    "\n"
   ]
  },
  {
   "cell_type": "markdown",
   "metadata": {},
   "source": [
    "## Define point spread function "
   ]
  },
  {
   "cell_type": "code",
   "execution_count": null,
   "metadata": {},
   "outputs": [],
   "source": [
    "def psf(n=5, sig=1.):\n",
    "    \"\"\"\n",
    "    creates psf with side length `n` and a sigma of `sig`\n",
    "    \"\"\"\n",
    "    ax = np.linspace(-(n - 1) / 2., (n - 1) / 2., n)\n",
    "    gauss = np.exp(-0.5 * np.square(ax) / np.square(sig))\n",
    "    kernel = np.outer(gauss, gauss)\n",
    "    return kernel / np.sum(kernel)\n",
    "PSF=psf(5,2)\n",
    "G=BlurringOperator(PSF,ig )"
   ]
  },
  {
   "cell_type": "markdown",
   "metadata": {},
   "source": [
    "## Blur the image and recalculate the measured data, adding noise "
   ]
  },
  {
   "cell_type": "code",
   "execution_count": null,
   "metadata": {},
   "outputs": [],
   "source": [
    "\n",
    "A = ProjectionOperator(image_geometry=ig, \n",
    "                       acquisition_geometry=absorption.geometry)\n",
    "\n",
    "\n",
    "forward=CompositionOperator(A, G)\n",
    "noisy_absorption=forward.direct(ground_truth) \n",
    "noisy_absorption+= 0.1*noisy_absorption.array.max()*noisy_absorption.geometry.allocate('random')\n",
    "\n",
    "show2D([absorption, noisy_absorption], title = ['Absorption', 'Noisy absorption'], origin = 'upper', num_cols = 2)\n",
    "\n",
    "\n"
   ]
  },
  {
   "cell_type": "markdown",
   "metadata": {},
   "source": [
    "## FDK reconstruction\n",
    "We use the tomography forward model (ignoring the blurring operator) to produce an FDK reconstruction which is both blurred and noisy compared to the ground truth image. \n"
   ]
  },
  {
   "cell_type": "code",
   "execution_count": null,
   "metadata": {},
   "outputs": [],
   "source": [
    "#%%\n",
    "\n",
    "recon_FDK = FDK(noisy_absorption, image_geometry=ig).run()\n",
    "\n",
    "show2D([ground_truth, recon_FDK], title = ['Ground Truth', 'FDK Reconstruction'], origin = 'upper', num_cols = 2)\n",
    "\n",
    "\n",
    "# %%"
   ]
  },
  {
   "cell_type": "markdown",
   "metadata": {},
   "source": [
    "## FISTA + TV Recon \n",
    "\n",
    "As a baseline we try a TV reconstruction with a non-negativity constraint, using the FISTA algorithm, minimising the objective \n",
    "\n",
    "$$ \\arg \\min_x \\|AGx-y\\|_2^2  + \\alpha g(x)$$ \n",
    "\n",
    " where $G$ is the blurring operator, $A$ the tomographic projection, $ y$ the noisy measured data and $g$ is the TV regulariser with regularisation paramater $\\alpha$. "
   ]
  },
  {
   "cell_type": "code",
   "execution_count": null,
   "metadata": {},
   "outputs": [],
   "source": [
    "\n",
    "\n",
    "alpha=70.0\n",
    "\n",
    "F = LeastSquares(A = forward, b = noisy_absorption)\n",
    "G = alpha*TotalVariation(lower=0)\n",
    "\n",
    "algo_tv=FISTA(initial=ig.allocate(0), f=F, g=G, max_iteration=1000, update_objective_interval=50)\n",
    "algo_tv.run(500)\n",
    "show2D([ground_truth, recon_FDK, algo_tv.solution], title = ['Ground Truth', 'FDK Reconstruction', 'TV solution'], origin = 'upper', num_cols = 3, fix_range=(0,0.004))\n"
   ]
  },
  {
   "cell_type": "markdown",
   "metadata": {},
   "source": [
    "# Directional Total Variation "
   ]
  },
  {
   "cell_type": "markdown",
   "metadata": {},
   "source": [
    "We use the directional total variation regulariser\n",
    "\n",
    "$$g(x) =dTV:= \\sum_i|D_i\\nabla x_i|_2$$\n",
    "\n",
    " where the sum is over the pixels $i$ and where $D$ is a weighting vector filed on the gradient in $x$ dependent on the normalised gradient, $\\zeta$,  of the reference image, $\\nu$ so \n",
    "$$D=I-\\zeta \\zeta^T$$\n",
    "and $$\\zeta = -\\dfrac{\\nabla \\nu }{\\sqrt{\\eta^2+|\\nabla\\nu|^2}}$$ where $0<\\eta<<\\|\\nabla\\nu\\|$.\n",
    "\n",
    "\n",
    "We can see that if $\\nabla x= \\gamma \\nabla \\nu$ then\n",
    "\n",
    " $$D\\nabla x = \\gamma D\\nabla \\nu= \\gamma (I-\\zeta \\zeta^T)\\nabla \\nu= \\gamma \\left(\\nabla \\nu -\\dfrac{\\nabla \\nu }{\\sqrt{\\eta^2+|\\nabla\\nu|^2}} \\dfrac{\\nabla \\nu^T }{\\sqrt{\\eta^2+|\\nabla\\nu|^2}} \\nabla \\nu \\right)=\\gamma\\nabla \\nu \\left(1-(1+\\mathcal{O}(\\frac{\\eta^2}{\\|\\nabla\\nu\\|^2}) )\\right) \\approx 0.$$\n",
    "\n",
    "We can also see if the gradient of the reconstructed image and the reference image are perpendicular, $\\nabla x^T\\nabla \\nu=0$, then\n",
    "\n",
    "$$D\\nabla x (I-\\zeta \\zeta^T)\\nabla x= \\nabla \\nu - \\dfrac{\\nabla \\nu }{\\sqrt{\\eta^2+|\\nabla\\nu|^2}} \\dfrac{\\nabla \\nu^T }{\\sqrt{\\eta^2+|\\nabla\\nu|^2}} \\nabla x =\\nabla \\nu $$\n",
    "\n",
    " and is non-zero. \n",
    "\n",
    "This regulariser encourages the gradient of the reconstructed image to be equal to parallel to the gradient of the reference image. \n",
    "\n",
    "The CCPi regularisation toolkit implementation also allows us to add a non-negativity constraint. \n",
    "\n"
   ]
  },
  {
   "cell_type": "markdown",
   "metadata": {},
   "source": [
    "## Create reference image "
   ]
  },
  {
   "cell_type": "markdown",
   "metadata": {},
   "source": [
    "Includes some but not all of the spheres and at different brightness to the ground truth image. "
   ]
  },
  {
   "cell_type": "code",
   "execution_count": null,
   "metadata": {},
   "outputs": [],
   "source": [
    "#%% create masks\n",
    "top = ig.allocate(0)\n",
    "bottom = ig.allocate(0)\n",
    "middle= ig.allocate(0)\n",
    "\n",
    "top.fill(\n",
    "    np.asarray(ground_truth.array > 0.8 * ground_truth.max(), \n",
    "               dtype=np.float32)\n",
    "    )\n",
    "bottom.fill(\n",
    "    np.asarray(np.invert(ground_truth.array < 0.4 * ground_truth.max()), \n",
    "               dtype=np.float32)\n",
    ")\n",
    "middle.fill(\n",
    "    np.asarray(np.invert(  ground_truth.array< 0.7 * ground_truth.max()), \n",
    "               dtype=np.float32)\n",
    ")\n",
    "\n",
    "\n",
    "reference=top*0.2+bottom*0.7+ middle*0.9\n",
    "show2D([ground_truth, reference])"
   ]
  },
  {
   "cell_type": "markdown",
   "metadata": {},
   "source": [
    "## Directional TV regularisation, using the regularisation toolkit  \n"
   ]
  },
  {
   "cell_type": "markdown",
   "metadata": {},
   "source": [
    "Setting a large alpha leads to a reproduction of the reference image but with the intensity values taken from the measured data: "
   ]
  },
  {
   "cell_type": "code",
   "execution_count": null,
   "metadata": {},
   "outputs": [],
   "source": [
    "\n",
    "eta = 0.01\n",
    "alpha = 100\n",
    "\n",
    "F = LeastSquares(A = forward, b = noisy_absorption)\n",
    "G=FGP_dTV(reference=reference, alpha=alpha, eta=eta, nonnegativity=True)\n",
    "\n",
    "algo_dtv=FISTA(initial=ig.allocate(0), f=F, g=G, max_iteration=1000, update_objective_interval=25)\n",
    "algo_dtv.run(200)\n",
    "show2D([ground_truth, recon_FDK, algo_tv.solution, reference,  algo_dtv.solution], title = ['Ground Truth', 'FDK Reconstruction', 'TV solution', 'Reference image',  'dTV solution'], origin = 'upper', num_cols = 2, fix_range=[(0,0.004),(0,0.004),(0,0.004),(0,2),(0,0.004)])\n",
    "\n",
    "\n"
   ]
  },
  {
   "cell_type": "markdown",
   "metadata": {},
   "source": [
    "We can see from the error images that there are spheres missing on the dTV reconstructed image. "
   ]
  },
  {
   "cell_type": "code",
   "execution_count": null,
   "metadata": {},
   "outputs": [],
   "source": [
    "show2D([ground_truth, recon_FDK-ground_truth, algo_tv.solution-ground_truth, reference,  algo_dtv.solution-ground_truth], title = ['Ground Truth', 'FDK Reconstruction error', 'TV solution error', 'Reference image',  'dTV solution error'], origin = 'upper', cmap=['gray', 'seismic', 'seismic', 'gray', 'seismic'], num_cols = 2, fix_range=[(0, 0.004),(-0.004, 0.004),(-0.004, 0.004),(0,2),(-0.004, 0.004)])\n"
   ]
  },
  {
   "cell_type": "markdown",
   "metadata": {},
   "source": [
    "For a value of alpha that is too small we see evidence that the inverse problem is ill posed the noise has been amplified by the reconstruction"
   ]
  },
  {
   "cell_type": "code",
   "execution_count": null,
   "metadata": {},
   "outputs": [],
   "source": [
    "\n",
    "eta = 0.01\n",
    "alpha = 0.001\n",
    "\n",
    "F = LeastSquares(A = forward, b = noisy_absorption)\n",
    "G=FGP_dTV(reference=reference, alpha=alpha, eta=eta, nonnegativity=True)\n",
    "\n",
    "algo_dtv=FISTA(initial=ig.allocate(0), f=F, g=G, max_iteration=1000, update_objective_interval=25)\n",
    "algo_dtv.run(200)\n",
    "show2D([ground_truth, recon_FDK, algo_tv.solution, reference,  algo_dtv.solution], title = ['Ground Truth', 'FDK Reconstruction', 'TV solution', 'Reference image',  'dTV solution'], origin = 'upper', num_cols = 2, fix_range=[(0,0.004),(0,0.004),(0,0.004),(0,2),(0,0.008)])\n",
    "show2D([ground_truth, recon_FDK-ground_truth, algo_tv.solution-ground_truth, reference,  algo_dtv.solution-ground_truth], title = ['Ground Truth', 'FDK Reconstruction error', 'TV solution error', 'Reference image',  'dTV solution error'], origin = 'upper', cmap=['gray', 'seismic', 'seismic', 'gray', 'seismic'], num_cols = 2, fix_range=[(0, 0.004),(-0.004, 0.004),(-0.004, 0.004),(0,2),(-0.008, 0.008)])\n",
    "\n",
    "\n"
   ]
  },
  {
   "cell_type": "markdown",
   "metadata": {},
   "source": [
    "For intermediate values of alpha we are able to retain sharp edges but also find spheres not contained in the reference image: "
   ]
  },
  {
   "cell_type": "code",
   "execution_count": null,
   "metadata": {},
   "outputs": [],
   "source": [
    "\n",
    "eta = 0.01\n",
    "alpha = 5.0\n",
    "\n",
    "F = LeastSquares(A = forward, b = noisy_absorption)\n",
    "G=FGP_dTV(reference=reference, alpha=alpha, eta=eta, nonnegativity=True)\n",
    "\n",
    "algo_dtv=FISTA(initial=ig.allocate(0), f=F, g=G, max_iteration=1000, update_objective_interval=50)\n",
    "algo_dtv.run(200)\n",
    "show2D([ground_truth, recon_FDK, algo_tv.solution, reference,  algo_dtv.solution], title = ['Ground Truth', 'FDK Reconstruction', 'TV solution', 'Reference image',  'dTV solution'], origin = 'upper', num_cols = 2, fix_range=[(0,0.004),(0,0.004),(0,0.004),(0,2),(0,0.004)])\n",
    "show2D([ground_truth, recon_FDK-ground_truth, algo_tv.solution-ground_truth, reference,  algo_dtv.solution-ground_truth], title = ['Ground Truth', 'FDK Reconstruction error', 'TV solution error', 'Reference image',  'dTV solution error'], origin = 'upper', cmap=['gray', 'seismic', 'seismic', 'gray', 'seismic'], num_cols = 2, fix_range=[(0, 0.004),(-0.004, 0.004),(-0.004, 0.004),(0,2),(-0.008, 0.008)])\n",
    "\n"
   ]
  },
  {
   "cell_type": "markdown",
   "metadata": {},
   "source": [
    "## Directional TV regularisation, written in CIL "
   ]
  },
  {
   "cell_type": "markdown",
   "metadata": {},
   "source": [
    "CIL currently can't take the proximal of an oeprator composition with a function so there is no proximal defined for the CIL LeastSquares function (https://github.com/TomographicImaging/CIL/issues/1561). We instead consider the CIL  L2NormSquared function where the proximal is defined and consider a denoising problem, denoising the FDK reconstruction using the directional TV regularisation term, i.e. solving the problem\n",
    "\n",
    "$$ \\arg \\min_x \\|x-x_{FDK}\\|_2^2  + \\alpha g(x) .$$ \n",
    "\n",
    "Note that this implementation was created by Vaggelis Papoutellis (https://github.com/TomographicImaging/CIL/pull/1121/files).\n"
   ]
  },
  {
   "cell_type": "code",
   "execution_count": null,
   "metadata": {},
   "outputs": [],
   "source": [
    "eta = 0.01\n",
    "alpha = 0.008\n",
    "\n",
    "\n",
    "# fidelity term\n",
    "g = L2NormSquared( b=recon_FDK)\n",
    "\n",
    "# setup operator for directional TV\n",
    "DY = FiniteDifferenceOperator(ig, direction=1)\n",
    "DX = FiniteDifferenceOperator(ig, direction=0)\n",
    "\n",
    "Grad = BlockOperator(DY, DX)\n",
    "grad_ref = Grad.direct(reference)\n",
    "denom = (eta**2 + grad_ref.pnorm(2)**2).sqrt()\n",
    "xi = grad_ref/denom\n",
    "\n",
    "A1 = DY - CompositionOperator(DiagonalOperator(xi[0]**2),DY) - CompositionOperator(DiagonalOperator(xi[0]*xi[1]),DX)\n",
    "A2 = DX - CompositionOperator(DiagonalOperator(xi[0]*xi[1]),DY) - CompositionOperator(DiagonalOperator(xi[1]**2),DX)\n",
    "\n",
    "operator = BlockOperator(A1, A2)\n",
    "\n",
    "f = alpha * MixedL21Norm()\n",
    "\n",
    "# use primal acceleration, g being strongly convex\n",
    "pdhg = PDHG(f = f, g = g, operator = operator, \n",
    "            max_iteration=500, update_objective_interval = 100, gamma_g = 1.)\n",
    "pdhg.run(verbose=0)        \n",
    "\n",
    "\n",
    "show2D([ground_truth, recon_FDK, algo_tv.solution, reference,  pdhg.solution], title = ['Ground Truth', 'FDK Reconstruction', 'TV solution', 'Reference image',  'dTV solution'], origin = 'upper', num_cols = 2, fix_range=[(0,0.004),(0,0.004),(0,0.004),(0,2),(0,0.004)])\n",
    "show2D([ground_truth, recon_FDK-ground_truth, algo_tv.solution-ground_truth, reference,  pdhg.solution-ground_truth], title = ['Ground Truth', 'FDK Reconstruction error', 'TV solution error', 'Reference image',  'dTV solution error'], origin = 'upper', cmap=['gray', 'seismic', 'seismic', 'gray', 'seismic'], num_cols = 2, fix_range=[(0, 0.004),(-0.004, 0.004),(-0.004, 0.004),(0,2),(-0.008, 0.008)])\n"
   ]
  },
  {
   "cell_type": "markdown",
   "metadata": {},
   "source": [
    "With less information, in the form of the forward model, the outcome is not as good, but arguably still better than the TV reconstruction. "
   ]
  },
  {
   "cell_type": "code",
   "execution_count": null,
   "metadata": {},
   "outputs": [],
   "source": [
    "#TODO: Add some PSNR values or some other metric\n",
    "#TODO: try a wider range of regularisation parameters \n",
    "# TODO:  TRY some downsampling "
   ]
  },
  {
   "cell_type": "code",
   "execution_count": null,
   "metadata": {},
   "outputs": [],
   "source": []
  }
 ],
 "metadata": {
  "kernelspec": {
   "display_name": "cil_23_1_0",
   "language": "python",
   "name": "python3"
  },
  "language_info": {
   "codemirror_mode": {
    "name": "ipython"
   },
   "file_extension": ".py",
   "mimetype": "text/x-python",
   "name": "python",
   "nbconvert_exporter": "python"
  }
 },
 "nbformat": 4,
 "nbformat_minor": 2
}
