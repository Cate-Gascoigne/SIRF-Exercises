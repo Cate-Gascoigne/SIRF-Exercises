{
 "cells": [
  {
   "cell_type": "code",
   "execution_count": null,
   "metadata": {},
   "outputs": [],
   "source": [
    "import os\n",
    "import glob\n",
    "import sirf.STIR\n",
    "import numpy as np\n",
    "\n",
    "from sirf.STIR import show_2D_array"
   ]
  },
  {
   "cell_type": "code",
   "execution_count": null,
   "metadata": {},
   "outputs": [],
   "source": [
    "msg_red = sirf.STIR.MessageRedirector('info.txt', 'warn.txt', 'errr.txt')"
   ]
  },
  {
   "cell_type": "code",
   "execution_count": null,
   "metadata": {},
   "outputs": [],
   "source": [
    "def create_sample_image(image, weighting = 1):\n",
    "    '''fill the image with some simple geometric shapes.'''\n",
    "    # density needs to be scaled down for attenuation image\n",
    "        \n",
    "    image.fill(0)\n",
    "    # create a shape\n",
    "    shape = sirf.STIR.EllipticCylinder()\n",
    "    shape.set_length(400)\n",
    "    shape.set_radii((80, 40))\n",
    "    shape.set_origin((0, 40, 30))\n",
    "\n",
    "    # add the shape to the image\n",
    "    image.add_shape(shape, scale = weighting)\n",
    "    \n",
    "    # add another shape\n",
    "    shape.set_radii((130, 110))\n",
    "    shape.set_origin((0, 0, 0))\n",
    "    image.add_shape(shape, scale = weighting*1.5)\n",
    "\n",
    "    # add another shape\n",
    "    shape.set_radii((30, 30))\n",
    "    shape.set_origin((0, -50, -30))\n",
    "    image.add_shape(shape, scale = weighting*1.5)\n",
    "\n",
    "    # add another shape\n",
    "    shape.set_origin((0, 30, -50))\n",
    "    image.add_shape(shape, scale = weighting*0.75)\n",
    "\n",
    "def make_cylindrical_FOV(image):\n",
    "    \"\"\"truncate to cylindrical FOV.\"\"\"\n",
    "    cyl_filter = sirf.STIR.TruncateToCylinderProcessor()\n",
    "    cyl_filter.apply(image)\n",
    "    return image\n",
    "\n",
    "def add_noise(proj_data,noise_factor = 1):\n",
    "    \"\"\"Add Poission noise to acquisition data.\"\"\"\n",
    "    proj_data_arr = proj_data.as_array() / noise_factor\n",
    "    # Data should be >=0 anyway, but add abs just to be safe\n",
    "    proj_data_arr = np.abs(proj_data_arr)\n",
    "    noisy_proj_data_arr = np.random.poisson(proj_data_arr).astype('float32');\n",
    "    noisy_proj_data = proj_data.clone()\n",
    "    noisy_proj_data.fill(noisy_proj_data_arr);\n",
    "    return noisy_proj_data"
   ]
  },
  {
   "cell_type": "code",
   "execution_count": null,
   "metadata": {},
   "outputs": [],
   "source": [
    "sino = sirf.STIR.AcquisitionData('data/SPECT/template_sinogram.hs')"
   ]
  },
  {
   "cell_type": "code",
   "execution_count": null,
   "metadata": {},
   "outputs": [],
   "source": [
    "# create ground truth image\n",
    "image = sino.create_uniform_image()\n",
    "create_sample_image(image)\n",
    "image = image.zoom_image(zooms=(0.5, 1.0, 1.0)) #required for now because SPECT is 360 degree acquisiton\n",
    "\n",
    "# create attenuation image\n",
    "uMap = sino.create_uniform_image()\n",
    "create_sample_image(uMap, weighting = 0.1)\n",
    "uMap = uMap.zoom_image(zooms=(0.5, 1.0, 1.0))"
   ]
  },
  {
   "cell_type": "code",
   "execution_count": null,
   "metadata": {},
   "outputs": [],
   "source": [
    "# show the ground truth image\n",
    "image_array = image.as_array()\n",
    "show_2D_array('Phantom image', image_array[0,:,:])\n",
    "\n",
    "# show the attenuation image\n",
    "uMap_array = uMap.as_array()\n",
    "show_2D_array('Attenuation image', uMap_array[0,:,:])"
   ]
  },
  {
   "cell_type": "code",
   "execution_count": null,
   "metadata": {},
   "outputs": [],
   "source": [
    "# select acquisition model that implements the geometric\n",
    "# forward projection by a ray tracing matrix multiplication\n",
    "acq_model_matrix = sirf.STIR.SPECTUBMatrix();\n",
    "acq_model_matrix.set_attenuation_image(uMap) # add attenuation\n",
    "acq_model_matrix.set_resolution_model(0.5,0.5,full_3D=False) #resolution modelling\n",
    "acq_model = sirf.STIR.AcquisitionModelUsingMatrix(acq_model_matrix)"
   ]
  },
  {
   "cell_type": "code",
   "execution_count": null,
   "metadata": {},
   "outputs": [],
   "source": [
    "print('projecting image...')\n",
    "# project the image to obtain simulated acquisition data\n",
    "# data from raw_data_file is used as a template\n",
    "acq_model.set_up(sino, image)\n",
    "simulated_data = sino.get_uniform_copy()\n",
    "acq_model.forward(image, 0, 1, simulated_data)\n",
    "\n",
    "  # create noisy data\n",
    "noisy_data = simulated_data.clone()\n",
    "noisy_data_as_array = np.random.poisson(simulated_data.as_array())\n",
    "noisy_data.fill(noisy_data_as_array)\n",
    "\n",
    "# show simulated acquisition data\n",
    "simulated_data_as_array = simulated_data.as_array()\n",
    "show_2D_array('Forward projection', simulated_data_as_array[0, 0,:,:])\n",
    "show_2D_array('Forward projection with added noise', noisy_data_as_array[0, 0,:,:])"
   ]
  },
  {
   "cell_type": "code",
   "execution_count": null,
   "metadata": {},
   "outputs": [],
   "source": [
    "# create objective function\n",
    "obj_fun = sirf.STIR.make_Poisson_loglikelihood(noisy_data)\n",
    "obj_fun.set_acquisition_model(acq_model)\n",
    "\n",
    "# create OSEM reconstructor object\n",
    "num_subsets = 21 # number of subsets for OSEM reconstruction\n",
    "num_subiters = 42 #number of subiterations (i.e two full iterations)\n",
    "OSEM_reconstructor = sirf.STIR.OSMAPOSLReconstructor()\n",
    "OSEM_reconstructor.set_objective_function(obj_fun)\n",
    "OSEM_reconstructor.set_num_subsets(num_subsets)\n",
    "OSEM_reconstructor.set_num_subiterations(num_subiters)"
   ]
  },
  {
   "cell_type": "code",
   "execution_count": null,
   "metadata": {},
   "outputs": [],
   "source": [
    "# create initialisation image and set up reconstructor\n",
    "init_image = make_cylindrical_FOV(image.get_uniform_copy(1))\n",
    "OSEM_reconstructor.set_up(init_image)"
   ]
  },
  {
   "cell_type": "code",
   "execution_count": null,
   "metadata": {},
   "outputs": [],
   "source": [
    "# Reconstruct and show reconstructed image\n",
    "OSEM_reconstructor.reconstruct(init_image)\n",
    "out_image = OSEM_reconstructor.get_current_estimate()\n",
    "out_image_array = out_image.as_array()\n",
    "show_2D_array('Reconstructed image', out_image_array[0,:,:])"
   ]
  },
  {
   "cell_type": "code",
   "execution_count": null,
   "metadata": {},
   "outputs": [],
   "source": [
    "#%% delete temporary files\n",
    "wdpath = os.getcwd()\n",
    "for filename in glob.glob(os.path.join(wdpath, \"tmp*\")):\n",
    "    os.remove(filename) "
   ]
  }
 ],
 "metadata": {
  "interpreter": {
   "hash": "916dbcbb3f70747c44a77c7bcd40155683ae19c65e1c03b4aa3499c5328201f1"
  },
  "kernelspec": {
   "display_name": "Python 3.8.10 64-bit",
   "language": "python",
   "name": "python3"
  },
  "language_info": {
   "codemirror_mode": {
    "name": "ipython"
   },
   "file_extension": ".py",
   "mimetype": "text/x-python",
   "name": "python",
   "nbconvert_exporter": "python"
  }
 },
 "nbformat": 4,
 "nbformat_minor": 2
}
