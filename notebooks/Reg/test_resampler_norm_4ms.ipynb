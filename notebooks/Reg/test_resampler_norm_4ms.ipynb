{
 "cells": [
  {
   "cell_type": "markdown",
   "metadata": {},
   "source": [
    "# Motion-Corrected Image Reconstruction (MCIR)"
   ]
  },
  {
   "cell_type": "code",
   "execution_count": null,
   "metadata": {},
   "outputs": [],
   "source": [
    "# Setup the working directory for the notebook\n",
    "import notebook_setup"
   ]
  },
  {
   "cell_type": "code",
   "execution_count": null,
   "metadata": {},
   "outputs": [],
   "source": [
    "__version__ = '0.1.0'\n",
    "\n",
    "# import engine module\n",
    "import sirf.Gadgetron as pMR\n",
    "import sirf.Reg as pReg\n",
    "\n",
    "from cil.framework import  AcquisitionGeometry, BlockDataContainer\n",
    "from cil.optimisation.functions import Function, L2NormSquared, BlockFunction, LeastSquares, ZeroFunction\n",
    "from cil.optimisation.operators import BlockOperator, CompositionOperator, LinearOperator\n",
    "from cil.optimisation.algorithms import FISTA\n",
    "from sirf.Reg import NiftyResampler \n",
    "\n",
    "# import further modules\n",
    "import os\n",
    "import numpy as np\n",
    "import scipy.signal as sp_signal"
   ]
  },
  {
   "cell_type": "code",
   "execution_count": null,
   "metadata": {},
   "outputs": [],
   "source": [
    "# Load in the data\n",
    "path = '/home/jovyan/devel/MR/RPE_MotionPhantom_first70rpe.h5'\n",
    "acq_data = pMR.AcquisitionData(path)\n",
    "acq_data.sort_by_time()"
   ]
  },
  {
   "cell_type": "markdown",
   "metadata": {},
   "source": [
    "## Standard (i.e. uncorrected) image reconstruction"
   ]
  },
  {
   "cell_type": "code",
   "execution_count": null,
   "metadata": {},
   "outputs": [],
   "source": [
    "# Calculate coil sensitivity maps\n",
    "csm = pMR.CoilSensitivityData()\n",
    "csm.smoothness = 100\n",
    "csm.calculate(acq_data)"
   ]
  },
  {
   "cell_type": "markdown",
   "metadata": {},
   "source": [
    "# Motion"
   ]
  },
  {
   "cell_type": "markdown",
   "metadata": {},
   "source": [
    "## Motion surrogate"
   ]
  },
  {
   "cell_type": "code",
   "execution_count": null,
   "metadata": {},
   "outputs": [],
   "source": [
    "# Get the information about the index of the phase encoding\n",
    "pe_ky = acq_data.get_ISMRMRD_info('kspace_encode_step_1')\n",
    "\n",
    "# Find the central value of each GRPE line (i.e. ky=0)\n",
    "ky_idx = np.where(pe_ky == (np.max(pe_ky)+1)//2)\n",
    "\n",
    "# Get the k-space as array\n",
    "acq_data_arr = acq_data.as_array()\n",
    "\n",
    "# Keep only points which have been acquired in the k-space centre (i.e. ky == 0 & kz == 0)\n",
    "acq_data_arr = acq_data_arr[ky_idx[0], :, :]\n",
    "\n",
    "# Select the last coil and the centre of each readout (i.e kx = 0) to get our final 1D motion signal\n",
    "self_nav = np.abs(np.squeeze(acq_data_arr[:,3,acq_data_arr.shape[2]//2]))\n",
    "\n",
    "# We said above that the value of the k-space centre should only vary because of motion. \n",
    "# This is not entirely true, because it can also vary because of other effects. One is that the spin system\n",
    "# is in a transient steady state at the beginning of the data acquisition. \n",
    "# Therefore, we will simply overwrite the first entry in our motion signal\n",
    "self_nav[0] = self_nav[1]\n",
    "\n",
    "# Do some filtering\n",
    "self_nav = sp_signal.medfilt(self_nav, 7)\n",
    "\n",
    "# Interpolate self navigator to all phase encoding points\n",
    "self_nav = np.interp(np.linspace(0, len(pe_ky)-1, len(pe_ky)), ky_idx[0], self_nav)\n",
    "\n",
    "# Sort navigator and obtain index\n",
    "nav_idx = np.argsort(self_nav)\n",
    "\n",
    "# Bin data into Nms motion states each with the same amount of data\n",
    "Nms = 4\n",
    "num_pe_per_ms = np.ceil(len(pe_ky) / Nms).astype(np.int64)\n",
    "acq_idx_ms = []\n",
    "\n",
    "for nnd in range(Nms):\n",
    "    if nnd < Nms - 1:\n",
    "        acq_idx_ms.append(nav_idx[nnd*num_pe_per_ms:(nnd+1)*num_pe_per_ms])\n",
    "    else:\n",
    "        acq_idx_ms.append(nav_idx[nnd*num_pe_per_ms:])\n",
    "\n"
   ]
  },
  {
   "cell_type": "markdown",
   "metadata": {},
   "source": [
    "## Motion Resolved Images"
   ]
  },
  {
   "cell_type": "code",
   "execution_count": null,
   "metadata": {},
   "outputs": [],
   "source": [
    "# Go through each motion states, create corresponding k-space and acquisition model\n",
    "acq_ms = [0] * Nms\n",
    "E_ms = [0] * Nms\n",
    "\n",
    "\n",
    "for ind in range(Nms):\n",
    "    \n",
    "    acq_ms[ind] = acq_data.get_subset(acq_idx_ms[ind])        \n",
    "    acq_ms[ind].sort_by_time()\n",
    "        \n",
    "    # Create acquisition model\n",
    "    E_tmp = pMR.AcquisitionModel(acqs=acq_ms[ind], imgs=csm)\n",
    "    E_tmp.set_coil_sensitivity_maps(csm)\n",
    "    im_ms = E_tmp.inverse(acq_ms[ind])\n",
    "\n",
    "    E_ms[ind] = pMR.AcquisitionModel(acqs=acq_ms[ind], imgs=im_ms)\n",
    "    E_ms[ind].set_coil_sensitivity_maps(csm)"
   ]
  },
  {
   "cell_type": "markdown",
   "metadata": {},
   "source": [
    "Now we can reconstruct each motion state:"
   ]
  },
  {
   "cell_type": "code",
   "execution_count": null,
   "metadata": {},
   "outputs": [],
   "source": [
    "im_fista_ms = [0] * Nms\n",
    "\n",
    "for ind in range(Nms):\n",
    "\n",
    "    # Starting image\n",
    "    x_init = im_ms.clone()\n",
    "    x_init.fill(0.0)\n",
    "\n",
    "    # Objective function\n",
    "    f = LeastSquares(E_ms[ind], acq_ms[ind], c=1)\n",
    "    G = ZeroFunction()\n",
    "\n",
    "    # Set up FISTA for least squares\n",
    "    fista = FISTA(initial=x_init, f=f, g=G)\n",
    "    fista.max_iteration = 100\n",
    "    fista.update_objective_interval = 5\n",
    "\n",
    "    # Run FISTA\n",
    "    fista.run(10, verbose=True)\n",
    "    \n",
    "    # Get result\n",
    "    im_fista_ms[ind] = fista.get_output()"
   ]
  },
  {
   "cell_type": "markdown",
   "metadata": {},
   "source": [
    "## Estimate Motion Vector fields"
   ]
  },
  {
   "cell_type": "code",
   "execution_count": null,
   "metadata": {},
   "outputs": [],
   "source": [
    "im_fista_ms_abs = []\n",
    "for ind in range(Nms):\n",
    "    im_fista_ms_abs.append(im_fista_ms[ind].abs())"
   ]
  },
  {
   "cell_type": "code",
   "execution_count": null,
   "metadata": {},
   "outputs": [],
   "source": [
    "# Motion fransformation object\n",
    "mf_resampler = [0] * Nms\n",
    "\n",
    "# Forward transformation (i.e. reference image transformed to current motion state)\n",
    "im_forward = [0] * Nms\n",
    "\n",
    "# Backward transformation (i.e. current motion image transformed to reference motion state)\n",
    "im_backward = [0] * Nms\n",
    "\n",
    "\n",
    "for ind in range(Nms):\n",
    "\n",
    "    # Affine image registration\n",
    "    algo = pReg.NiftyAladinSym()\n",
    "\n",
    "    # Set up images\n",
    "    ref = pReg.NiftiImageData3D(im_fista_ms_abs[ind])\n",
    "    flo = pReg.NiftiImageData3D(im_fista_ms_abs[0])\n",
    "    algo.set_reference_image(ref)\n",
    "    algo.set_floating_image(flo)\n",
    "\n",
    "    # Run registration    \n",
    "    algo.process()\n",
    "\n",
    "    # Get forward deformation \n",
    "    mf_forward = algo.get_deformation_field_forward()\n",
    "\n",
    "    # Create resampler\n",
    "    mf_resampler[ind] = NiftyResampler()\n",
    "    mf_resampler[ind].set_reference_image(ref)\n",
    "    mf_resampler[ind].set_floating_image(flo)\n",
    "    mf_resampler[ind].add_transformation(mf_forward)\n",
    "    mf_resampler[ind].set_padding_value(0)\n",
    "    mf_resampler[ind].set_interpolation_type_to_linear()\n",
    "\n",
    "# do not seem to be used\n",
    "#    im_forward[ind] = mf_resampler[ind].forward(im_fista_ms[0])\n",
    "#    im_backward[ind] = mf_resampler[ind].backward(im_fista_ms[ind])\n"
   ]
  },
  {
   "cell_type": "markdown",
   "metadata": {
    "tags": []
   },
   "source": [
    "# MCIR norms"
   ]
  },
  {
   "cell_type": "code",
   "execution_count": null,
   "metadata": {
    "tags": []
   },
   "outputs": [],
   "source": [
    "# This is the part of code that computes the norm of the resampler\n",
    "# as the largest singular value of its direct operator\n",
    "# (i) by C++ implementation of Jacobi-Conjugate Gradient method interfaced into Python by SIRF\n",
    "# (ii) as Python implementation of Power Method\n",
    "\n",
    "import time\n",
    "\n",
    "\n",
    "# (i)\n",
    "print(\"computing nifti resampler norms by CG...\")\n",
    "nifti_resamplers_norms = []\n",
    "start = time.time()\n",
    "i = 0\n",
    "for resampler_i in mf_resampler:\n",
    "    rni = resampler_i.norm(10, 0)\n",
    "    print(\"resampler %d norm: %f\" % (i, rni))\n",
    "    nifti_resamplers_norms.append(rni)\n",
    "    i += 1\n",
    "print('%f sec' % (time.time() - start))\n",
    "\n",
    "\n",
    "# (ii)\n",
    "class MyLinearOperator(LinearOperator):\n",
    "    \n",
    "    # Redefining the PowerMethod (which was giving issues for computing the norm).\n",
    "    \n",
    "    def PowerMethod(operator, max_iteration=10, initial=None, tolerance = 1e-5,  return_all=False):\n",
    "\n",
    "        symmetric = False\n",
    "        try:\n",
    "            if operator.domain_geometry()==operator.range_geometry():\n",
    "                symmetric = True\n",
    "        except AssertionError:\n",
    "            pass\n",
    "\n",
    "        if initial is None:\n",
    "            x0 = operator.domain_geometry().allocate('random')\n",
    "        else:\n",
    "            x0 = initial.copy()\n",
    "\n",
    "        y_tmp = operator.range_geometry().allocate()\n",
    "  \n",
    "        x0_norm = x0.norm()\n",
    "        x0 /= x0_norm\n",
    "        \n",
    "        eig_old = 1.\n",
    "        eig_list = []\n",
    "        diff = np.finfo('d').max\n",
    "        \n",
    "        i=0\n",
    "        while (i < max_iteration and diff > tolerance):\n",
    "            i+=1\n",
    "            operator.direct(x0, out = y_tmp)            \n",
    "            operator.adjoint(y_tmp,out=x0)\n",
    "            \n",
    "            x0_norm = x0.norm()      \n",
    "            x0 /= x0_norm\n",
    "            eig_new =  np.abs(x0_norm)\n",
    "            if not symmetric:\n",
    "                eig_new = np.sqrt(eig_new)\n",
    "\n",
    "            eig_list.append(eig_new)\n",
    "            eig_old = eig_new      \n",
    "        \n",
    "        if return_all:\n",
    "            return eig_new, i, x0, eig_list\n",
    "        else:\n",
    "            return eig_new\n",
    "        \n",
    "    def calculate_norm(self):\n",
    "        \n",
    "        r\"\"\" Returns the norm of the LinearOperator calculated by the PowerMethod with default values.\n",
    "                \"\"\"\n",
    "        return MyLinearOperator.PowerMethod(self)\n",
    "\n",
    "\n",
    "def NiftyResampler_norm(x):\n",
    "    out = MyLinearOperator.calculate_norm(x)\n",
    "    return out\n",
    "\n",
    "\n",
    "setattr(NiftyResampler, 'norm', NiftyResampler_norm)\n",
    "\n",
    "\n",
    "print(\"computing nifti resampler norms by power method...\")\n",
    "nifti_resamplers_norms = []\n",
    "start = time.time()\n",
    "i = 0\n",
    "for resampler_i in mf_resampler:\n",
    "    rni = resampler_i.norm()\n",
    "    print(\"resampler %d norm: %f\" % (i, rni))\n",
    "    nifti_resamplers_norms.append(rni)\n",
    "    i += 1\n",
    "#    nifti_resamplers_norms.append(resampler_i.norm())\n",
    "print('%f sec' % (time.time() - start))\n"
   ]
  },
  {
   "cell_type": "markdown",
   "metadata": {},
   "source": [
    "In MCIR, because the resampler forms part of a composition operator,\n",
    "the norm of the resampler is computed when calling the following function,\n",
    "which calculates the norm of the compositon operator."
   ]
  },
  {
   "cell_type": "code",
   "execution_count": null,
   "metadata": {
    "tags": []
   },
   "outputs": [],
   "source": [
    "def CompositionOperator_norm(comp_operator):\n",
    "    out = 1.\n",
    "    for factor in comp_operator.operators:\n",
    "        out = out * factor.norm()\n",
    "    return out\n",
    "\n",
    "setattr(CompositionOperator, 'norm', CompositionOperator_norm)"
   ]
  },
  {
   "cell_type": "code",
   "execution_count": null,
   "metadata": {
    "tags": []
   },
   "outputs": [],
   "source": [
    "C = [CompositionOperator(am, res) for am, res in zip(*(E_ms, mf_resampler))]"
   ]
  },
  {
   "cell_type": "markdown",
   "metadata": {},
   "source": [
    "  "
   ]
  },
  {
   "cell_type": "markdown",
   "metadata": {},
   "source": [
    "## Norm values "
   ]
  },
  {
   "cell_type": "markdown",
   "metadata": {
    "tags": []
   },
   "source": [
    "Because I'm using 4 motion states, we'll have 4 nifti resampler norms, and therefore 4 composition operator norms."
   ]
  },
  {
   "cell_type": "code",
   "execution_count": null,
   "metadata": {
    "tags": []
   },
   "outputs": [],
   "source": [
    "# nifti resampler norms - already computed above\n",
    "#nifti_resamplers_norms = []\n",
    "#for resampler_i in mf_resampler:\n",
    "#    nifti_resamplers_norms.append(resampler_i.norm())"
   ]
  },
  {
   "cell_type": "code",
   "execution_count": null,
   "metadata": {
    "tags": []
   },
   "outputs": [],
   "source": [
    "nifti_resamplers_norms"
   ]
  },
  {
   "cell_type": "code",
   "execution_count": null,
   "metadata": {
    "tags": []
   },
   "outputs": [],
   "source": [
    "# composition operators norm\n",
    "comp_operators_norms = []\n",
    "for comp_operator_i in C:\n",
    "    comp_operators_norms.append(comp_operator_i.norm())"
   ]
  },
  {
   "cell_type": "code",
   "execution_count": null,
   "metadata": {
    "tags": []
   },
   "outputs": [],
   "source": [
    "comp_operators_norms"
   ]
  },
  {
   "cell_type": "code",
   "execution_count": null,
   "metadata": {},
   "outputs": [],
   "source": [
    "### TODO: THE REST SHOULD BE UPDATED!"
   ]
  },
  {
   "cell_type": "markdown",
   "metadata": {},
   "source": [
    "## Norm values that you should get"
   ]
  },
  {
   "cell_type": "markdown",
   "metadata": {},
   "source": [
    "Nifti resamplers norms I get by using the code above: \n",
    "\n",
    "[0.9999986886978149,\n",
    " 1.0106359720230103,\n",
    " 0.9894781112670898,\n",
    " 1.0005484819412231]"
   ]
  },
  {
   "cell_type": "markdown",
   "metadata": {},
   "source": [
    "The values in the list nifti_resamplers_norms (which you get above, in the section \"Norm values\") should be similar to these ones, i.e. very close to 1."
   ]
  },
  {
   "cell_type": "markdown",
   "metadata": {},
   "source": [
    "    "
   ]
  },
  {
   "cell_type": "markdown",
   "metadata": {},
   "source": [
    "           "
   ]
  },
  {
   "cell_type": "markdown",
   "metadata": {
    "tags": []
   },
   "source": [
    "Composition operator norms I get by using the code above:\n",
    "    \n",
    "[24.53206259506578, 25.586999705435574, 24.64181221150693, 24.65180460950478]"
   ]
  },
  {
   "cell_type": "markdown",
   "metadata": {},
   "source": [
    "Like before, the values in the list comp_operators_norms (again in the section \"Norm values\") should also be similar to the ones listed above. I wrote some tests below where I ask for them to be equal up to the first decimal place. Hopefully the the values will pass the test when you use your function."
   ]
  },
  {
   "cell_type": "markdown",
   "metadata": {
    "tags": []
   },
   "source": [
    "# Tests"
   ]
  },
  {
   "cell_type": "code",
   "execution_count": null,
   "metadata": {
    "tags": []
   },
   "outputs": [],
   "source": [
    "import unittest\n",
    "\n",
    "correct_resampler_norms = [0.9999989867210388, 1.0106064081192017, 0.9894943237304688, 1.0005548000335693]\n",
    "correct_comp_op_norms = [24.53206844396982, 25.586978579076458, 24.641785492754025, 24.652982414194184]\n",
    "  \n",
    "class TestNorms(unittest.TestCase):\n",
    "\n",
    "    def test_resampler_norm(self, n_resampler):\n",
    "        first_value = nifti_resamplers_norms[n_resampler]\n",
    "        second_value = correct_resampler_norms[n_resampler]\n",
    "        decimal_place = 1\n",
    "        self.assertAlmostEqual(first_value, second_value, decimal_place)\n",
    "        \n",
    "    def test_comp_op_norm(self, n_comp_op):\n",
    "        first_value = comp_operators_norms[n_comp_op]\n",
    "        second_value = correct_comp_op_norms[n_comp_op]\n",
    "        decimal_place = 1\n",
    "        self.assertAlmostEqual(first_value, second_value, decimal_place)   "
   ]
  },
  {
   "cell_type": "code",
   "execution_count": null,
   "metadata": {
    "tags": []
   },
   "outputs": [],
   "source": [
    "example = TestNorms()\n",
    "\n",
    "for i in range(Nms):\n",
    "    example.test_resampler_norm(i)\n",
    "    example.test_comp_op_norm(i)"
   ]
  }
 ],
 "metadata": {
  "kernelspec": {
   "display_name": "Python 3 (ipykernel)",
   "language": "python",
   "name": "python3"
  },
  "language_info": {
   "codemirror_mode": {
    "name": "ipython"
   },
   "file_extension": ".py",
   "mimetype": "text/x-python",
   "name": "python",
   "nbconvert_exporter": "python"
  }
 },
 "nbformat": 4,
 "nbformat_minor": 4
}
