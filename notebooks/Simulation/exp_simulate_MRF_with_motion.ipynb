{
 "cells": [
  {
   "cell_type": "markdown",
   "metadata": {},
   "source": [
    "## Notebook G: Simulating motion in an MRF acquisition\n",
    "\n",
    "#### Prerequisites:\n",
    "- a tissue segmentation and XML file.\n",
    "- template rawdata.\n",
    "- displacement vector field modeling cardiac and respiratory motion.\n",
    "- pre-computed time-resolved magnetisation for tissue.\n",
    "\n",
    "#### Goals:\n",
    "- performing MRF simulation including respiratory and/or cardiac motion"
   ]
  },
  {
   "cell_type": "code",
   "execution_count": null,
   "metadata": {},
   "outputs": [],
   "source": [
    "from pathlib import Path\n",
    "import os \n",
    "import numpy as np\n",
    "import auxiliary_functions as aux\n",
    "\n",
    "import sirf.DynamicSimulation as pDS\n",
    "import sirf.Reg as pReg\n",
    "import sirf.Gadgetron as pMR\n",
    "\n",
    "\n",
    "\n",
    "# this is where we store the properly formatted data\n",
    "root_path = aux.root_path\n",
    "fpath_input = root_path / \"Input\"\n",
    "fpath_output = root_path / \"Output\""
   ]
  },
  {
   "cell_type": "code",
   "execution_count": null,
   "metadata": {},
   "outputs": [],
   "source": [
    "# import matplotlib.pyplot as plt\n",
    "from pathlib import Path\n",
    "\n",
    "fpath_epg_result = Path(\"/media/sf_CCPPETMR/TestData/Input/xDynamicSimulation/pDynamicSimulation/Fingerprints/\")\n",
    "\n",
    "fname_epg_input = fpath_input / \"Fingerprinting/XCAT_tissue_parameter_list.npz\"\n",
    "fname_epg_simulation = fpath_input / \"Fingerprinting/XCAT_tissue_parameter_fingerprints.npy\"\n",
    "\n",
    "# re-assign non-unique tissue combinations\n",
    "epg_input = np.load(fname_epg_input)\n",
    "inverse_idx = epg_input[\"unique_idx_inverse\"]\n",
    "inverse_idx.shape\n",
    "\n",
    "#\n",
    "epg_output = np.load(fname_epg_simulation)\n",
    "magnetisation = epg_output[:, inverse_idx]\n",
    "\n",
    "\n",
    "num_sim_acq = magnetisation.shape[0]\n",
    "magnet_subset = np.arange(num_sim_acq)\n",
    "magnetisation = magnetisation[magnet_subset, :]\n",
    "print(magnetisation.shape)"
   ]
  },
  {
   "cell_type": "code",
   "execution_count": null,
   "metadata": {},
   "outputs": [],
   "source": [
    "\n",
    "fname_xml = fpath_input / \"XCAT_TissueParameters_XML.xml\"\n",
    "fname_segmentation = fpath_input / \"segmentation.nii\"\n",
    "segmentation = pReg.NiftiImageData3D(str(fname_segmentation))\n",
    "\n",
    "simulation = pDS.MRDynamicSimulation(segmentation, str(fname_xml))"
   ]
  },
  {
   "cell_type": "code",
   "execution_count": null,
   "metadata": {},
   "outputs": [],
   "source": [
    "fname_acquisition_template = fpath_input / \"acquisition_template.h5\"\n",
    "acquisition_template = pMR.AcquisitionData(str(fname_acquisition_template))\n",
    "\n",
    "num_acquisitions = magnetisation.shape[0]\n",
    "subset_idx = np.arange(num_acquisitions)\n",
    "acquisition_template = acquisition_template.get_subset(subset_idx)\n",
    "\n",
    "acquisition_template = pMR.set_goldenangle2D_trajectory(acquisition_template)\n",
    "\n",
    "simulation.set_template_data(acquisition_template)\n",
    "\n",
    "csm = aux.gaussian_2D_coilmaps(acquisition_template)\n",
    "simulation.set_csm(csm)"
   ]
  },
  {
   "cell_type": "code",
   "execution_count": null,
   "metadata": {},
   "outputs": [],
   "source": [
    "# we add the usual offset transformation\n",
    "offset_x_mm = -168\n",
    "offset_y_mm = -0\n",
    "offset_z_mm = -0\n",
    "rotation_angles_deg = [0,90,0]\n",
    "translation = np.array([offset_x_mm, offset_y_mm, offset_z_mm])\n",
    "euler_angles_deg = np.array(rotation_angles_deg)\n",
    "\n",
    "offset_trafo = pReg.AffineTransformation(translation, euler_angles_deg)\n",
    "simulation.set_offset_trafo(offset_trafo)\n",
    "\n",
    "prefix_output = fpath_output / \"exp_MRF_with_respiration_GT\"\n",
    "simulation.save_parametermap_ground_truth(str(prefix_output))"
   ]
  },
  {
   "cell_type": "markdown",
   "metadata": {},
   "source": [
    "To set up a time-dependant magnetisation we use the same principle as with the motion dynamic:\n",
    "- first we set up a dynamic object\n",
    "- we set the required parameters\n",
    "- we add the dynamic to the simulation"
   ]
  },
  {
   "cell_type": "code",
   "execution_count": null,
   "metadata": {},
   "outputs": [],
   "source": [
    "# now we need to create an external conrast dynamic\n",
    "\n",
    "# say which labels are in the dynamic\n",
    "signal_labels = np.arange(magnetisation.shape[1])\n",
    "magnetisation = np.transpose(magnetisation)\n",
    "\n",
    "mrf_signal = pDS.ExternalMRSignal(signal_labels, magnetisation)\n",
    "mrf_dynamic = pDS.ExternalMRContrastDynamic()\n",
    "mrf_dynamic.add_external_signal(mrf_signal)\n",
    "simulation.add_external_contrast_dynamic(mrf_dynamic)"
   ]
  },
  {
   "cell_type": "code",
   "execution_count": null,
   "metadata": {},
   "outputs": [],
   "source": [
    "# General time axis, let the guy move for 10 minutes\n",
    "Nt = 10000\n",
    "t0_s = 0\n",
    "tmax_s = 60*10"
   ]
  },
  {
   "cell_type": "code",
   "execution_count": null,
   "metadata": {},
   "outputs": [],
   "source": [
    "\n",
    "## and the same drill for the respiration\n",
    "\n",
    "f_Hz_resp = 0.5\n",
    "t_resp, sig_resp = aux.get_normed_sinus_signal(t0_s, tmax_s, Nt, f_Hz_resp)\n",
    "\n",
    "num_sim_resp_states = 10\n",
    "resp_motion = pDS.MRMotionDynamic( num_sim_resp_states )\n",
    "resp_motion.set_dynamic_signal(t_resp, sig_resp)\n",
    "resp_motion.set_cyclicality(False)\n",
    "resp_motion.set_groundtruth_folder_prefix(str(fpath_output / \"gt_resp_mrf/\"))\n",
    "\n",
    "aux.set_motionfields_from_path(resp_motion, str(fpath_input / 'mvfs_resp/'))\n",
    "simulation.add_motion_dynamic(resp_motion)\n",
    "\n",
    "# now we simulate and store it\n",
    "import time\n",
    "tstart = time.time()\n",
    "simulation.simulate_data()\n",
    "print(\"--- Required {} minutes for the simulation.\".format( (time.time()-tstart)/60))\n",
    "\n",
    "fname_output = fpath_output / \"exp_MRF_with_respiration_simulation.h5\"\n",
    "if not fname_output.parent.is_dir():\n",
    "    fname_output.parent.mkdir(parents=True, exist_ok=True)\n",
    "\n",
    "simulation.write_simulation_results(str(fname_output))"
   ]
  },
  {
   "cell_type": "code",
   "execution_count": null,
   "metadata": {},
   "outputs": [],
   "source": [
    "simulated_file = pMR.AcquisitionData(str(fname_output))\n",
    "\n",
    "idx_corr = resp_motion.get_idx_corr(simulated_file)\n",
    "\n",
    "idxbin = 0\n",
    "for mbin in idx_corr:\n",
    "\n",
    "    cdat = simulated_file.get_subset(mbin)\n",
    "    print(f\"We expect {len(mbin)} acquisitions and get {cdat.number()} in motion bin {idxbin}.\")    \n",
    "    crecon = aux.reconstruct_data(cdat)\n",
    "    crecon = pReg.NiftiImageData3D(crecon)\n",
    "    \n",
    "    fname_output = fpath_output / f\"exp_MRF_with_respiration_recon_bin_{idxbin}.nii\"\n",
    "    crecon.write(str(fname_output))\n",
    "    \n",
    "    idxbin+=1"
   ]
  },
  {
   "cell_type": "code",
   "execution_count": null,
   "metadata": {},
   "outputs": [],
   "source": [
    "fname_output = fpath_output / \"exp_MRF_with_respiration_resp_idx.npz\"\n",
    "np.savez(fname_output, idx_corr=idx_corr, t_sec=t_resp, sig=sig_resp, allow_pickle=True)\n"
   ]
  },
  {
   "cell_type": "markdown",
   "metadata": {},
   "source": [
    "### Recap \n",
    "In this notebook we \n",
    "- combined motion dynamics with external contrast dynamics to simulate motion during MRF.\n",
    "\n",
    "_Up next: dictionary matching for the simulated data._"
   ]
  }
 ],
 "metadata": {
  "interpreter": {
   "hash": "30295c5bec572e859485b1ffa5e89b8b3e2022ef6e3e739c1ac40f143a557caf"
  },
  "kernelspec": {
   "display_name": "Python 3",
   "language": "python",
   "name": "python3"
  },
  "language_info": {
   "codemirror_mode": {
    "name": "ipython"
   },
   "file_extension": ".py",
   "mimetype": "text/x-python",
   "name": "python",
   "nbconvert_exporter": "python"
  }
 },
 "nbformat": 4,
 "nbformat_minor": 2
}
