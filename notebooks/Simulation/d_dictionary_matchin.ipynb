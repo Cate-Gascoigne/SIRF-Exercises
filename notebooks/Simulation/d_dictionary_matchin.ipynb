{
 "cells": [
  {
   "cell_type": "markdown",
   "metadata": {},
   "source": [
    "## Notbook D: Dictionary Matching\n",
    "\n",
    "#### Prerequisites:\n",
    "- a simulated rawdata file\n",
    "- a simulated dictionary for matching.\n",
    "\n",
    "#### Goals:\n",
    "- reconstruct time-resolved images containing the MRF signal.\n",
    "- extract T1, T2 and spin density maps from the \n",
    "\n",
    "#### Content overview: \n",
    "- processing the simualted data to contain time-information\n",
    "- reconstructing the data using an inverse FFT\n",
    "- perform dictionary matching\n",
    "- compare with ground truth parameter maps."
   ]
  },
  {
   "cell_type": "code",
   "execution_count": null,
   "metadata": {},
   "outputs": [],
   "source": [
    "from pathlib import Path\n",
    "import os \n",
    "\n",
    "# this is where we store the properly formatted data\n",
    "root_path = Path(os.getenv(\"SIRF_INSTALL_PATH\"))\n",
    "root_path = root_path / \"share/SIRF-3.1/Simulation/\"\n",
    "fpath_input = root_path / \"Output\""
   ]
  },
  {
   "cell_type": "code",
   "execution_count": null,
   "metadata": {},
   "outputs": [],
   "source": [
    "import sirf.Gadgetron as pMR\n",
    "\n",
    "fname_simulated_file = fpath_input / \"output_c_simulate_mrf_static.h5\"\n",
    "ad = pMR.AcquisitionData(str(fname_simulated_file))"
   ]
  },
  {
   "cell_type": "code",
   "execution_count": null,
   "metadata": {},
   "outputs": [],
   "source": [
    "# a quick parse of the header into a dictionary\n",
    "# allows us to modify it quickly such that the reconstruction\n",
    "# can pick up that we want the reconstruction to be time-resolved\n",
    "import xmltodict\n",
    "\n",
    "hdr = ad.get_header()\n",
    "doc = xmltodict.parse(hdr)\n",
    "print(doc['ismrmrdHeader']['encoding']['encodingLimits']['repetition'])\n",
    "\n",
    "doc['ismrmrdHeader']['encoding']['encodingLimits']['repetition']['minimum'] = 0\n",
    "doc['ismrmrdHeader']['encoding']['encodingLimits']['repetition']['center'] = 0\n",
    "doc['ismrmrdHeader']['encoding']['encodingLimits']['repetition']['maximum'] = ad.number()\n",
    "\n",
    "print(doc['ismrmrdHeader']['encoding']['encodingLimits']['repetition'])\n",
    "\n",
    "hdr = xmltodict.unparse(doc)"
   ]
  },
  {
   "cell_type": "code",
   "execution_count": null,
   "metadata": {},
   "outputs": [],
   "source": [
    "# now we make a new container to fill in the modified repetitions\n",
    "ad_resolved = ad.new_acquisition_data()\n",
    "ad_resolved.set_header(hdr)\n",
    "\n",
    "# this way we will reconstruct one image per readout\n",
    "for ia in range(ad.number()):    \n",
    "    acq = ad.acquisition(ia)\n",
    "    acq.set_repetition(ia // 10)\n",
    "    ad_resolved.append_acquisition(acq)\n",
    "ad_resolved.sort_by_time()\n",
    "\n",
    "ad = pMR.set_goldenangle2D_trajectory(ad_resolved)\n",
    "ad_resolved = pMR.set_goldenangle2D_trajectory(ad_resolved)\n",
    "\n"
   ]
  },
  {
   "cell_type": "code",
   "execution_count": null,
   "metadata": {},
   "outputs": [],
   "source": [
    "import auxiliary_functions as aux\n",
    "import numpy as np\n",
    "import time\n",
    "\n",
    "ad = pMR.set_goldenangle2D_trajectory(ad)\n",
    "ad_resolved = pMR.set_goldenangle2D_trajectory(ad_resolved)\n",
    "\n",
    "csm = aux.unity_coilmaps_from_rawdata(ad_resolved)\n",
    "\n",
    "tstart = time.time()\n",
    "recon = aux.reconstruct_data(ad_resolved, csm)\n",
    "print(\"--- Required {} seconds for reconstruction.\".format( (time.time()-tstart)/60))\n",
    "\n",
    "import nibabel as nib\n",
    "img = nib.Nifti1Image(np.abs(recon.as_array()), np.eye(4))\n",
    "nib.save(img,\"/media/sf_CCPPETMR/tmp_mrfresolved_nacq_{}.nii\".format(ad_resolved.number()))"
   ]
  }
 ],
 "metadata": {
  "interpreter": {
   "hash": "30295c5bec572e859485b1ffa5e89b8b3e2022ef6e3e739c1ac40f143a557caf"
  },
  "kernelspec": {
   "display_name": "Python 3.6.9 64-bit",
   "language": "python",
   "name": "python3"
  },
  "language_info": {
   "codemirror_mode": {
    "name": "ipython"
   },
   "file_extension": ".py",
   "mimetype": "text/x-python",
   "name": "python",
   "nbconvert_exporter": "python"
  }
 },
 "nbformat": 4,
 "nbformat_minor": 2
}
