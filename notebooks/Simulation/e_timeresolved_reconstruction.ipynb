{
 "cells": [
  {
   "cell_type": "markdown",
   "metadata": {},
   "source": [
    "## Notbook D: Dictionary Matching\n",
    "\n",
    "#### Prerequisites:\n",
    "- a simulated rawdata file\n",
    "- a simulated dictionary for matching.\n",
    "\n",
    "#### Goals:\n",
    "- reconstruct time-resolved images containing the MRF signal.\n",
    "- extract T1, T2 and spin density maps from the \n",
    "\n",
    "#### Content overview: \n",
    "- processing the simualted data to contain time-information\n",
    "- reconstructing the data using an inverse FFT\n",
    "- perform dictionary matching\n",
    "- compare with ground truth parameter maps."
   ]
  },
  {
   "cell_type": "code",
   "execution_count": null,
   "metadata": {},
   "outputs": [],
   "source": [
    "from pathlib import Path\n",
    "import os \n",
    "\n",
    "# this is where we store the properly formatted data\n",
    "root_path = Path(os.getenv(\"SIRF_INSTALL_PATH\"))\n",
    "root_path = root_path / \"share/SIRF-3.1/Simulation/\"\n",
    "fpath_input = root_path / \"Output\""
   ]
  },
  {
   "cell_type": "code",
   "execution_count": null,
   "metadata": {},
   "outputs": [],
   "source": [
    "import sirf.Gadgetron as pMR\n",
    "\n",
    "fname_simulated_file = fpath_input / \"output_c_simulate_mrf_static.h5\"\n",
    "ad = pMR.AcquisitionData(str(fname_simulated_file))"
   ]
  },
  {
   "cell_type": "code",
   "execution_count": null,
   "metadata": {},
   "outputs": [],
   "source": [
    "\n",
    "# activate time-resolved reconstructions\n",
    "# details can be found in auxiliary functions\n",
    "num_recon_imgs = 150\n",
    "ad = aux.activate_timeresolved_reconstruction(num_recon_imgs)\n",
    "ad = pMR.set_goldenangle2D_trajectory(ad)"
   ]
  },
  {
   "cell_type": "code",
   "execution_count": null,
   "metadata": {},
   "outputs": [],
   "source": [
    "import auxiliary_functions as aux\n",
    "import time\n",
    "import numpy as np \n",
    "\n",
    "tstart = time.time()\n",
    "csm = aux.unity_coilmaps_from_rawdata(ad)\n",
    "print(\"--- Required {} seconds for setting up the coilmaps.\".format( time.time()-tstart))\n",
    "\n",
    "tstart = time.time()\n",
    "recon = aux.reconstruct_data(ad, csm)\n",
    "print(\"--- Required {} seconds for reconstruction.\".format( time.time()-tstart))\n",
    "\n",
    "import nibabel as nib\n",
    "img = nib.Nifti1Image(np.abs(recon.as_array()), np.eye(4))\n",
    "nib.save(img,\"/media/sf_CCPPETMR/tmp_mrfresolved_nacq_{}.nii\".format(num_recon_imgs))\n",
    "\n",
    "\n",
    "\n"
   ]
  },
  {
   "cell_type": "code",
   "execution_count": null,
   "metadata": {},
   "outputs": [],
   "source": []
  }
 ],
 "metadata": {
  "interpreter": {
   "hash": "30295c5bec572e859485b1ffa5e89b8b3e2022ef6e3e739c1ac40f143a557caf"
  },
  "kernelspec": {
   "display_name": "Python 3.6.9 64-bit",
   "language": "python",
   "name": "python3"
  },
  "language_info": {
   "codemirror_mode": {
    "name": "ipython"
   },
   "file_extension": ".py",
   "mimetype": "text/x-python",
   "name": "python",
   "nbconvert_exporter": "python"
  }
 },
 "nbformat": 4,
 "nbformat_minor": 2
}
