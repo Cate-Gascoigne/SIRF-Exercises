{
 "cells": [
  {
   "cell_type": "markdown",
   "metadata": {},
   "source": [
    "## Notbook E: Time-resolved reconstruction\n",
    "\n",
    "#### Prerequisites:\n",
    "- a simulated rawdata file containing time-varying magnetisation.\n",
    "\n",
    "#### Goals:\n",
    "- reconstruct time-resolved images containing the MRF signal.\n",
    "\n",
    "#### Content overview: \n",
    "- setting up time-resolved coilmaps for reconstruction\n",
    "- reconstructing the data using a pseudo-inverse "
   ]
  },
  {
   "cell_type": "code",
   "execution_count": null,
   "metadata": {},
   "outputs": [],
   "source": [
    "from pathlib import Path\n",
    "import os \n",
    "import auxiliary_functions as aux\n",
    "import time\n",
    "import numpy as np \n",
    "import sirf.Gadgetron as pMR\n",
    "import matplotlib.pyplot as plt\n",
    "\n",
    "# this is where we store the properly formatted data\n",
    "root_path = Path(os.getenv(\"SIRF_INSTALL_PATH\"))\n",
    "root_path = root_path / \"share/SIRF-3.1/Simulation/\"\n",
    "fpath_input = root_path / \"Output\""
   ]
  },
  {
   "cell_type": "code",
   "execution_count": null,
   "metadata": {},
   "outputs": [],
   "source": [
    "# load the simulated mrf acquisition\n",
    "fname_simulated_file = fpath_input / \"output_d_simulate_mrf_static_1500.h5\"\n",
    "ad = pMR.AcquisitionData(str(fname_simulated_file))"
   ]
  },
  {
   "cell_type": "code",
   "execution_count": null,
   "metadata": {},
   "outputs": [],
   "source": [
    "# first compute the CSM based on all data\n",
    "csm = pMR.CoilSensitivityData()\n",
    "csm.smoothness = 50\n",
    "csm.calculate(ad)\n",
    "csm_arr = csm.as_array()\n",
    "\n",
    "print(csm_arr.shape)\n"
   ]
  },
  {
   "cell_type": "code",
   "execution_count": null,
   "metadata": {},
   "outputs": [],
   "source": [
    "\n",
    "# then activate the time-resolved reconstruction in repetition dimension\n",
    "num_recon_imgs = 250\n",
    "ad = aux.activate_timeresolved_reconstruction(ad, num_recon_imgs)\n",
    "\n",
    "# set up a new CSM based on the time-resolved acquisition data\n",
    "csm = pMR.CoilSensitivityData()\n",
    "# this step sets up a time-resolved coilmap. The reconstruction checks if for each\n",
    "# time point a coilmap is present. \n",
    "csm.calculate(ad) "
   ]
  },
  {
   "cell_type": "code",
   "execution_count": null,
   "metadata": {},
   "outputs": [],
   "source": [
    "\n",
    "# But we want to use the coilmap that was computed from the entire dataset\n",
    "# so we give every repetition the same coilmap\n",
    "num_reps = csm.as_array().shape[1]\n",
    "print(num_reps)\n",
    "csm_arr = np.tile(csm_arr, (1,num_reps,1,1))\n",
    "\n",
    "# unfortunately these two axes have to be swapped.\n",
    "csm_arr = np.swapaxes(csm_arr, 0, 1)\n",
    "csm = csm.fill(csm_arr.astype(csm.as_array().dtype))"
   ]
  },
  {
   "cell_type": "code",
   "execution_count": null,
   "metadata": {},
   "outputs": [],
   "source": [
    "\n",
    "tstart = time.time()\n",
    "recon = aux.reconstruct_data(ad, csm)\n",
    "print(\"--- Required {} seconds for reconstruction.\".format( time.time()-tstart))\n",
    "\n",
    "import nibabel as nib\n",
    "img = nib.Nifti1Image(np.abs(recon.as_array()), np.eye(4))\n",
    "nib.save(img,\"/media/sf_CCPPETMR/tmp_mrfresolved_nacq_{}.nii\".format(num_recon_imgs))"
   ]
  },
  {
   "cell_type": "markdown",
   "metadata": {},
   "source": [
    "This took quite some time to reconstrut so we store this time-resolved data and reconstruction so we can quickly access them for the next notebook"
   ]
  },
  {
   "cell_type": "code",
   "execution_count": null,
   "metadata": {},
   "outputs": [],
   "source": [
    "\n",
    "fname_timeresolved_ad = fpath_input / \"output_e_timeresolved_mrf_simulation.h5\"\n",
    "ad.write(str(fname_timeresolved_ad))\n",
    "\n",
    "fname_timeresolved_recon = fpath_input / \"output_e_timeresolved_recon_mrf_simulation.npy\"\n",
    "np.save(fname_timeresolved_recon, recon.as_array())"
   ]
  },
  {
   "cell_type": "markdown",
   "metadata": {},
   "source": [
    "### Recap\n",
    "In this notebook we:\n",
    "- set up time-resolved acquisition data\n",
    "- constructed a time-resolved coilmap from the entire dataset\n",
    "- performed a time-resolved reconstruction of the MRF dataset.\n",
    "\n",
    "__Up next: dictionary-matching to create T1 and T2 maps.__"
   ]
  }
 ],
 "metadata": {
  "interpreter": {
   "hash": "30295c5bec572e859485b1ffa5e89b8b3e2022ef6e3e739c1ac40f143a557caf"
  },
  "kernelspec": {
   "display_name": "Python 3",
   "language": "python",
   "name": "python3"
  },
  "language_info": {
   "codemirror_mode": {
    "name": "ipython"
   },
   "file_extension": ".py",
   "mimetype": "text/x-python",
   "name": "python",
   "nbconvert_exporter": "python"
  }
 },
 "nbformat": 4,
 "nbformat_minor": 2
}
