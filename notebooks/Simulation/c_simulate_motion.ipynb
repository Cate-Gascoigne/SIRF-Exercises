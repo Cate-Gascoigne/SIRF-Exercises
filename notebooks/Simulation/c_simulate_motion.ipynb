{
 "cells": [
  {
   "cell_type": "markdown",
   "metadata": {},
   "source": [
    "## Notbook D: Adding motion to the simulation\n",
    "\n",
    "#### Prerequisites:\n",
    "- segmentation and motion fields\n",
    "- acquisition template rawdata\n",
    "\n",
    "#### Goals:\n",
    "- Simulating a steady-state sequence including motion\n",
    "\n",
    "#### Content overview: \n",
    "- generating a surrogate signal\n",
    "- combining surrogate signal and motion model\n",
    "- adding both cardiac and respiratory motion to the simulation\n",
    "- storing the ground truth motion information"
   ]
  },
  {
   "cell_type": "code",
   "execution_count": null,
   "metadata": {},
   "outputs": [],
   "source": [
    "# first we need to set up the simulation again\n",
    "\n",
    "from pathlib import Path\n",
    "import os\n",
    "import numpy as np \n",
    "import sirf.Gadgetron as pMR\n",
    "import sirf.Reg as pReg\n",
    "import sirf.DynamicSimulation as pDS\n",
    "import auxiliary_functions as aux\n",
    "\n",
    "root_path = Path(os.getenv(\"SIRF_INSTALL_PATH\"))\n",
    "root_path = root_path / \"share/SIRF-3.1/Simulation/\"\n",
    "fpath_input = root_path / \"Input\"\n"
   ]
  },
  {
   "cell_type": "code",
   "execution_count": null,
   "metadata": {},
   "outputs": [],
   "source": [
    "#these steps just repeat the previous notebook\n",
    "# set up simulation as we know it from before\n",
    "fname_xml = fpath_input / \"XCAT_TissueParameters_XML.xml\"\n",
    "fname_segmentation = fpath_input / \"segmentation.nii\"\n",
    "\n",
    "segmentation = pReg.NiftiImageData3D(str(fname_segmentation))\n",
    "simulation = pDS.MRDynamicSimulation(segmentation, str(fname_xml))\n",
    "\n",
    "# fname_contrast_template = fpath_input / \"contrast_template.h5\"\n",
    "# contrast_template = pMR.AcquisitionData(str(fname_contrast_template))\n",
    "# contrast_template = pMR.preprocess_acquisition_data(contrast_template)\n",
    "\n",
    "fname_acquisition_template = fpath_input / \"acquisition_template.h5\"\n",
    "acquisition_template = pMR.AcquisitionData(str(fname_acquisition_template))\n",
    "\n",
    "num_acq_subset = 256\n",
    "subset = np.arange(num_acq_subset)\n",
    "acquisition_template = acquisition_template.get_subset(subset)\n",
    "\n",
    "# simulation.set_contrast_template_data(contrast_template)\n",
    "simulation.set_contrast_template_data(acquisition_template)\n",
    "\n",
    "# to activate a golden-angle 2D encoding model we only need to set the trajectory\n",
    "acquisition_template = pMR.set_goldenangle2D_trajectory(acquisition_template)\n",
    "simulation.set_acquisition_template_data(acquisition_template)\n",
    "\n",
    "# compute the CSM from the raw data itself\n",
    "csm = pMR.CoilSensitivityData()\n",
    "csm.smoothness = 50\n",
    "csm.calculate(acquisition_template)\n",
    "\n",
    "# you can potentially keep \n",
    "# however, then you need to set the trajectory above that the rawdata used for sampling.\n",
    "csm_datatype = csm.as_array().dtype\n",
    "csm_shape = csm.as_array().shape\n",
    "unity_csm = np.ones(shape=csm_shape, dtype=csm_datatype)\n",
    "csm.fill(unity_csm)\n",
    "\n",
    "simulation.set_csm(csm)\n",
    "\n",
    "\n",
    "# we set up our transformation to get a 4-chamber view\n",
    "offset_x_mm = 0\n",
    "offset_y_mm = 0\n",
    "offset_z_mm = -4.5\n",
    "rotation_angles_deg = [0,0,0]\n",
    "translation = np.array([offset_x_mm, offset_y_mm, offset_z_mm])\n",
    "euler_angles_deg = np.array(rotation_angles_deg)\n",
    "\n",
    "offset_trafo = pReg.AffineTransformation(translation, euler_angles_deg)\n",
    "simulation.set_offset_trafo(offset_trafo)\n",
    "\n",
    "# without external signal you can set an SNR\n",
    "SNR = 10\n",
    "SNR_label = 13\n",
    "\n",
    "simulation.set_snr(SNR)\n",
    "simulation.set_snr_label(SNR_label)\n",
    "simulation.simulate_data()\n",
    "\n",
    "# now we simulate and \n",
    "fname_output = root_path / \"Output/output_c_simulate_motion_static.h5\"\n",
    "if not fname_output.parent.is_dir():\n",
    "    fname_output.parent.mkdir(parents=True, exist_ok=True)\n",
    "\n",
    "simulation.write_simulation_results(str(fname_output))\n"
   ]
  },
  {
   "cell_type": "code",
   "execution_count": null,
   "metadata": {},
   "outputs": [],
   "source": [
    "simulated_file = pMR.AcquisitionData(str(fname_output))\n",
    "recon_resp = aux.iterative_reconstruct_data(simulated_file)\n",
    "\n",
    "recon_resp = pReg.NiftiImageData3D(recon_resp)\n",
    "recon_resp.write('/media/sf_CCPPETMR/tmp_c_stat.nii')"
   ]
  },
  {
   "cell_type": "markdown",
   "metadata": {},
   "source": [
    "### Motion Dynamics\n",
    "To add motion to the simulation we need to construct an object called a MotionDynamic.\n",
    "They consist of two things:\n",
    "- a surrogate signal\n",
    "- a set of displacement vector fields\n",
    "\n",
    "Furthermore you need to define \n",
    "- how many motion states you want to simulate.\n",
    "- where the ground truth should be stored to."
   ]
  },
  {
   "cell_type": "code",
   "execution_count": null,
   "metadata": {},
   "outputs": [],
   "source": [
    "import matplotlib.pyplot as plt\n",
    "\n",
    "Nt = 10000\n",
    "t0_s = 0\n",
    "tmax_s = 60* 1 \n",
    "f_Hz_resp = 0.25\n",
    "\n",
    "t_resp, sig_resp = aux.get_normed_sinus_signal(t0_s, tmax_s, Nt, f_Hz_resp)\n",
    "\n",
    "plt.figure()\n",
    "plt.plot(t_resp, sig_resp)\n",
    "plt.xlabel(\"time(sec)\")\n",
    "plt.ylabel(\"sig (a.u.)\")\n",
    "plt.title(\"Respiration signal\")\n",
    "plt.show()"
   ]
  },
  {
   "cell_type": "code",
   "execution_count": null,
   "metadata": {},
   "outputs": [],
   "source": [
    "# configure the motion\n",
    "num_motion_states = 3\n",
    "\n",
    "# RESP\n",
    "num_sim_resp_states = num_motion_states\n",
    "resp_motion = pDS.MRMotionDynamic( num_sim_resp_states )\n",
    "resp_motion.set_dynamic_signal(t_resp, sig_resp)\n",
    "resp_motion.set_cyclicality(False)\n",
    "resp_motion.set_groundtruth_folder_prefix(str(root_path / \"Output/gt_resp/\"))\n",
    "\n",
    "aux.set_motionfields_from_path(resp_motion, str(fpath_input / 'mvfs_resp/'))\n",
    "simulation.add_motion_dynamic(resp_motion)"
   ]
  },
  {
   "cell_type": "code",
   "execution_count": null,
   "metadata": {},
   "outputs": [],
   "source": [
    "simulation.simulate_data()\n",
    "\n",
    "# now we simulate and \n",
    "fname_output = root_path / \"Output/output_c_simulate_motion_breathing.h5\"\n",
    "if not fname_output.parent.is_dir():\n",
    "    fname_output.parent.mkdir(parents=True, exist_ok=True)\n",
    "\n",
    "simulation.write_simulation_results(str(fname_output))"
   ]
  },
  {
   "cell_type": "code",
   "execution_count": null,
   "metadata": {},
   "outputs": [],
   "source": [
    "\n",
    "simulated_file = pMR.AcquisitionData(str(fname_output))\n",
    "\n",
    "recon_resp = aux.iterative_reconstruct_data(simulated_file)\n",
    "recon_resp = pReg.NiftiImageData3D(recon_resp)\n",
    "recon_resp.write('/media/sf_CCPPETMR/tmp_c_resp.nii')"
   ]
  },
  {
   "cell_type": "code",
   "execution_count": null,
   "metadata": {},
   "outputs": [],
   "source": [
    "Nt = 10000\n",
    "t0_s = 0\n",
    "tmax_s = 60*0.25 \n",
    "f_Hz_card = 1.25\n",
    "\n",
    "t_card, sig_card = aux.get_normed_sawtooth_signal(t0_s, tmax_s, Nt, f_Hz_card)\n",
    "\n",
    "plt.figure()\n",
    "plt.plot(t_card, sig_card)\n",
    "plt.xlabel(\"time(sec)\")\n",
    "plt.ylabel(\"sig (a.u.)\")\n",
    "plt.title(\"ECG\")\n",
    "plt.show()"
   ]
  },
  {
   "cell_type": "code",
   "execution_count": null,
   "metadata": {},
   "outputs": [],
   "source": [
    "# CARD\n",
    "num_sim_card_states = num_motion_states\n",
    "card_motion = pDS.MRMotionDynamic( num_sim_card_states )\n",
    "card_motion.set_dynamic_signal(t_card, sig_card)\n",
    "card_motion.set_cyclicality(False)\n",
    "card_motion.set_groundtruth_folder_prefix(str(root_path / \"Output/gt_card/\"))\n",
    "\n",
    "aux.set_motionfields_from_path(card_motion, str(fpath_input / 'mvfs_card/'))\n",
    "simulation.add_motion_dynamic(card_motion)\n",
    "\n"
   ]
  },
  {
   "cell_type": "code",
   "execution_count": null,
   "metadata": {},
   "outputs": [],
   "source": [
    "simulation.simulate_data()\n",
    "\n",
    "# now we simulate and \n",
    "fname_output = root_path / \"Output/output_c_simulate_motion_cardio_respiratory.h5\"\n",
    "if not fname_output.parent.is_dir():\n",
    "    fname_output.parent.mkdir(parents=True, exist_ok=True)\n",
    "\n",
    "simulation.write_simulation_results(str(fname_output))"
   ]
  },
  {
   "cell_type": "code",
   "execution_count": null,
   "metadata": {},
   "outputs": [],
   "source": [
    "\n",
    "simulated_file = pMR.AcquisitionData(str(fname_output))\n",
    "\n",
    "recon_card = aux.iterative_reconstruct_data(simulated_file)\n",
    "recon_card = pReg.NiftiImageData3D(recon_resp)\n",
    "recon_card.write('/media/sf_CCPPETMR/tmp_c_cardresp.nii')"
   ]
  }
 ],
 "metadata": {
  "interpreter": {
   "hash": "30295c5bec572e859485b1ffa5e89b8b3e2022ef6e3e739c1ac40f143a557caf"
  },
  "kernelspec": {
   "display_name": "Python 3",
   "language": "python",
   "name": "python3"
  },
  "language_info": {
   "codemirror_mode": {
    "name": "ipython"
   },
   "file_extension": ".py",
   "mimetype": "text/x-python",
   "name": "python",
   "nbconvert_exporter": "python"
  }
 },
 "nbformat": 4,
 "nbformat_minor": 2
}
