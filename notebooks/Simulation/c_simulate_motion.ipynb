{
 "cells": [
  {
   "cell_type": "markdown",
   "metadata": {},
   "source": [
    "## Notbook D: Adding motion to the simulation\n",
    "\n",
    "#### Prerequisites:\n",
    "- segmentation and motion fields\n",
    "- acquisition template rawdata\n",
    "\n",
    "#### Goals:\n",
    "- Simulating a steady-state sequence including motion\n",
    "\n",
    "#### Content overview: \n",
    "- generating a surrogate signal\n",
    "- combining surrogate signal and motion model\n",
    "- adding both cardiac and respiratory motion to the simulation\n",
    "- storing the ground truth motion information"
   ]
  },
  {
   "cell_type": "code",
   "execution_count": null,
   "metadata": {},
   "outputs": [],
   "source": [
    "# first we need to set up the simulation again\n",
    "\n",
    "from pathlib import Path\n",
    "import os\n",
    "import numpy as np \n",
    "\n",
    "import matplotlib.pyplot as plt\n",
    "plt.rcParams['figure.figsize'] = [15,7.5]\n",
    "\n",
    "import sirf.Gadgetron as pMR\n",
    "import sirf.Reg as pReg\n",
    "import sirf.DynamicSimulation as pDS\n",
    "\n",
    "import auxiliary_functions as aux\n",
    "\n",
    "\n",
    "root_path = Path(os.getenv(\"SIRF_INSTALL_PATH\"))\n",
    "root_path = root_path / \"share/SIRF-3.1/Simulation/\"\n",
    "fpath_input = root_path / \"Input\"\n"
   ]
  },
  {
   "cell_type": "code",
   "execution_count": null,
   "metadata": {},
   "outputs": [],
   "source": [
    "#these steps just repeat the previous notebook\n",
    "# set up simulation as we know it from before\n",
    "fname_xml = fpath_input / \"XCAT_TissueParameters_XML.xml\"\n",
    "fname_segmentation = fpath_input / \"segmentation.nii\"\n",
    "\n",
    "segmentation = pReg.NiftiImageData3D(str(fname_segmentation))\n",
    "simulation = pDS.MRDynamicSimulation(segmentation, str(fname_xml))\n",
    "\n",
    "# fname_contrast_template = fpath_input / \"contrast_template.h5\"\n",
    "# contrast_template = pMR.AcquisitionData(str(fname_contrast_template))\n",
    "# contrast_template = pMR.preprocess_acquisition_data(contrast_template)\n",
    "\n",
    "fname_acquisition_template = fpath_input / \"acquisition_template.h5\"\n",
    "acquisition_template = pMR.AcquisitionData(str(fname_acquisition_template))\n",
    "\n",
    "num_acq_subset = 128\n",
    "subset = np.arange(num_acq_subset)\n",
    "acquisition_template = acquisition_template.get_subset(subset)\n",
    "\n",
    "# simulation.set_contrast_template_data(contrast_template)\n",
    "simulation.set_contrast_template_data(acquisition_template)\n",
    "\n",
    "# to activate a golden-angle 2D encoding model we only need to set the trajectory\n",
    "acquisition_template = pMR.set_goldenangle2D_trajectory(acquisition_template)\n",
    "simulation.set_acquisition_template_data(acquisition_template)\n",
    "\n",
    "# get example gaussian coilmaps\n",
    "csm = aux.gaussian_2D_coilmaps(acquisition_template)\n",
    "simulation.set_csm(csm)\n",
    "\n",
    "# we set up our transformation to get a 4-chamber view\n",
    "offset_x_mm = 0\n",
    "offset_y_mm = 0\n",
    "offset_z_mm = -4.5\n",
    "rotation_angles_deg = [0,0,0]\n",
    "translation = np.array([offset_x_mm, offset_y_mm, offset_z_mm])\n",
    "euler_angles_deg = np.array(rotation_angles_deg)\n",
    "\n",
    "offset_trafo = pReg.AffineTransformation(translation, euler_angles_deg)\n",
    "simulation.set_offset_trafo(offset_trafo)\n",
    "\n",
    "# without external signal you can set an SNR\n",
    "SNR = 10\n",
    "SNR_label = 13\n",
    "\n",
    "simulation.set_snr(SNR)\n",
    "simulation.set_snr_label(SNR_label)\n",
    "\n"
   ]
  },
  {
   "cell_type": "code",
   "execution_count": null,
   "metadata": {},
   "outputs": [],
   "source": [
    "simulation.simulate_data()\n",
    "\n",
    "# now we simulate and \n",
    "fname_output = root_path / \"Output/output_c_simulate_motion_static.h5\"\n",
    "if not fname_output.parent.is_dir():\n",
    "    fname_output.parent.mkdir(parents=True, exist_ok=True)\n",
    "\n",
    "simulation.write_simulation_results(str(fname_output))\n",
    "\n",
    "\n",
    "simulated_file = pMR.AcquisitionData(str(fname_output))\n",
    "recon_stat = aux.iterative_reconstruct_data(simulated_file)\n",
    "\n",
    "recon_stat = pReg.NiftiImageData3D(recon_stat)\n",
    "recon_stat.write('/media/sf_CCPPETMR/tmp_c_stat.nii')"
   ]
  },
  {
   "cell_type": "markdown",
   "metadata": {},
   "source": [
    "### Motion Dynamics\n",
    "To add motion to the simulation we need to construct an object called a MotionDynamic.\n",
    "They consist of two things:\n",
    "- a surrogate signal\n",
    "- a set of displacement vector fields\n",
    "\n",
    "Furthermore you need to define \n",
    "- how many motion states you want to simulate.\n",
    "- where the ground truth should be stored to."
   ]
  },
  {
   "cell_type": "code",
   "execution_count": null,
   "metadata": {},
   "outputs": [],
   "source": [
    "Nt = 10000\n",
    "t0_s = 0\n",
    "tmax_s = 60* 1 \n",
    "f_Hz_resp = 0.25\n",
    "\n",
    "t_resp, sig_resp = aux.get_normed_sinus_signal(t0_s, tmax_s, Nt, f_Hz_resp)\n",
    "\n",
    "plt.figure()\n",
    "plt.plot(t_resp, sig_resp)\n",
    "plt.xlabel(\"time(sec)\")\n",
    "plt.ylabel(\"sig (a.u.)\")\n",
    "plt.title(\"Respiration signal\")\n",
    "plt.show()"
   ]
  },
  {
   "cell_type": "code",
   "execution_count": null,
   "metadata": {},
   "outputs": [],
   "source": [
    "# configure the motion\n",
    "num_motion_states = 3\n",
    "\n",
    "# RESP\n",
    "num_sim_resp_states = num_motion_states\n",
    "resp_motion = pDS.MRMotionDynamic( num_sim_resp_states )\n",
    "resp_motion.set_dynamic_signal(t_resp, sig_resp)\n",
    "resp_motion.set_cyclicality(False)\n",
    "resp_motion.set_groundtruth_folder_prefix(str(root_path / \"Output/gt_resp/\"))\n",
    "\n",
    "aux.set_motionfields_from_path(resp_motion, str(fpath_input / 'mvfs_resp/'))\n",
    "simulation.add_motion_dynamic(resp_motion)"
   ]
  },
  {
   "cell_type": "code",
   "execution_count": null,
   "metadata": {},
   "outputs": [],
   "source": [
    "simulation.simulate_data()\n",
    "\n",
    "# now we simulate and \n",
    "fname_output = root_path / \"Output/output_c_simulate_motion_breathing.h5\"\n",
    "if not fname_output.parent.is_dir():\n",
    "    fname_output.parent.mkdir(parents=True, exist_ok=True)\n",
    "\n",
    "simulation.write_simulation_results(str(fname_output))"
   ]
  },
  {
   "cell_type": "code",
   "execution_count": null,
   "metadata": {},
   "outputs": [],
   "source": [
    "\n",
    "simulated_file = pMR.AcquisitionData(str(fname_output))\n",
    "\n",
    "recon_resp = aux.iterative_reconstruct_data(simulated_file)\n",
    "recon_resp = pReg.NiftiImageData3D(recon_resp)\n",
    "recon_resp.write('/media/sf_CCPPETMR/tmp_c_resp.nii')"
   ]
  },
  {
   "cell_type": "code",
   "execution_count": null,
   "metadata": {},
   "outputs": [],
   "source": [
    "Nt = 10000\n",
    "t0_s = 0\n",
    "tmax_s = 60*0.25 \n",
    "f_Hz_card = 1.25\n",
    "\n",
    "t_card, sig_card = aux.get_normed_sawtooth_signal(t0_s, tmax_s, Nt, f_Hz_card)\n",
    "\n",
    "plt.figure()\n",
    "plt.plot(t_card, sig_card)\n",
    "plt.xlabel(\"time(sec)\")\n",
    "plt.ylabel(\"sig (a.u.)\")\n",
    "plt.title(\"ECG\")\n",
    "plt.show()"
   ]
  },
  {
   "cell_type": "markdown",
   "metadata": {},
   "source": [
    "__The order of motion dynamics matters!__\n",
    "\n",
    "The more linear motion dynamic (i.e. the respiration) has to be added first. Otherwise the non-linear parts will influence each other."
   ]
  },
  {
   "cell_type": "code",
   "execution_count": null,
   "metadata": {},
   "outputs": [],
   "source": [
    "# CARD\n",
    "num_sim_card_states = num_motion_states\n",
    "card_motion = pDS.MRMotionDynamic( num_sim_card_states )\n",
    "card_motion.set_dynamic_signal(t_card, sig_card)\n",
    "card_motion.set_cyclicality(True)\n",
    "card_motion.set_groundtruth_folder_prefix(str(root_path / \"Output/gt_card/\"))\n",
    "\n",
    "aux.set_motionfields_from_path(card_motion, str(fpath_input / 'mvfs_card/'))\n",
    "simulation.add_motion_dynamic(card_motion)\n",
    "\n"
   ]
  },
  {
   "cell_type": "code",
   "execution_count": null,
   "metadata": {},
   "outputs": [],
   "source": [
    "simulation.simulate_data()\n",
    "\n",
    "# now we simulate and \n",
    "fname_output = root_path / \"Output/output_c_simulate_motion_cardio_respiratory.h5\"\n",
    "if not fname_output.parent.is_dir():\n",
    "    fname_output.parent.mkdir(parents=True, exist_ok=True)\n",
    "\n",
    "simulation.write_simulation_results(str(fname_output))"
   ]
  },
  {
   "cell_type": "code",
   "execution_count": null,
   "metadata": {},
   "outputs": [],
   "source": [
    "print(\"Reading {}.\".format(fname_output))\n",
    "simulated_file = pMR.AcquisitionData(str(fname_output))\n",
    "\n",
    "recon_card = aux.iterative_reconstruct_data(simulated_file)\n",
    "recon_card = pReg.NiftiImageData3D(recon_card)\n",
    "recon_card.write('/media/sf_CCPPETMR/tmp_c_cardresp.nii')"
   ]
  },
  {
   "cell_type": "code",
   "execution_count": null,
   "metadata": {},
   "outputs": [],
   "source": [
    "f,ax = plt.subplots(1,3)\n",
    "ax[0].imshow(np.transpose(np.abs(recon_stat.as_array())),cmap='gray')\n",
    "ax[0].axis('off')\n",
    "ax[0].set_title('No motion.')\n",
    "ax[1].imshow(np.transpose(np.abs(recon_resp.as_array())),cmap='gray')\n",
    "ax[1].axis('off')\n",
    "ax[1].set_title('Respiratory motion.')\n",
    "ax[2].imshow(np.transpose(np.abs(recon_card.as_array())),cmap='gray')\n",
    "ax[2].axis('off')\n",
    "ax[2].set_title('Cardio-respiratory motion.')\n",
    "plt.show()"
   ]
  },
  {
   "cell_type": "markdown",
   "metadata": {},
   "source": [
    "### Recap \n",
    "In this notebook we \n",
    "- introduced motion dynamics\n",
    "- simulated respiratory motion\n",
    "- simulated simultaneous cardiac and respiratory motion\n",
    "- assessed the appearing artefacts in the reconstruction\n",
    "\n",
    "__Up next: simulating a time-dependent magnetisation.__"
   ]
  }
 ],
 "metadata": {
  "interpreter": {
   "hash": "30295c5bec572e859485b1ffa5e89b8b3e2022ef6e3e739c1ac40f143a557caf"
  },
  "kernelspec": {
   "display_name": "Python 3",
   "language": "python",
   "name": "python3"
  },
  "language_info": {
   "codemirror_mode": {
    "name": "ipython"
   },
   "file_extension": ".py",
   "mimetype": "text/x-python",
   "name": "python",
   "nbconvert_exporter": "python"
  }
 },
 "nbformat": 4,
 "nbformat_minor": 2
}
