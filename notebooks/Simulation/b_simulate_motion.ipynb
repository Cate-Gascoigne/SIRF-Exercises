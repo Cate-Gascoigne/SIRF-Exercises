{
 "cells": [
  {
   "cell_type": "markdown",
   "metadata": {},
   "source": [
    "## Notbook B: How to simulate MR data with motion artefacts\n",
    "\n",
    "#### Prerequisites:\n",
    "- basic knowledge of Python \n",
    "- formatted input data\n",
    "\n",
    "#### Goals:\n",
    "- simulating a 2D MR rawdata set with cardio-respiratory motion\n",
    "\n",
    "#### Content overview: \n",
    "- using simulation to store ground truth T1, T2 and spin density maps"
   ]
  },
  {
   "cell_type": "markdown",
   "metadata": {},
   "source": [
    "### Simulation and Dynamics\n",
    "The simulation has a "
   ]
  },
  {
   "cell_type": "code",
   "execution_count": null,
   "metadata": {},
   "outputs": [],
   "source": [
    "from pathlib import Path\n",
    "import os \n",
    "\n",
    "# this is where we store the properly formatted data\n",
    "root_path = Path(os.getenv(\"SIRF_INSTALL_PATH\"))\n",
    "root_path = root_path / \"share/SIRF-3.1/Simulation/\"\n",
    "fpath_input = root_path / \"Input\"\n"
   ]
  },
  {
   "cell_type": "code",
   "execution_count": null,
   "metadata": {},
   "outputs": [],
   "source": [
    "\n",
    "import sirf.DynamicSimulation as pDS\n",
    "import sirf.Reg as pReg\n",
    "\n",
    "# set up simulation as we know it from before\n",
    "fname_xml = fpath_input / \"XCAT_TissueParameters_XML.xml\"\n",
    "fname_segmentation = fpath_input / \"segmentation.nii\"\n",
    "\n",
    "segmentation = pReg.NiftiImageData3D(str(fname_segmentation))\n",
    "simulation = pDS.MRDynamicSimulation(segmentation, str(fname_xml))\n"
   ]
  },
  {
   "cell_type": "code",
   "execution_count": null,
   "metadata": {},
   "outputs": [],
   "source": [
    "# without external signal you can set an SNR\n",
    "SNR = 10\n",
    "SNR_label = 13\n",
    "\n",
    "simulation.set_snr(SNR)\n",
    "simulation.set_snr_label(SNR_label)"
   ]
  },
  {
   "cell_type": "code",
   "execution_count": null,
   "metadata": {},
   "outputs": [],
   "source": [
    "import sirf.Gadgetron as pMR\n",
    "\n",
    "fname_contrast_template = fpath_input / \"contrast_template.h5\"\n",
    "contrast_template = pMR.AcquisitionData(str(fname_contrast_template))\n",
    "contrast_template = pMR.preprocess_acquisition_data(contrast_template)\n",
    "\n",
    "fname_acquisition_template = fpath_input / \"acquisition_template.h5\"\n",
    "acquisition_template = pMR.AcquisitionData(str(fname_acquisition_template))\n",
    "\n",
    "simulation.set_contrast_template_data(contrast_template)\n",
    "\n"
   ]
  },
  {
   "cell_type": "code",
   "execution_count": null,
   "metadata": {},
   "outputs": [],
   "source": [
    "\n",
    "import numpy as np \n",
    "\n",
    "# to activate a golden-angle 2D encoding model we only need to set the trajectory\n",
    "acquisition_template = pMR.set_goldenangle2D_trajectory(acquisition_template)\n",
    "simulation.set_acquisition_template_data(acquisition_template)\n",
    "\n",
    "# compute the CSM from the raw data itself\n",
    "csm = pMR.CoilSensitivityData()\n",
    "csm.smoothness = 50\n",
    "csm.calculate(acquisition_template)\n",
    "\n",
    "# you can potentially keep \n",
    "# however, then you need to set the trajectory above that the rawdata used for sampling.\n",
    "csm_datatype = csm.as_array().dtype\n",
    "csm_shape = csm.as_array().shape\n",
    "unity_csm = np.ones(shape=csm_shape, dtype=csm_datatype)\n",
    "csm.fill(unity_csm)\n",
    "\n",
    "simulation.set_csm(csm)"
   ]
  },
  {
   "cell_type": "code",
   "execution_count": null,
   "metadata": {},
   "outputs": [],
   "source": [
    "\n",
    "# we set up our transformation to get a 4-chamber view\n",
    "offset_x_mm = 0\n",
    "offset_y_mm = 0\n",
    "offset_z_mm = -127.5\n",
    "rotation_angles_deg = [0,0,0]\n",
    "translation = np.array([offset_x_mm, offset_y_mm, offset_z_mm])\n",
    "euler_angles_deg = np.array(rotation_angles_deg)\n",
    "\n",
    "offset_trafo = pReg.AffineTransformation(translation, euler_angles_deg)\n",
    "simulation.set_offset_trafo(offset_trafo)"
   ]
  },
  {
   "cell_type": "code",
   "execution_count": null,
   "metadata": {},
   "outputs": [],
   "source": [
    "simulation.simulate_data()\n",
    "\n",
    "# now we simulate and \n",
    "fname_output = root_path / \"Output/output_b_simulate_motion_static.h5\"\n",
    "if not fname_output.parent.is_dir():\n",
    "    fname_output.parent.mkdir(parents=True, exist_ok=True)\n",
    "\n",
    "\n",
    "simulation.write_simulation_results(str(fname_output))"
   ]
  },
  {
   "cell_type": "code",
   "execution_count": null,
   "metadata": {},
   "outputs": [],
   "source": [
    "import auxiliary_functions as aux\n",
    "\n",
    "simulated_file = pMR.AcquisitionData(str(fname_output))\n",
    "\n",
    "recon_stat = aux.reconstruct_data(simulated_file)\n",
    "recon_stat = pReg.NiftiImageData3D(recon_stat)\n",
    "recon_stat.write('/media/sf_CCPPETMR/tmp_stat.nii')"
   ]
  },
  {
   "cell_type": "code",
   "execution_count": null,
   "metadata": {},
   "outputs": [],
   "source": [
    "import matplotlib.pyplot as plt\n",
    "f = plt.figure()\n",
    "plt.imshow(np.transpose(np.squeeze(np.abs(recon_stat.as_array()))))\n",
    "plt.axis('off')\n",
    "plt.show()"
   ]
  },
  {
   "cell_type": "code",
   "execution_count": null,
   "metadata": {},
   "outputs": [],
   "source": [
    "\n",
    "import auxiliary_functions as aux\n",
    "\n",
    "Nt = 10000\n",
    "t0_s = 0\n",
    "tmax_s = 60* 5 \n",
    "f_Hz_resp = 10.2\n",
    "\n",
    "t_resp, sig_resp = aux.get_normed_surrogate_signal(t0_s, tmax_s, Nt, f_Hz_resp)\n",
    "\n",
    "plt.figure()\n",
    "plt.plot(t_resp, sig_resp)\n",
    "plt.xlabel(\"time(sec)\")\n",
    "plt.ylabel(\"sig (a.u.)\")"
   ]
  },
  {
   "cell_type": "markdown",
   "metadata": {},
   "source": [
    "### Motion Dynamics\n",
    "The motion dynamic consists of two things:\n",
    "- a surrogate signal\n",
    "- a set of displacement vector fields\n",
    "\n",
    "Furthermore you need to define \n",
    "- how many motion states you want to simulate.\n",
    "- where the ground truth should be stored to."
   ]
  },
  {
   "cell_type": "code",
   "execution_count": null,
   "metadata": {},
   "outputs": [],
   "source": [
    "# the motion is awill \n",
    "\n",
    "\n",
    "# configure the motion\n",
    "num_motion_states = 3\n",
    "# RESP\n",
    "num_sim_resp_states = num_motion_states\n",
    "resp_motion = pDS.MRMotionDynamic( num_sim_resp_states )\n",
    "resp_motion.set_dynamic_signal(t_resp, sig_resp)\n",
    "resp_motion.set_cyclicality(False)\n",
    "resp_motion.set_groundtruth_folder_prefix(str(root_path / \"Output/gt_resp/\"))\n",
    "\n",
    "aux.set_motionfields_from_path(resp_motion, str(fpath_input / 'mvfs_resp/'))\n",
    "simulation.add_motion_dynamic(resp_motion)"
   ]
  },
  {
   "cell_type": "code",
   "execution_count": null,
   "metadata": {},
   "outputs": [],
   "source": [
    "simulation.simulate_data()\n",
    "\n",
    "# now we simulate and \n",
    "fname_output = root_path / \"Output/output_b_simulate_motion_breathing.h5\"\n",
    "if not fname_output.parent.is_dir():\n",
    "    fname_output.parent.mkdir(parents=True, exist_ok=True)\n",
    "\n",
    "\n",
    "simulation.write_simulation_results(str(fname_output))"
   ]
  },
  {
   "cell_type": "code",
   "execution_count": null,
   "metadata": {},
   "outputs": [],
   "source": [
    "\n",
    "simulated_file = pMR.AcquisitionData(str(fname_output))\n",
    "\n",
    "recon_resp = aux.reconstruct_data(simulated_file)\n",
    "recon_resp = pReg.NiftiImageData3D(recon_resp)\n",
    "recon_resp.write('/media/sf_CCPPETMR/tmp_resp.nii')"
   ]
  },
  {
   "cell_type": "code",
   "execution_count": null,
   "metadata": {},
   "outputs": [],
   "source": [
    "textcolor = 'black'\n",
    "f, axs = plt.subplots(1,3)\n",
    "axs[0].imshow(np.transpose(np.squeeze(recon_stat.as_array())))\n",
    "axs[0].axis(\"off\")\n",
    "axs[0].set_title(\"Static\")\n",
    "axs[0].title.set_color(textcolor)\n",
    "\n",
    "axs[1].imshow(np.transpose(np.squeeze(recon_resp.as_array())))\n",
    "axs[1].axis(\"off\")\n",
    "axs[1].set_title(\"Breathing\")\n",
    "axs[1].title.set_color(textcolor)\n",
    "\n",
    "axs[2].imshow(np.transpose(np.squeeze(recon_resp.as_array() - recon_stat.as_array())))\n",
    "axs[2].axis(\"off\")\n",
    "axs[2].set_title(\"difference\")\n",
    "axs[2].title.set_color(textcolor)"
   ]
  },
  {
   "cell_type": "markdown",
   "metadata": {},
   "source": [
    "### Recap\n",
    "In this notebook we \n",
    "- used the simulation to generate a rawdata file with magnetisation based on the template file. \n",
    "- added a motion-dynamic to the simulation to perform respiration during the data acquisition.\n",
    "\n",
    "_Next step: use the simulation to simulate an MRF acquisition._"
   ]
  },
  {
   "cell_type": "markdown",
   "metadata": {},
   "source": []
  }
 ],
 "metadata": {
  "interpreter": {
   "hash": "30295c5bec572e859485b1ffa5e89b8b3e2022ef6e3e739c1ac40f143a557caf"
  },
  "kernelspec": {
   "display_name": "Python 3.6.9 64-bit",
   "language": "python",
   "name": "python3"
  },
  "language_info": {
   "codemirror_mode": {
    "name": "ipython"
   },
   "file_extension": ".py",
   "mimetype": "text/x-python",
   "name": "python",
   "nbconvert_exporter": "python"
  }
 },
 "nbformat": 4,
 "nbformat_minor": 2
}
