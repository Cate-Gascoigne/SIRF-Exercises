{
 "cells": [
  {
   "cell_type": "code",
   "execution_count": null,
   "id": "d10ab263",
   "metadata": {},
   "outputs": [],
   "source": [
    "import os\n",
    "import numpy as np\n",
    "import TissueParameterList as TPL\n",
    "import nibabel as nib \n",
    "\n",
    "from pathlib import Path\n",
    "root_path = Path(os.getenv(\"SIRF_INSTALL_PATH\"))\n",
    "root_path = root_path / \"share/SIRF-3.1/Simulation/\"\n",
    "\n",
    "fpath_input = root_path / \"Input/\"\n",
    "\n",
    "fname_xml = fpath_input / \"XCAT_TissueParameters_XML.xml\"\n",
    "tpl = TPL.TissueParameterList()\n",
    "tpl.parse_xml(str(fname_xml))\n",
    "label_name_dict = tpl.get_labels_and_names()\n"
   ]
  },
  {
   "cell_type": "code",
   "execution_count": null,
   "id": "da87bd62",
   "metadata": {},
   "outputs": [],
   "source": [
    "from scipy.ndimage.morphology import binary_erosion\n",
    "import matplotlib.pyplot as plt\n",
    "def get_mask_for_labels(segmentation, labels):\n",
    "    mask = np.zeros(segmentation.shape, dtype=bool)\n",
    "    for lab in labels:\n",
    "        mask += (segmentation == lab)\n",
    "    \n",
    "    plt.imshow(mask)\n",
    "#     mask = binary_erosion(mask)\n",
    "    return mask\n",
    "\n",
    "def get_myocard_mask(segmentation):\n",
    "    labels_myocard = [1,2,3,4]\n",
    "    return get_mask_for_labels(segmentation, labels_myocard)\n",
    "\n",
    "\n",
    "def load_data(fname):\n",
    "    \n",
    "    data = np.load(fname)\n",
    "    \n",
    "    labels= data[\"labels\"]\n",
    "    gt_t1 = data[\"gt_t1\"]\n",
    "    gt_t2 = data[\"gt_t2\"]\n",
    "    match_t1 = data[\"match_t1\"]\n",
    "    match_t2 = data[\"match_t2\"]\n",
    "    \n",
    "    mask = get_myocard_mask(labels)\n",
    "    \n",
    "    return gt_t1, gt_t2, match_t1, match_t2, mask, labels\n",
    "    \n",
    "\n",
    "def analyse_myocardium(t1map, t2map, mask):\n",
    "    \n",
    "    t1 = t1map[mask]\n",
    "    t2 = t2map[mask]\n",
    "    \n",
    "    return t1, t2\n"
   ]
  },
  {
   "cell_type": "code",
   "execution_count": null,
   "id": "f69a986d",
   "metadata": {},
   "outputs": [],
   "source": [
    "def analyse_dataset(fpath_data):\n",
    "    print(\"Loading {}\".format(fpath_data))\n",
    "\n",
    "    gt_t1, gt_t2, match_t1, match_t2, mask, labels = load_data(fpath_data)\n",
    "\n",
    "    f,ax = plt.subplots(2,2)\n",
    "    ax[0,0].imshow(gt_t1,cmap='jet', vmin=0, vmax=2500)\n",
    "    ax[1,0].imshow(gt_t2,cmap='magma', vmin=10, vmax=150)\n",
    "    ax[0,1].imshow(match_t1,cmap='jet', vmin=0, vmax=2500)\n",
    "    ax[1,1].imshow(match_t2,cmap='magma', vmin=10, vmax=150)\n",
    "    \n",
    "    t1_gt_val, t2_gt_val = analyse_myocardium(gt_t1, gt_t2, mask)\n",
    "    match_t1_val, match_t2_val = analyse_myocardium(match_t1, match_t2, mask)\n",
    "    return t1_gt_val, t2_gt_val, match_t1_val, match_t2_val\n"
   ]
  },
  {
   "cell_type": "code",
   "execution_count": null,
   "id": "4d902dd2",
   "metadata": {},
   "outputs": [],
   "source": [
    "import numpy as np\n",
    "\n",
    "parameters = [\"T1\", \"T2\"]\n",
    "fittype = [\"GT\", \"dictionary\"]\n",
    "motion = [\"stat\", \"resp\", \"card\", \"cardioresp\", \"half resp\", \"card gated\"]\n",
    "valuetype = [\"mean\", \"std\"]\n",
    "\n",
    "mean_values = np.zeros(shape=(len(parameters),len(fittype),len(motion)), dtype=object)\n",
    "std_values = np.zeros(shape=(len(parameters),len(fittype),len(motion)), dtype=object)\n"
   ]
  },
  {
   "cell_type": "code",
   "execution_count": null,
   "id": "cf8c8d1c",
   "metadata": {},
   "outputs": [],
   "source": [
    "fpath_data = root_path / \"Output/output_i_fitresults_stat.npz\"\n",
    "res = analyse_dataset(fpath_data)\n",
    "\n",
    "values[0,0,0,0] = np.mean(res[0])\n",
    "values[1,0,0,0] = np.mean(res[1])\n",
    "values[0,1,0,0] = np.mean(res[2])\n",
    "values[1,1,0,0] = np.mean(res[3])\n",
    "\n",
    "values[0,0,0,1] = np.std(res[0])\n",
    "values[1,0,0,1] = np.std(res[1])\n",
    "values[0,1,0,1] = np.std(res[2])\n",
    "values[1,1,0,1] = np.std(res[3])\n",
    "\n",
    "print(values)"
   ]
  },
  {
   "cell_type": "code",
   "execution_count": null,
   "id": "9fda9c07",
   "metadata": {},
   "outputs": [],
   "source": []
  },
  {
   "cell_type": "code",
   "execution_count": null,
   "id": "04a78c4e",
   "metadata": {},
   "outputs": [],
   "source": [
    "import xarray as xr\n",
    "\n",
    "data = xr.DataArray(data=values, coords=[parameters,fittype,motion], dims=[\"parameter\", \"fittype\", \"motion\"])\n",
    "print(data)"
   ]
  },
  {
   "cell_type": "code",
   "execution_count": null,
   "id": "bae99b86",
   "metadata": {},
   "outputs": [],
   "source": [
    "import matplotlib.pyplot as plt\n",
    "print(data.sel(parameter=\"T1\", fittype=\"dictionary\"))"
   ]
  },
  {
   "cell_type": "code",
   "execution_count": null,
   "id": "ca9b3b34",
   "metadata": {},
   "outputs": [],
   "source": []
  }
 ],
 "metadata": {
  "kernelspec": {
   "display_name": "Python 3",
   "language": "python",
   "name": "python3"
  },
  "language_info": {
   "codemirror_mode": {
    "name": "ipython"
   },
   "file_extension": ".py",
   "mimetype": "text/x-python",
   "name": "python",
   "nbconvert_exporter": "python"
  }
 },
 "nbformat": 4,
 "nbformat_minor": 5
}
