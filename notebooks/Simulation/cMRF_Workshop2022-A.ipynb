{
 "cells": [
  {
   "cell_type": "markdown",
   "metadata": {},
   "source": [
    "## Cardiac MRF Workshop 2022-A\n",
    "\n",
    "This notebook covers what is being done in `prep_sim` in `cMRF_Workshop2022_helper`. Here we will load in the segmentation and motion vector fields, check what they look like and if they match. We will also add some information about the orientation to make sure this is correctly defined. \n",
    "\n",
    "For this notebook we need:\n",
    "\n",
    "- an anatomy segmentation in RAI format (right-anterior-inferior)\n",
    "- motion information (cardiac or respiratory) matching the anatomy segmentation"
   ]
  },
  {
   "cell_type": "code",
   "execution_count": null,
   "metadata": {},
   "outputs": [],
   "source": [
    "# Import required packages\n",
    "import shutil, os\n",
    "from pathlib import Path \n",
    "\n",
    "import matplotlib.pyplot as plt\n",
    "\n",
    "import nibabel as nib\n",
    "import numpy as np\n",
    "\n",
    "import sirf.Reg as pReg\n",
    "import sirf.DynamicSimulation as pDS\n",
    "import sirf.Gadgetron as pMR\n",
    "from cil.utilities.jupyter import islicer, link_islicer\n",
    "\n",
    "import auxiliary_functions as aux\n",
    "import cMRF_Workshop2022_helper as helper"
   ]
  },
  {
   "cell_type": "code",
   "execution_count": null,
   "metadata": {},
   "outputs": [],
   "source": [
    "# Set main paths\n",
    "# Where is all the data\n",
    "fpath_base = Path('/mnt/share/SA/')\n",
    "\n",
    "# Where are we saving (intermediate) results\n",
    "root_path = Path('/home/sirfuser/devel/Data_mrf_sim/')\n",
    "root_path.mkdir(exist_ok=True, parents=True)\n",
    "\n",
    "\n",
    "# These folders will be filled with the formatted input \n",
    "# for the simulation and will then also contain the output of the simulation\n",
    "fpath_in = root_path / \"Input\"\n",
    "fpath_in.mkdir(exist_ok=True, parents=True)\n",
    "fpath_out = root_path / \"Output\"\n",
    "fpath_out.mkdir(exist_ok=True, parents=True)"
   ]
  },
  {
   "cell_type": "code",
   "execution_count": null,
   "metadata": {},
   "outputs": [],
   "source": [
    "# 3D tissue segmentation : nifti\n",
    "fpath_segmentation_nii = fpath_base / 'XCat/label_volume_sa.nii'\n",
    "# Respiratory motion fields : nifti\n",
    "fpath_resp_mvf = fpath_base / 'XCat/mvf_resp/'\n",
    "# Cardiac motion fields : nifti\n",
    "fpath_card_mvf = fpath_base / 'XCat/mvf_card/'"
   ]
  },
  {
   "cell_type": "markdown",
   "metadata": {},
   "source": [
    "## A Clean up folders\n",
    "\n",
    "When we set up the simulation, we need to save several files temporarily. To make sure we don't run into any problems from previous simulations, we go through all the folders and clean them. When you run the following cell you will be asked if you want to delete any old content. Just say 'y' to agree."
   ]
  },
  {
   "cell_type": "code",
   "execution_count": null,
   "metadata": {},
   "outputs": [],
   "source": [
    "# Set up folders for simulation (and remove exisiting ones)\n",
    "helper.clear_folders([fpath_in, fpath_out])"
   ]
  },
  {
   "cell_type": "markdown",
   "metadata": {},
   "source": [
    "## B Segmentation\n",
    "\n",
    "Now let's load the segmentation and check its size and visualise it. For the visualisation we are going to use `islicer`, which is an interactive viewer for 3D data provided by **CIL**. Of course you can also use `matplotlib` if you prefer. "
   ]
  },
  {
   "cell_type": "code",
   "execution_count": null,
   "metadata": {},
   "outputs": [],
   "source": [
    "fpath_segmentation_nii = fpath_base / 'XCat/label_volume_sa.nii'\n",
    "\n",
    "segmentation_nii = nib.load(str(fpath_segmentation_nii))\n",
    "\n",
    "# continue with segmentation as numpy array\n",
    "segmentation = segmentation_nii.get_fdata()\n",
    "print(\"The shape of the segmentation is {}\".format(segmentation.shape))"
   ]
  },
  {
   "cell_type": "markdown",
   "metadata": {},
   "source": [
    "Let's have a look at the data:"
   ]
  },
  {
   "cell_type": "code",
   "execution_count": null,
   "metadata": {},
   "outputs": [],
   "source": [
    "islicer(segmentation, direction=2, origin='upper-left', cmap='viridis')"
   ]
  },
  {
   "cell_type": "markdown",
   "metadata": {},
   "source": [
    "If you want to learn more about any of the SIRF or CIL functionality simply use the help command:"
   ]
  },
  {
   "cell_type": "code",
   "execution_count": null,
   "metadata": {},
   "outputs": [],
   "source": [
    "help(islicer)"
   ]
  },
  {
   "cell_type": "markdown",
   "metadata": {},
   "source": [
    "Ideally these data are already in RAI orientation.\n",
    "RAI means: the data are available in memory such with increasing XYZ index the voxels move from left to right, from posteior to anterior, and from superior to inferior."
   ]
  },
  {
   "cell_type": "code",
   "execution_count": null,
   "metadata": {},
   "outputs": [],
   "source": [
    "# Before we continue we need to take a subset of slices, otherwise it will take too long\n",
    "num_slices = 10\n",
    "slice_start = 35\n",
    "slice_end = slice_start + num_slices\n",
    "slice_subset = range(slice_start,slice_end)\n",
    "\n",
    "segmentation = segmentation[:,:,slice_subset]\n",
    "\n",
    "print(\"Now our segmentation has the shape {}\".format(segmentation.shape))"
   ]
  },
  {
   "cell_type": "code",
   "execution_count": null,
   "metadata": {},
   "outputs": [],
   "source": [
    "islicer(segmentation, direction=2, origin='upper-left', cmap='viridis')"
   ]
  },
  {
   "cell_type": "code",
   "execution_count": null,
   "metadata": {},
   "outputs": [],
   "source": [
    "# So far we only saw some voxelised data. Now we need to store it with approriate geometry information\n",
    "\n",
    "# Define resolution\n",
    "resolution_mm_per_pixel = np.array([2,2,-2,1])\n",
    "\n",
    "# The first voxel center is lies at -FOV / 2 + dx/2\n",
    "offset_mm =(-np.array(segmentation.shape)/2 + 0.5) * resolution_mm_per_pixel[0:3]\n",
    "\n",
    "affine = np.diag(resolution_mm_per_pixel)\n",
    "affine[:3,3] = offset_mm\n",
    "\n",
    "print(\"We have an affine of \\n {}\".format(affine))\n",
    "\n",
    "img = nib.Nifti1Image(segmentation, affine)\n",
    "img.set_qform(affine) # crucial!\n",
    "fname_segmentation = fpath_in / \"segmentation.nii\"\n",
    "nib.save(img, str(fname_segmentation))\n"
   ]
  },
  {
   "cell_type": "markdown",
   "metadata": {},
   "source": [
    "## C Motion vector fields\n",
    "\n",
    "We have got the segmentation so now we need the motion vector fields. We will first load the respiratory motion fields and also select a subsect of slice as we did for the segmentation. Then we will calculate the amplitude of the motion between expiration and inspiration and compare it to the segmentation to make sure the motion vector fields actually fit to our segmentation. We will also add information about orienation and voxel size and save them for the simulation. \n",
    "\n",
    "Looking at the motion amplitude and comparing it to the segmentation is one way to check that the two fit, but we can also apply the motion vector fields to the segmentation to get an idea of our transformation. \n",
    "\n",
    "Finally we will repeat the above steps also for the cardiac motion fields. "
   ]
  },
  {
   "cell_type": "code",
   "execution_count": null,
   "metadata": {},
   "outputs": [],
   "source": [
    "# Path of the respiratory motion fields\n",
    "fpath_resp_mvf = fpath_base / 'XCat/mvf_resp/'\n",
    "resp_mvfs = aux.read_nii_motionfields(str(fpath_resp_mvf))"
   ]
  },
  {
   "cell_type": "code",
   "execution_count": null,
   "metadata": {},
   "outputs": [],
   "source": [
    "# Let's find out what the size of the motion vector fields are\n",
    "print(resp_mvfs.shape)"
   ]
  },
  {
   "cell_type": "code",
   "execution_count": null,
   "metadata": {},
   "outputs": [],
   "source": [
    "# We also have to select a subset of the slice for the motion fields\n",
    "resp_mvfs = resp_mvfs[:,:,:,slice_subset,:,:]\n",
    "print(\"Now our motion fields have the shape {}\".format(resp_mvfs.shape))"
   ]
  },
  {
   "cell_type": "code",
   "execution_count": null,
   "metadata": {},
   "outputs": [],
   "source": [
    "# Now we plot the motion field amplitude and segmentation and see if they overlap\n",
    "inhale_mvf = np.squeeze(resp_mvfs[-1,...])\n",
    "inhale_abs = np.linalg.norm(inhale_mvf,axis=-1)\n",
    "islicer(segmentation, direction=2, origin='upper-left', cmap='viridis')\n",
    "islicer(inhale_abs, direction=2, origin='upper-left', cmap='viridis')"
   ]
  },
  {
   "cell_type": "code",
   "execution_count": null,
   "metadata": {},
   "outputs": [],
   "source": [
    "# Store motion fields as nifti\n",
    "fpath_mvf_output = fpath_in / 'mvfs_resp'\n",
    "fpath_mvf_output.mkdir(exist_ok=True,parents=True)\n",
    "\n",
    "aux.store_nii_mvfs(str(fpath_mvf_output), resp_mvfs, affine)\n",
    "del resp_mvfs"
   ]
  },
  {
   "cell_type": "code",
   "execution_count": null,
   "metadata": {},
   "outputs": [],
   "source": [
    "# Make a crosscheck to see the motion \n",
    "aux.deform_segmentation(str(fname_segmentation), str(fpath_mvf_output), str(fpath_out / \"resp_motion_state_\"))"
   ]
  },
  {
   "cell_type": "code",
   "execution_count": null,
   "metadata": {},
   "outputs": [],
   "source": [
    "# Read in deformed segmentation\n",
    "segm_resp = aux.read_deformed_nii_image(fpath_out, \"resp_motion_state\")"
   ]
  },
  {
   "cell_type": "code",
   "execution_count": null,
   "metadata": {},
   "outputs": [],
   "source": [
    "# Visualise central slice\n",
    "islicer(segm_resp[:,:,:,5], direction=0, origin='upper-left', cmap='viridis')"
   ]
  },
  {
   "cell_type": "code",
   "execution_count": null,
   "metadata": {},
   "outputs": [],
   "source": [
    "# Same for cardiac motion fields\n",
    "fpath_card_mvf = fpath_base / 'XCat/mvf_card/'\n",
    "card_mvfs = aux.read_nii_motionfields(str(fpath_card_mvf))\n",
    "card_mvfs = card_mvfs[:,:,:,slice_subset,:,:]\n",
    "\n",
    "fpath_mvf_output = fpath_in / 'mvfs_card'\n",
    "fpath_mvf_output.mkdir(exist_ok=True,parents=True)\n",
    "\n",
    "aux.store_nii_mvfs(str(fpath_mvf_output), card_mvfs, affine)\n",
    "del card_mvfs"
   ]
  },
  {
   "cell_type": "code",
   "execution_count": null,
   "metadata": {},
   "outputs": [],
   "source": [
    "# Make a crosscheck to see the motion \n",
    "aux.deform_segmentation(str(fname_segmentation), str(fpath_mvf_output), str(fpath_out / \"card_motion_state_\"))\n",
    "segm_card = aux.read_deformed_nii_image(fpath_out, \"card_motion_state\")\n",
    "islicer(segm_card[:,:,:,5], direction=0, origin='upper-left', cmap='viridis')"
   ]
  },
  {
   "cell_type": "markdown",
   "metadata": {},
   "source": [
    "In order to estimate what artefacts the cardiac motion is going to cause let's have a look at a simple average over all cardiac phases. We can also look at just an average over the first half (i.e. systolic phases). This  would roughly correspond to a higher heart rate (for an increase in the heart rate, systolic timings stay mostly constant and diastolic timings are shortened). We also focus on a region around the heart to better visualise what is going on. "
   ]
  },
  {
   "cell_type": "code",
   "execution_count": null,
   "metadata": {},
   "outputs": [],
   "source": [
    "fig, ax = plt.subplots(1,3, figsize=(16,6))\n",
    "ax[0].imshow(segm_card[0,100:200,100:200,5])\n",
    "ax[0].set_title('Diastole (reference)')\n",
    "ax[1].imshow(np.average(segm_card[:,100:200,100:200,5], axis=0))\n",
    "ax[1].set_title('Average over all cardiac phases')\n",
    "ax[2].imshow(np.average(segm_card[:5,100:200,100:200,5], axis=0))\n",
    "ax[2].set_title('Average over sytolic cardiac phases');"
   ]
  },
  {
   "cell_type": "markdown",
   "metadata": {},
   "source": [
    "## Recap\n",
    "\n",
    "In this notebook we:\n",
    "\n",
    "- loaded the segmentation and motion vector fields\n",
    "- used `islicer` to explore the data\n",
    "- added geometry information to a voxelised antatomy segmentation,\n",
    "- ensured the motion information as displacement vector fields matched the anatomy,"
   ]
  }
 ],
 "metadata": {
  "interpreter": {
   "hash": "30295c5bec572e859485b1ffa5e89b8b3e2022ef6e3e739c1ac40f143a557caf"
  },
  "kernelspec": {
   "display_name": "Python 3",
   "language": "python",
   "name": "python3"
  },
  "language_info": {
   "codemirror_mode": {
    "name": "ipython"
   },
   "file_extension": ".py",
   "mimetype": "text/x-python",
   "name": "python",
   "nbconvert_exporter": "python"
  }
 },
 "nbformat": 4,
 "nbformat_minor": 2
}
