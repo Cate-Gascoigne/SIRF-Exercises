{
 "cells": [
  {
   "cell_type": "code",
   "execution_count": null,
   "metadata": {},
   "outputs": [],
   "source": []
  },
  {
   "cell_type": "code",
   "execution_count": null,
   "metadata": {},
   "outputs": [],
   "source": [
    "from pathlib import Path\n",
    "import numpy as np\n",
    "import auxiliary_functions as aux "
   ]
  },
  {
   "cell_type": "code",
   "execution_count": null,
   "metadata": {},
   "outputs": [],
   "source": [
    "\n",
    "fname_dict = Path(\"/media/sf_CCPPETMR/TestData/Input/xDynamicSimulation/pDynamicSimulation/Fingerprints/dict_70_1500.npz\")\n",
    "mrfdict = np.load(fname_dict)\n",
    "\n",
    "dict_theta = mrfdict['dict_theta']\n",
    "\n",
    "dict_mrf = mrfdict['dict_norm']\n",
    "dict_mrf = np.transpose( aux.apply_databased_sliding_window(ad, np.transpose(dict_mrf)))\n",
    "\n",
    "downscaling_factor = 10\n",
    "reduced_dict_mrf = dict_mrf[0:-1:downscaling_factor, ...]\n",
    "reduced_dict_theta = dict_theta[0:-1:downscaling_factor, ...]\n",
    "\n",
    "\n"
   ]
  },
  {
   "cell_type": "code",
   "execution_count": null,
   "metadata": {},
   "outputs": [],
   "source": [
    "\n",
    "img_series = recon.as_array()\n",
    "img_shape = img_series.shape[1:]\n",
    "img_series_1d = np.transpose(np.reshape(img_series,(img_series.shape[0], -1)))\n",
    "print(img_shape)\n",
    "\n",
    "\n",
    "parametric_maps = aux.match_dict_1d(reduced_dict_mrf, reduced_dict_theta, img_series_1d)\n",
    "\n",
    "\n",
    "dict_match = np.reshape(parametric_maps[0], (*img_shape, -1))\n",
    "\n",
    "import matplotlib.pyplot as plt\n",
    "f,ax = plt.subplots(1,3)\n",
    "ax[0].imshow(dict_match[:,:,0])\n",
    "ax[0].axis(\"off\")\n",
    "pcm = ax[1].imshow(dict_match[:,:,1])\n",
    "ax[1].axis(\"off\")\n",
    "f.colorbar(pcm, ax=ax[1], shrink=0.3)\n",
    "pcm = ax[2].imshow(dict_match[:,:,2])\n",
    "f.colorbar(pcm, ax=ax[2], shrink=0.3)\n",
    "ax[2].axis(\"off\")\n",
    "\n",
    "plt.show()\n",
    "\n",
    "import nibabel as nib\n",
    "img = nib.Nifti1Image(np.abs(dict_match[...,1]), np.eye(4))\n",
    "nib.save(img,\"/media/sf_CCPPETMR/TMP_T1_FIT.nii\")\n",
    "\n",
    "img = nib.Nifti1Image(np.abs(dict_match[...,2]), np.eye(4))\n",
    "nib.save(img,\"/media/sf_CCPPETMR/TMP_T2_FIT.nii\")"
   ]
  }
 ],
 "metadata": {
  "language_info": {
   "name": "python"
  }
 },
 "nbformat": 4,
 "nbformat_minor": 2
}
