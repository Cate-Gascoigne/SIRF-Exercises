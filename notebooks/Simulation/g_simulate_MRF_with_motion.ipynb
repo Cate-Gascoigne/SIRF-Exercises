{
 "cells": [
  {
   "cell_type": "markdown",
   "metadata": {},
   "source": [
    "## Notbook G: Simulating motion in an MRF acquisition\n",
    "\n",
    "#### Prerequisites:\n",
    "- a tissue segmentation and XML file.\n",
    "- template rawdata.\n",
    "- displacement vector field modeling cardiac and respiratory motion.\n",
    "- pre-computed time-resolved magnetisation for tissue.\n",
    "\n",
    "#### Goals:\n",
    "- performing MRF simulation including respiratory and/or cardiac motion"
   ]
  },
  {
   "cell_type": "code",
   "execution_count": null,
   "metadata": {},
   "outputs": [],
   "source": [
    "from pathlib import Path\n",
    "import os \n",
    "import numpy as np\n",
    "import auxiliary_functions as aux\n",
    "\n",
    "import sirf.DynamicSimulation as pDS\n",
    "import sirf.Reg as pReg\n",
    "import sirf.Gadgetron as pMR\n",
    "\n",
    "\n",
    "\n",
    "# this is where we store the properly formatted data\n",
    "root_path = Path(os.getenv(\"SIRF_INSTALL_PATH\"))\n",
    "root_path = root_path / \"share/SIRF-3.1/Simulation/\"\n",
    "fpath_input = root_path / \"Input\"\n"
   ]
  },
  {
   "cell_type": "code",
   "execution_count": null,
   "metadata": {},
   "outputs": [],
   "source": [
    "# import matplotlib.pyplot as plt\n",
    "from pathlib import Path\n",
    "\n",
    "fpath_epg_result = Path(\"/media/sf_CCPPETMR/TestData/Input/xDynamicSimulation/pDynamicSimulation/Fingerprints/\")\n",
    "\n",
    "fname_epg_input = fpath_epg_result / \"XCAT_tissue_parameter_list.npz\"\n",
    "fname_epg_simulation = fpath_epg_result / \"XCAT_tissue_parameter_fingerprints.npy\"\n",
    "\n",
    "# re-assign non-unique tissue combinations\n",
    "epg_input = np.load(fname_epg_input)\n",
    "inverse_idx = epg_input[\"unique_idx_inverse\"]\n",
    "inverse_idx.shape\n",
    "\n",
    "#\n",
    "epg_output = np.load(fname_epg_simulation)\n",
    "magnetisation = epg_output[:, inverse_idx]\n",
    "\n",
    "\n",
    "num_sim_acq = magnetisation.shape[0]\n",
    "magnet_subset = np.arange(num_sim_acq)\n",
    "magnetisation = magnetisation[magnet_subset, :]\n",
    "print(magnetisation.shape)"
   ]
  },
  {
   "cell_type": "code",
   "execution_count": null,
   "metadata": {},
   "outputs": [],
   "source": [
    "\n",
    "fname_xml = fpath_input / \"XCAT_TissueParameters_XML.xml\"\n",
    "fname_segmentation = fpath_input / \"segmentation.nii\"\n",
    "segmentation = pReg.NiftiImageData3D(str(fname_segmentation))\n",
    "\n",
    "simulation = pDS.MRDynamicSimulation(segmentation, str(fname_xml))"
   ]
  },
  {
   "cell_type": "code",
   "execution_count": null,
   "metadata": {},
   "outputs": [],
   "source": [
    "fname_acquisition_template = fpath_input / \"acquisition_template.h5\"\n",
    "acquisition_template = pMR.AcquisitionData(str(fname_acquisition_template))\n",
    "\n",
    "num_acquisitions = magnetisation.shape[0]\n",
    "subset_idx = np.arange(num_acquisitions)\n",
    "acquisition_template = acquisition_template.get_subset(subset_idx)\n",
    "\n",
    "acquisition_template = pMR.set_goldenangle2D_trajectory(acquisition_template)\n",
    "\n",
    "simulation.set_template_data(acquisition_template)\n",
    "\n",
    "csm = aux.gaussian_2D_coilmaps(acquisition_template)\n",
    "simulation.set_csm(csm)"
   ]
  },
  {
   "cell_type": "code",
   "execution_count": null,
   "metadata": {},
   "outputs": [],
   "source": [
    "# we add the usual offset transformation\n",
    "offset_x_mm = 0\n",
    "offset_y_mm = 0\n",
    "offset_z_mm = -14\n",
    "rotation_angles_deg = [0,0,0]\n",
    "translation = np.array([offset_x_mm, offset_y_mm, offset_z_mm])\n",
    "euler_angles_deg = np.array(rotation_angles_deg)\n",
    "\n",
    "offset_trafo = pReg.AffineTransformation(translation, euler_angles_deg)\n",
    "simulation.set_offset_trafo(offset_trafo)\n",
    "\n",
    "prefix_output = root_path / \"Output/output_g_ground_truth\"\n",
    "simulation.save_parametermap_ground_truth(str(prefix_output))"
   ]
  },
  {
   "cell_type": "markdown",
   "metadata": {},
   "source": [
    "To set up a time-dependant magnetisation we use the same principle as with the motion dynamic:\n",
    "- first we set up a dynamic object\n",
    "- we set the required parameters\n",
    "- we add the dynamic to the simulation"
   ]
  },
  {
   "cell_type": "code",
   "execution_count": null,
   "metadata": {},
   "outputs": [],
   "source": [
    "# now we need to create an external conrast dynamic\n",
    "\n",
    "# say which labels are in the dynamic\n",
    "signal_labels = np.arange(magnetisation.shape[1])\n",
    "magnetisation = np.transpose(magnetisation)\n",
    "\n",
    "mrf_signal = pDS.ExternalMRSignal(signal_labels, magnetisation)\n",
    "mrf_dynamic = pDS.ExternalMRContrastDynamic()\n",
    "mrf_dynamic.add_external_signal(mrf_signal)\n",
    "simulation.add_external_contrast_dynamic(mrf_dynamic)"
   ]
  },
  {
   "cell_type": "code",
   "execution_count": null,
   "metadata": {},
   "outputs": [],
   "source": [
    "# General time axis, let the guy move for 10 minutes\n",
    "Nt = 10000\n",
    "t0_s = 0\n",
    "tmax_s = 60*10"
   ]
  },
  {
   "cell_type": "code",
   "execution_count": null,
   "metadata": {},
   "outputs": [],
   "source": [
    "\n",
    "## and the same drill for the respiration\n",
    "\n",
    "f_Hz_resp = 0.25\n",
    "t_resp, sig_resp = aux.get_normed_sinus_signal(t0_s, tmax_s, Nt, f_Hz_resp)\n",
    "\n",
    "num_sim_resp_states = 1\n",
    "resp_motion = pDS.MRMotionDynamic( num_sim_resp_states )\n",
    "resp_motion.set_dynamic_signal(t_resp, sig_resp)\n",
    "resp_motion.set_cyclicality(False)\n",
    "resp_motion.set_groundtruth_folder_prefix(str(root_path / \"Output/gt_resp_mrf/\"))\n",
    "\n",
    "aux.set_motionfields_from_path(resp_motion, str(fpath_input / 'mvfs_resp/'))\n",
    "simulation.add_motion_dynamic(resp_motion)\n",
    "\n",
    "# now we simulate and store it\n",
    "import time\n",
    "tstart = time.time()\n",
    "# simulation.simulate_data()\n",
    "print(\"--- Required {} minutes for the simulation.\".format( (time.time()-tstart)/60))\n",
    "\n",
    "fname_output = root_path / \"Output/output_g_simulate_mrf_resp.h5\"\n",
    "if not fname_output.parent.is_dir():\n",
    "    fname_output.parent.mkdir(parents=True, exist_ok=True)\n",
    "\n",
    "simulation.write_simulation_results(str(fname_output))"
   ]
  },
  {
   "cell_type": "code",
   "execution_count": null,
   "metadata": {},
   "outputs": [],
   "source": [
    "\n",
    "## \n",
    "f_Hz_card = 1.25\n",
    "t_card, sig_card = aux.get_normed_sawtooth_signal(t0_s, tmax_s, Nt, f_Hz_card)\n",
    "\n",
    "# this number does not matter since every readout get's its own motionstate\n",
    "num_sim_card_states = 1\n",
    "card_motion = pDS.MRMotionDynamic( num_sim_card_states )\n",
    "card_motion.set_dynamic_signal(t_card, sig_card)\n",
    "card_motion.set_cyclicality(False)\n",
    "card_motion.set_groundtruth_folder_prefix(str(root_path / \"Output/gt_card_mrf/\"))\n",
    "\n",
    "aux.set_motionfields_from_path(card_motion, str(fpath_input / 'mvfs_card/'))\n",
    "simulation.add_motion_dynamic(card_motion)\n",
    "\n",
    "# now we simulate and store it\n",
    "import time\n",
    "tstart = time.time()\n",
    "simulation.simulate_data()\n",
    "print(\"--- Required {} minutes for the simulation.\".format( (time.time()-tstart)/60))\n",
    "\n",
    "fname_output = root_path / \"Output/output_g_simulate_mrf_cardio_resp.h5\"\n",
    "if not fname_output.parent.is_dir():\n",
    "    fname_output.parent.mkdir(parents=True, exist_ok=True)\n",
    "\n",
    "simulation.write_simulation_results(str(fname_output))"
   ]
  },
  {
   "cell_type": "markdown",
   "metadata": {},
   "source": [
    "### Recap \n",
    "In this notebook we combined motion dynamics with external contrast dynamics to simulate motion during MRF.\n",
    "\n",
    "_Up next: dictionary matching for the simulated data._"
   ]
  },
  {
   "cell_type": "markdown",
   "metadata": {},
   "source": []
  }
 ],
 "metadata": {
  "interpreter": {
   "hash": "30295c5bec572e859485b1ffa5e89b8b3e2022ef6e3e739c1ac40f143a557caf"
  },
  "kernelspec": {
   "display_name": "Python 3",
   "language": "python",
   "name": "python3"
  },
  "language_info": {
   "codemirror_mode": {
    "name": "ipython"
   },
   "file_extension": ".py",
   "mimetype": "text/x-python",
   "name": "python",
   "nbconvert_exporter": "python"
  }
 },
 "nbformat": 4,
 "nbformat_minor": 2
}
