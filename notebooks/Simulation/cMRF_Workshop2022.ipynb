{
 "cells": [
  {
   "attachments": {},
   "cell_type": "markdown",
   "metadata": {},
   "source": [
    "## Cardiac MRF Workshop 2022\n",
    "\n",
    "This notebook gives an overview how to simulate a MRF scan of the heart using a 2D Golden-radial data acquisition. We follow a top-down approach, i.e. here we will go through all the required steps by calling high-level functions. If you want to learn more about the details of each step, we will refer you to other notebooks. Below you can see an overview of the high-level functions:\n",
    "\n",
    "<div>\n",
    "<img src=\"./mrf_sim_overview.png\" width=\"800\"/>\n",
    "</div>\n",
    "\n",
    "\n",
    "For the simulation we need:\n",
    "\n",
    "- an MR rawdata file in ISMRMRD format describing the acquisition process (acquisition template)\n",
    "- an anatomy segmentation in RAI format (right-anterior-inferior)\n",
    "- an XML descriptor assigning tissue parameters to the labels.\n",
    "- motion information (cardiac or respiratory) matching the anatomy segmentation\n",
    "- contrast information describing the signal over time\n",
    "\n",
    "We will go through the following steps:\n",
    "\n",
    "#### A Clean up folders\n",
    "To ensure there is nothing left from previous simulations we will clear everything.\n",
    "\n",
    "#### B Prepare segmentation and motion fields\n",
    "Load the segmentation and motion information and ensure all the geometric information is there. For more information have a look at the notebook **cMRF_Workshop2022-A**.\n",
    "\n",
    "#### C Set up the simulation\n",
    "Create a simulation object and add segmentation, MRF signal behaviour and information about the data acquisition. For more information have a look at the notebook **cMRF_Workshop2022-B**.\n",
    "\n",
    "#### D Cardiac motion simulation\n",
    "Add the cardiac motion fields to the simulation and provide a surrogate which describes the motion pattern during data acquisition. \n",
    "\n",
    "#### E Run the simulation\n",
    "Run the simulation.\n",
    "\n",
    "#### F Reconstruct image data\n",
    "Reconstruct the dynamic image data. To speed up the reconstruction and improve image quality we combine a certain number of neighbouring radial lines to a single image.\n",
    "\n",
    "#### G Carry out matching\n",
    "Carry out matching between dynamic image data and a pre-calculated dictionary. "
   ]
  },
  {
   "cell_type": "code",
   "execution_count": null,
   "metadata": {},
   "outputs": [],
   "source": [
    "# Import required packages\n",
    "import shutil, os\n",
    "from pathlib import Path \n",
    "\n",
    "import matplotlib.pyplot as plt\n",
    "from mpl_toolkits.axes_grid1 import make_axes_locatable\n",
    "\n",
    "import subprocess \n",
    "\n",
    "import nibabel as nib\n",
    "import numpy as np\n",
    "\n",
    "import sirf.Reg as pReg\n",
    "import sirf.DynamicSimulation as pDS\n",
    "import sirf.Gadgetron as pMR\n",
    "from cil.utilities.jupyter import islicer, link_islicer\n",
    "\n",
    "import auxiliary_functions as aux\n",
    "import cMRF_Workshop2022_helper as helper"
   ]
  },
  {
   "cell_type": "code",
   "execution_count": null,
   "metadata": {},
   "outputs": [],
   "source": [
    "# Set main paths\n",
    "root_path = Path('/home/sirfuser/devel/Data/SA/')\n",
    "fpath_base = root_path / \"Base\"\n",
    "\n",
    "# These folders will be filled with the formatted input \n",
    "# for the simulation and will then also contain the output of the simulation\n",
    "fpath_in = root_path / \"Input\"\n",
    "fpath_in.mkdir(exist_ok=True, parents=True)\n",
    "fpath_out = root_path / \"Output\"\n",
    "fpath_out.mkdir(exist_ok=True, parents=True)"
   ]
  },
  {
   "cell_type": "code",
   "execution_count": null,
   "metadata": {},
   "outputs": [],
   "source": [
    "# Tissue parameters (T1, T2, Rho) : xml\n",
    "fname_xml = fpath_base / 'XCat/XCAT_TissueParameters_XML.xml'\n",
    "# 3D tissue segmentation : nifti\n",
    "fpath_segmentation_nii = fpath_base / 'XCat/label_volume_sa.nii'\n",
    "# Respiratory motion fields : nifti\n",
    "fpath_resp_mvf = fpath_base / 'XCat/mvf_resp/'\n",
    "# Cardiac motion fields : nifti\n",
    "fpath_card_mvf = fpath_base / 'XCat/mvf_card/'\n",
    "\n",
    "# MR raw k-space data file as acquisition template : ismrmrd\n",
    "fname_acquisition_template = fpath_base / 'templates/acquisition_template.h5'\n",
    "\n",
    "# MRF parameters used for EPG simulation\n",
    "fname_epg_par = fpath_base / 'Fingerprinting/XCAT_tissue_parameter_list.npz'\n",
    "# MRF signals describing signal behaviour of tissue types in segmentation simulated with EPG\n",
    "fname_epg_sig = fpath_base / 'Fingerprinting/XCAT_tissue_parameter_fingerprints.npy'\n",
    "# MRF dictionary for matching and parameter estimation\n",
    "fname_dict = fpath_base / 'Fingerprinting/dict_70_1500.npz'\n",
    "\n",
    "# Prefix for ground truth T1, T2 and rho maps\n",
    "prefix_ground_truth = fpath_out / 'simulation_gt'\n",
    "\n",
    "# Filename of simulated raw k-space data\n",
    "fname_sim_out = fpath_out / 'output_sim.h5'\n"
   ]
  },
  {
   "cell_type": "markdown",
   "metadata": {},
   "source": [
    "## A Clean up folders\n",
    "\n",
    "When we set up the simulation, we need to save several files temporarily. To make sure we don't run into any problems from previous simulations, we go through all the folders and clean them. When you run the following cell you will be asked if you want to delete any old content. Just say 'y' to agree."
   ]
  },
  {
   "cell_type": "code",
   "execution_count": null,
   "metadata": {},
   "outputs": [],
   "source": [
    "# Set up folders for simulation (and remove exisiting ones)\n",
    "helper.clear_folders([fpath_in, fpath_out])"
   ]
  },
  {
   "cell_type": "markdown",
   "metadata": {},
   "source": [
    "## B Prepare segmentation and motion fields\n",
    "\n",
    "Here we load the segmentation and cardiac/respiratory motion fields and ensure their geometric information is correct. We also select a smaller subset of slices to speed up the simulation. Everything is saved as standard nifti files in `fpath_in`. For more information have a look at the notebook **cMRF_Workshop2022-A**."
   ]
  },
  {
   "cell_type": "code",
   "execution_count": null,
   "metadata": {},
   "outputs": [],
   "source": [
    "fname_segmentation, fpath_card_mvf_out, fpath_resp_mvf_out = helper.prep_sim(fpath_segmentation_nii, fpath_resp_mvf, fpath_card_mvf, \n",
    "                                                                                   fpath_in, num_slices=10, slice_start=35)"
   ]
  },
  {
   "cell_type": "markdown",
   "metadata": {},
   "source": [
    "## C Set up the simulation\n",
    "\n",
    "To set up the simulation for MRF we use a prepared function which completes the following steps:\n",
    "\n",
    "- load the segmentation into an `NiftiImageData3D` object\n",
    "- load the precalculated MRF signals for all the tissues present in the simulation\n",
    "- load a MR raw data file as a `AcquisitionData`\n",
    "- create a `MRDynamicSimulation`\n",
    "- add the segmentation to the simulation\n",
    "- add the `AcquisitionData` as a template for the data acquisition to the simulation\n",
    "- define the orientation/offset of the scan plane to be simulated\n",
    "- define SNR\n",
    "- define the coil sensitivity maps\n",
    "- add the MRF signals as `ExternalMRContrastDynami`\n",
    "    \n",
    "For more information on each of these steps please have a look at the notebook **cMRF_Workshop2022_B**\n",
    "    \n",
    "The function retuns the 'MRDynamicSimulation' object **mrsim** and the temporal behaviour of the magnetisation for the tissue types of the segmentation **magnetisation**. "
   ]
  },
  {
   "cell_type": "code",
   "execution_count": null,
   "metadata": {},
   "outputs": [],
   "source": [
    "mrsim, magnetisation = helper.set_up_mrf_sim(fname_acquisition_template, fname_segmentation, fname_xml,\n",
    "                                      fname_epg_par, fname_epg_sig, prefix_ground_truth, acq_step=10)"
   ]
  },
  {
   "cell_type": "markdown",
   "metadata": {},
   "source": [
    "Let's check the shape of **magnetisation**"
   ]
  },
  {
   "cell_type": "code",
   "execution_count": null,
   "metadata": {},
   "outputs": [],
   "source": [
    "print(f'The shape of magnetisation is {magnetisation.shape}')"
   ]
  },
  {
   "cell_type": "markdown",
   "metadata": {},
   "source": [
    "There 78 different signals (one for each tissue type of the segmentation) and they cover 150 readouts (i.e. radial lines). What do the signals look like?"
   ]
  },
  {
   "cell_type": "code",
   "execution_count": null,
   "metadata": {},
   "outputs": [],
   "source": [
    "# Visualise MRF signals\n",
    "plt.figure()\n",
    "plt.plot(np.real(magnetisation).transpose())\n",
    "plt.xlabel('Readout number')\n",
    "plt.ylabel('Signal (a.u.)');"
   ]
  },
  {
   "attachments": {},
   "cell_type": "markdown",
   "metadata": {},
   "source": [
    "## D Cardiac motion simulation\n",
    "\n",
    "In order to simulate motion we need the following ingredients:\n",
    "\n",
    "- motion vector fields\n",
    "- a surrogate describing for each time point of the acquisition in which motion state we currently are\n",
    "    \n",
    "The motion vector fields we obtained from the XCAT simulation and are in `fpath_card_mvf_out`. The surrogate signal we have to create. Let's look at an ECG signal:\n",
    "\n",
    "<div>\n",
    "<img src=\"./mrf_sim_cardiac_motion.png\" width=\"500\"/>\n",
    "</div>\n",
    "\n",
    "\n",
    "After each R-peak detected in the ECG, the cardiac motion states go from systole to diastole. To describe this we can use a saw-tooth function as our surrogate (`Dynamic signal`). In the code below we will create this surrogate for a specific heart rate and add it together with the motion vector fields to our simulation. The surrogate signal has to be normalised between 0 and 1. In the simulation the motion vector fields will then be interpolated to match the current value of the surrogate signal. E.g. if 4 motion vector fields are provided, and the current surrogate signal is 0.2 then the current motion transformation will be an interpolation of motion vector field 1 and 2. \n",
    "\n",
    "If we had a constant image contrast during our acquisition, the simulation would group all k-space data of a specific motion state and then carry out the simulation for all these k-space points together. For MRF, the MR signal changes for every readout and therefore we cannot group any k-space data for the motion simulation. This is just additional information, we don't have to do anything - the simulation is smart enough to figure all this out by itself. "
   ]
  },
  {
   "cell_type": "markdown",
   "metadata": {},
   "source": [
    "Let's start with the surrogate simulation"
   ]
  },
  {
   "cell_type": "code",
   "execution_count": null,
   "metadata": {},
   "outputs": [],
   "source": [
    "# Simulation of cardiac motion\n",
    "\n",
    "# Time axis = 12s\n",
    "Nt = 10000\n",
    "t0_s = 0\n",
    "tmax_s = 12\n",
    "\n",
    "# Frequency of heart beat\n",
    "f_Hz_card = 1.25\n",
    "\n",
    "# Create saw-tooth function\n",
    "t_card, sig_card = aux.get_normed_sawtooth_signal(t0_s, tmax_s, Nt, f_Hz_card)\n",
    "\n",
    "# Visualise surrogate signal\n",
    "plt.figure()\n",
    "plt.plot(t_card, sig_card)\n",
    "plt.xlabel('Time (s)')\n",
    "plt.ylabel('Motion surrogate');"
   ]
  },
  {
   "cell_type": "code",
   "execution_count": null,
   "metadata": {},
   "outputs": [],
   "source": [
    "# This number does not matter since every readout get's its own motionstate\n",
    "num_sim_card_states = 1\n",
    "card_motion = pDS.MRMotionDynamic( num_sim_card_states )\n",
    "card_motion.set_dynamic_signal(t_card, sig_card)\n",
    "card_motion.set_cyclicality(False)\n",
    "card_motion.set_groundtruth_folder_prefix(str(fpath_out / \"gt_card_mrf/\"))\n",
    "\n",
    "aux.set_motionfields_from_path(card_motion, str(fpath_in / 'mvfs_card/'))\n",
    "mrsim.add_motion_dynamic(card_motion)"
   ]
  },
  {
   "cell_type": "markdown",
   "metadata": {},
   "source": [
    "## E Run the simulation\n",
    "\n",
    "First we save the ground truth M0, T1 and T2 maps, then run the simulation and save the simulated raw data as `/home/sirfuser/devel/Data/SA/Output/output_sim.h5`. This is then also the end of the simulation part, and you could plug the simulated data into your favourite MRF image reconstruction + parameter estimation framework. But of course we also want to check here if the simulated data is actually any good and so we will do image reconstruction and dictionary matching afterwards."
   ]
  },
  {
   "cell_type": "code",
   "execution_count": null,
   "metadata": {},
   "outputs": [],
   "source": [
    "# Save ground truth parameter maps\n",
    "filenames_parametermaps = mrsim.save_parametermap_ground_truth(str(prefix_ground_truth))"
   ]
  },
  {
   "cell_type": "code",
   "execution_count": null,
   "metadata": {},
   "outputs": [],
   "source": [
    "# Simulate and save output\n",
    "mrsim.simulate_data()\n",
    "mrsim.write_simulation_results(str(fname_sim_out))"
   ]
  },
  {
   "cell_type": "markdown",
   "metadata": {},
   "source": [
    "## F Reconstruct image data\n",
    "\n",
    "We will carry out a basic image reconstruction by simply doing gridding of the radial data. We won't reconstruct one image per radial spoke but set the total number of reconstructed images with the paramter `num_recon_imgs`. The higher this values, the fewer radial lines per image are used and the more accurate the temporal behaviour of the MRF signal is recovered. But of course also the worse the quality of each image. More information on this can be found in **cMRF_Workshop2022_C**."
   ]
  },
  {
   "cell_type": "code",
   "execution_count": null,
   "metadata": {},
   "outputs": [],
   "source": [
    "# Reconstruct the dynamic image data\n",
    "recon, simulated_data_dyn = helper.rec_mrf_im(fname_sim_out, num_recon_imgs=30)"
   ]
  },
  {
   "cell_type": "code",
   "execution_count": null,
   "metadata": {},
   "outputs": [],
   "source": [
    "recon_result = recon.as_array()\n",
    "recon_result = np.abs(recon_result)"
   ]
  },
  {
   "cell_type": "markdown",
   "metadata": {},
   "source": [
    "## G Carry out matching\n",
    "\n",
    "Finally we carry out dictionary matching with a pre-calculated dictionary, visualise the obtained maps and compare them to the ground truth maps. More information on this can be found in **cMRF_Workshop2022_C**."
   ]
  },
  {
   "cell_type": "code",
   "execution_count": null,
   "metadata": {},
   "outputs": [],
   "source": [
    "m0_t1_t2_map_matched = helper.match_sig(recon, simulated_data_dyn, fname_dict, acq_step=10)"
   ]
  },
  {
   "cell_type": "code",
   "execution_count": null,
   "metadata": {},
   "outputs": [],
   "source": [
    "print(m0_t1_t2_map_matched.shape)"
   ]
  },
  {
   "cell_type": "code",
   "execution_count": null,
   "metadata": {},
   "outputs": [],
   "source": [
    "helper.vis_m0_t1_t2_mrf_maps([m0_t1_t2_map_matched,])"
   ]
  },
  {
   "cell_type": "markdown",
   "metadata": {},
   "source": [
    "Now we can also load the ground truth maps to compare"
   ]
  },
  {
   "cell_type": "code",
   "execution_count": null,
   "metadata": {},
   "outputs": [],
   "source": [
    "m0_t1_t2_map_gt = helper.load_gt_maps(filenames_parametermaps)"
   ]
  },
  {
   "cell_type": "code",
   "execution_count": null,
   "metadata": {},
   "outputs": [],
   "source": [
    "helper.vis_m0_t1_t2_mrf_maps([m0_t1_t2_map_gt, m0_t1_t2_map_matched,], method_titles=['Ground truth', 'Motion'])"
   ]
  },
  {
   "cell_type": "markdown",
   "metadata": {},
   "source": [
    "## Recap and outlook\n",
    "\n",
    "Well done! You now went through all the steps of setting up the simulation, defining a motion pattern and surrogate, carrying out the simulation, reconstruction the images and doing the dictionary matching to obtain the final parameter maps. \n",
    "\n",
    "To check that you understood this notebook you can try the following challenges:\n",
    "\n",
    "- Define the cardiac motion surrogate in a way such that all the data is acquired in systole\n",
    "- Add respiratory motion to the simulation and simulate a scan, where the patient cannot hold their breath a the same position during the scans but shows a drift\n",
    "\n",
    "The solutions you can find in **cMRF_Workshop2022-systole** and **cMRF_Workshop2022-drift**, but please try it yourself before you check them out. \n",
    "\n",
    "You can also have a look at notebooks **cMRF_Workshop2022-A**, **cMRF_Workshop2022-B** and **cMRF_Workshop2022_C** to learn more about the high-level functions used in this notebook. "
   ]
  }
 ],
 "metadata": {
  "interpreter": {
   "hash": "30295c5bec572e859485b1ffa5e89b8b3e2022ef6e3e739c1ac40f143a557caf"
  },
  "kernelspec": {
   "display_name": "Python 3",
   "language": "python",
   "name": "python3"
  },
  "language_info": {
   "codemirror_mode": {
    "name": "ipython"
   },
   "file_extension": ".py",
   "mimetype": "text/x-python",
   "name": "python",
   "nbconvert_exporter": "python"
  }
 },
 "nbformat": 4,
 "nbformat_minor": 2
}
