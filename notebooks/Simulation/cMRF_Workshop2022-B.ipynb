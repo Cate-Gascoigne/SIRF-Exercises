{
 "cells": [
  {
   "cell_type": "markdown",
   "metadata": {},
   "source": [
    "## Cardiac MRF Workshop 2022-B\n",
    "\n",
    "This notebook covers what is being done in `set_up_mrf_sim` in `cMRF_Workshop2022_helper`. Here we will load the segmentation and corresponding XML descriptor, look at the MRF signal curves needed for the simulation, load and modify an acquisition template for the data acquisition, define the SNR and coilmaps and run the simulation. \n",
    "\n",
    "For this notebook we need:\n",
    "\n",
    "- an MR rawdata file in ISMRMRD format describing the acquisition process (acquisition template)\n",
    "- an anatomy segmentation in RAI format (right-anterior-inferior)\n",
    "- an XML descriptor assigning tissue parameters to the labels.\n",
    "- contrast information describing the signal over time"
   ]
  },
  {
   "cell_type": "code",
   "execution_count": null,
   "metadata": {},
   "outputs": [],
   "source": [
    "# Import required packages\n",
    "import shutil, os\n",
    "from pathlib import Path \n",
    "\n",
    "import matplotlib.pyplot as plt\n",
    "\n",
    "import subprocess\n",
    "\n",
    "import nibabel as nib\n",
    "import numpy as np\n",
    "\n",
    "import sirf.Reg as pReg\n",
    "import sirf.DynamicSimulation as pDS\n",
    "import sirf.Gadgetron as pMR\n",
    "from cil.utilities.jupyter import islicer, link_islicer\n",
    "\n",
    "import auxiliary_functions as aux\n",
    "import cMRF_Workshop2022_helper as helper"
   ]
  },
  {
   "cell_type": "code",
   "execution_count": null,
   "metadata": {},
   "outputs": [],
   "source": [
    "# Set main paths\n",
    "root_path = Path('/home/sirfuser/devel/Data/SA/')\n",
    "fpath_base = root_path / \"Base\"\n",
    "\n",
    "# These folders will be filled with the formatted input \n",
    "# for the simulation and will then also contain the output of the simulation\n",
    "fpath_in = root_path / \"Input\"\n",
    "fpath_in.mkdir(exist_ok=True, parents=True)\n",
    "fpath_out = root_path / \"Output\"\n",
    "fpath_out.mkdir(exist_ok=True, parents=True)"
   ]
  },
  {
   "cell_type": "code",
   "execution_count": null,
   "metadata": {},
   "outputs": [],
   "source": [
    "# Tissue parameters (T1, T2, Rho) : xml\n",
    "fname_xml = fpath_base / 'XCat/XCAT_TissueParameters_XML.xml'\n",
    "# 3D tissue segmentation : nifti\n",
    "fpath_segmentation_nii = fpath_base / 'XCat/label_volume_sa.nii'\n",
    "# Respiratory motion fields : nifti\n",
    "fpath_resp_mvf = fpath_base / 'XCat/mvf_resp/'\n",
    "# Cardiac motion fields : nifti\n",
    "fpath_card_mvf = fpath_base / 'XCat/mvf_card/'\n",
    "\n",
    "# MR raw k-space data file as acquisition template : ismrmrd\n",
    "fname_acquisition_template = fpath_base / 'templates/acquisition_template.h5'\n",
    "\n",
    "# MRF parameters used for EPG simulation\n",
    "fname_epg_par = fpath_base / 'Fingerprinting/XCAT_tissue_parameter_list.npz'\n",
    "# MRF signals describing signal behaviour of tissue types in segmentation simulated with EPG\n",
    "fname_epg_sig = fpath_base / 'Fingerprinting/XCAT_tissue_parameter_fingerprints.npy'\n",
    "# MRF dictionary for matching and parameter estimation\n",
    "fname_dict = fpath_base / 'Fingerprinting/dict_70_1500.npz'\n",
    "\n",
    "# Prefix for ground truth T1, T2 and rho maps\n",
    "prefix_ground_truth = fpath_out / 'simulation_gt'"
   ]
  },
  {
   "cell_type": "markdown",
   "metadata": {},
   "source": [
    "## A Clean up folders\n",
    "\n",
    "When we set up the simulation, we need to save several files temporarily. To make sure we don't run into any problems from previous simulations, we go through all the folders and clean them. When you run the following cell you will be asked if you want to delete any old content. Just say 'y' to agree."
   ]
  },
  {
   "cell_type": "code",
   "execution_count": null,
   "metadata": {},
   "outputs": [],
   "source": [
    "helper.clear_folders([fpath_in, fpath_out])"
   ]
  },
  {
   "cell_type": "markdown",
   "metadata": {},
   "source": [
    "## B Prepare segmentation and motion fields\n",
    "\n",
    "Here we load the segmentation and cardiac/respiratory motion fields and ensure their geometric information is correct. We also select a smaller subset of slices to speed up the simulation. Everything is saved as standard nifti files in `fpath_in`. For more information have a look at the notebook **cMRF_Workshop2022-B**."
   ]
  },
  {
   "cell_type": "code",
   "execution_count": null,
   "metadata": {},
   "outputs": [],
   "source": [
    "fname_segmentation, fpath_card_mvf_out, fpath_resp_mvf_out = helper.prep_sim(fpath_segmentation_nii, fpath_resp_mvf, fpath_card_mvf, \n",
    "                                                                                   fpath_in, num_slices=10, slice_start=35)"
   ]
  },
  {
   "cell_type": "markdown",
   "metadata": {},
   "source": [
    "## C Segmentation and XML descriptor "
   ]
  },
  {
   "cell_type": "markdown",
   "metadata": {},
   "source": [
    "The segmentation is only a 3D volume with a unique index for each tissue type. In order to be able to assign MR parameters (e.g. T1 or T2 times) to it we use an XML descriptor. Here is an example of the XML descriptor. \n",
    "\n",
    "It contains\n",
    "- the label | which voxels it describes in the segmentation\n",
    "- the name | keeps track of what we actually mean by it \n",
    "- MR parameters | T1, T2, proton density and chemical shift\n",
    "- (PET parameters | only relevant for PET simulations)\n",
    "\n",
    "<img src=\"./simulation_xml_example.png\" alt=\"drawing\" width=600 />\n",
    "\n",
    "\n",
    "\n",
    "<h4> Features and Caveats: </h4>\n",
    "\n",
    "- the XML descriptor **needs to come in the form as displayed**.\n",
    "- arbitarily many sections of TissueParameter objects can be added, it does not matter if there are parameters described that do not appear in your segmentation.\n",
    "- **all labels appearing in your segmentations need to appear**, otherwise an error will occur informing you of your mistake. The above example would require a couple of more entries.\n",
    "- the PET parameters are not taken into consideration for MR simulations, but they still need to be present, fill them with zeros.\n"
   ]
  },
  {
   "cell_type": "markdown",
   "metadata": {},
   "source": [
    "## D MRF signal simulation"
   ]
  },
  {
   "cell_type": "markdown",
   "metadata": {},
   "source": [
    "The MRF signal simulation is not part of the simulation framework but signal curves (i.e. signal behaviour during data acquisition) can be provided by the user. This ensures greater flexibility and new signal models can be easily integrated into the simulation framework. \n",
    "\n",
    "Here we load the MRF signals pre-calculated with an EPG simulation and an index list, which maps the signal curves to the different tissue types present in the segmentation. "
   ]
  },
  {
   "cell_type": "code",
   "execution_count": null,
   "metadata": {},
   "outputs": [],
   "source": [
    "# Re-assign non-unique tissue combinations\n",
    "epg_input = np.load(fname_epg_par)\n",
    "inverse_idx = epg_input[\"unique_idx_inverse\"]\n",
    "\n",
    "# MRF signal curves calculated with EPG\n",
    "epg_output = np.load(fname_epg_sig)\n",
    "magnetisation = epg_output[:, inverse_idx]\n",
    "\n",
    "# Visualise the signal curves for each tissue type\n",
    "plt.figure()\n",
    "plt.plot(np.real(epg_output))\n",
    "plt.xlabel(\"readout\")\n",
    "plt.ylabel(\"signal (a.u.)\");"
   ]
  },
  {
   "cell_type": "markdown",
   "metadata": {},
   "source": [
    "## E Acquisition template\n",
    "\n",
    "In order to tell the simulation how the data was acquired we need a template, i.e. a MR raw data file of the acquisition. Here we use a 2D Golden-radial acquisition. We will load is an `AcquisitionData` object."
   ]
  },
  {
   "cell_type": "code",
   "execution_count": null,
   "metadata": {},
   "outputs": [],
   "source": [
    "# Load raw data as AcquisitionData object\n",
    "acquisition_template = pMR.AcquisitionData(str(fname_acquisition_template))"
   ]
  },
  {
   "cell_type": "markdown",
   "metadata": {},
   "source": [
    "Let's find out a few things about our acquisition template"
   ]
  },
  {
   "cell_type": "code",
   "execution_count": null,
   "metadata": {},
   "outputs": [],
   "source": [
    "# How many readouts?\n",
    "print(acquisition_template.number_of_readouts())"
   ]
  },
  {
   "cell_type": "code",
   "execution_count": null,
   "metadata": {},
   "outputs": [],
   "source": [
    "# What is the size of k-space\n",
    "print(acquisition_template.dimensions())"
   ]
  },
  {
   "cell_type": "code",
   "execution_count": null,
   "metadata": {},
   "outputs": [],
   "source": [
    "# What other functionality does the `AcquisitionData` object have?\n",
    "help(acquisition_template)"
   ]
  },
  {
   "cell_type": "code",
   "execution_count": null,
   "metadata": {},
   "outputs": [],
   "source": [
    "# Here we use only 100 radial lines to speed up the simulation\n",
    "num_acquisitions = 100\n",
    "subset_idx = np.arange(num_acquisitions)\n",
    "acquisition_template = acquisition_template.get_subset(subset_idx)\n",
    "\n",
    "# We also calculate the trajectory which we will need for the simulation\n",
    "acquisition_template = pMR.set_goldenangle2D_trajectory(acquisition_template)"
   ]
  },
  {
   "cell_type": "markdown",
   "metadata": {},
   "source": [
    "## F Create simulation object\n",
    "\n",
    "Now we can start to put everything together. In order to create a `MRDynamicSimulation` we need\n",
    "\n",
    "- Segmentation\n",
    "- XML descriptor\n",
    "\n",
    "Then we will \n",
    "\n",
    "- add acquisition template\n",
    "- set orientation and position of the slice we want to acquire\n",
    "- add MRF signal information\n",
    "- set the SNR\n",
    "- define the coilmaps\n"
   ]
  },
  {
   "cell_type": "markdown",
   "metadata": {},
   "source": [
    "### Create `MRDynamicSimulation`"
   ]
  },
  {
   "cell_type": "code",
   "execution_count": null,
   "metadata": {},
   "outputs": [],
   "source": [
    "# Load the labels into SIRF Nifti Container\n",
    "segmentation = pReg.NiftiImageData3D(str(fname_segmentation))\n",
    "\n",
    "# Filename of the XML descriptor\n",
    "fname_xml = fpath_base / 'XCat/XCAT_TissueParameters_XML.xml'\n",
    "\n",
    "# Create a simulation object\n",
    "mrsim = pDS.MRDynamicSimulation(segmentation, str(fname_xml))"
   ]
  },
  {
   "cell_type": "markdown",
   "metadata": {},
   "source": [
    "### Add the acquisition template"
   ]
  },
  {
   "cell_type": "code",
   "execution_count": null,
   "metadata": {},
   "outputs": [],
   "source": [
    "mrsim.set_template_data(acquisition_template)"
   ]
  },
  {
   "cell_type": "markdown",
   "metadata": {},
   "source": [
    "### Set orientation and position of the slice\n",
    "\n",
    "What we want to simulate is of course defined by the segmentation we provided. Nevertheless, we can still define a ROI for our simulated data acquisition within this segmentation. For this we can define an affine transformation (`AffineTransformation`) between segmentation and acquisition. Here we will simply move the central slice a bit"
   ]
  },
  {
   "cell_type": "code",
   "execution_count": null,
   "metadata": {},
   "outputs": [],
   "source": [
    "# Now we set up an affine transformation to move the acquired slice around\n",
    "offset_x_mm = 0\n",
    "offset_y_mm = 0\n",
    "offset_z_mm = -9\n",
    "rotation_angles_deg = [0,0,0]\n",
    "translation = np.array([offset_x_mm, offset_y_mm, offset_z_mm])\n",
    "euler_angles_deg = np.array(rotation_angles_deg)\n",
    "\n",
    "offset_trafo = pReg.AffineTransformation(translation, euler_angles_deg)\n",
    "mrsim.set_offset_trafo(offset_trafo)"
   ]
  },
  {
   "cell_type": "markdown",
   "metadata": {},
   "source": [
    "To verify what we have been doing so far, we will save the current ground truth T1, T2 and M0 maps and visualise them. "
   ]
  },
  {
   "cell_type": "code",
   "execution_count": null,
   "metadata": {},
   "outputs": [],
   "source": [
    "# We need to set the folder where we want to save the simulated T1, T2 and M0 maps\n",
    "prefix_ground_truth = fpath_out / \"simulation_geometry_acquisition_offset_parametermap\"\n",
    "\n",
    "# Save the ground truth maps\n",
    "filenames_parametermaps = mrsim.save_parametermap_ground_truth(str(prefix_ground_truth))\n",
    "\n",
    "# Load and display them\n",
    "m0_t1_t2_map_gt = helper.load_gt_maps(filenames_parametermaps)\n",
    "helper.vis_m0_t1_t2_mrf_maps([m0_t1_t2_map_gt,], method_titles=['Ground truth',])"
   ]
  },
  {
   "cell_type": "markdown",
   "metadata": {},
   "source": [
    "### MRF signal"
   ]
  },
  {
   "cell_type": "code",
   "execution_count": null,
   "metadata": {},
   "outputs": [],
   "source": [
    "# Say which labels are in the dynamic\n",
    "signal_labels = np.arange(magnetisation.shape[1])\n",
    "magnetisation = np.transpose(magnetisation[:num_acquisitions,:])\n",
    "\n",
    "# We need to create an external conrast dynamic\n",
    "mrf_signal = pDS.ExternalMRSignal(signal_labels, magnetisation)\n",
    "mrf_dynamic = pDS.ExternalMRContrastDynamic()\n",
    "mrf_dynamic.add_external_signal(mrf_signal)\n",
    "mrsim.add_external_contrast_dynamic(mrf_dynamic)"
   ]
  },
  {
   "cell_type": "markdown",
   "metadata": {},
   "source": [
    "### SNR\n",
    "\n",
    "Complex Gaussian noise is added to the rawdata after the simulation is performed. The width of the noise distribution is computed based on an SNR parameter and a label of the segmentation for which the SNR is then achieved in image space."
   ]
  },
  {
   "cell_type": "code",
   "execution_count": null,
   "metadata": {},
   "outputs": [],
   "source": [
    "SNR = 10\n",
    "SNR_label = 13\n",
    "\n",
    "mrsim.set_snr(SNR)\n",
    "mrsim.set_snr_label(SNR_label)"
   ]
  },
  {
   "cell_type": "markdown",
   "metadata": {},
   "source": [
    "### Coilmaps\n",
    "The coilmaps used in the simulation can be added flexibly.\n",
    "The best approach is to first compute them from the rawdata using SIRF and subsequently\n",
    "- replaced by a simulation of coilmaps that match the data size in the `CoilSensitivityData` object. \n",
    "- replaced by a dedicated coilmap which is measured. This will arguably give the best results as they are the most realistic.\n",
    "\n",
    "It is discouraged to use the computed coil profiles without replacing the data in the `CoilSensitivityData` as anatomy and air which are present in the template acquisitions will be transported into the simulation.\n",
    "\n",
    "In the auxiliary functions there is an example of how to simulate 2D coilmaps based on using the principal components of Gaussian sensitivity profiles.\n"
   ]
  },
  {
   "cell_type": "code",
   "execution_count": null,
   "metadata": {},
   "outputs": [],
   "source": [
    "# Get gaussian coilmaps\n",
    "csm = aux.gaussian_2D_coilmaps(acquisition_template)\n",
    "csm_arr = csm.as_array()\n",
    "\n",
    "f, ax = plt.subplots(1,4)\n",
    "for ic in range(4):\n",
    "    ax[ic].imshow(np.abs(np.squeeze((csm_arr[ic,...]))), vmin=0.0, vmax=0.35)\n",
    "    ax[ic].axis('off')\n",
    "    ax[ic].set_title('coil {}'.format(ic+1))\n",
    "\n",
    "mrsim.set_csm(csm)"
   ]
  },
  {
   "cell_type": "markdown",
   "metadata": {},
   "source": [
    "## G Run the simulation\n",
    "\n",
    "Now we have got everything and we can run the simulation"
   ]
  },
  {
   "cell_type": "code",
   "execution_count": null,
   "metadata": {},
   "outputs": [],
   "source": [
    "mrsim.simulate_data()"
   ]
  },
  {
   "cell_type": "markdown",
   "metadata": {},
   "source": [
    "### Recap\n",
    "In this notebook we:\n",
    "\n",
    "- learned about the XML file describing the tissue parameters,\n",
    "- added a transformation that defines the 2D slice within the 3D segmentation\n",
    "- added a raw data file as a template for the data acquisition\n",
    "- used pre-calculated MRF signals to define the MR signal behaviour during the simulated data acquisition\n",
    "- defined the SNR and coilmaps for the simulation"
   ]
  }
 ],
 "metadata": {
  "interpreter": {
   "hash": "30295c5bec572e859485b1ffa5e89b8b3e2022ef6e3e739c1ac40f143a557caf"
  },
  "kernelspec": {
   "display_name": "Python 3",
   "language": "python",
   "name": "python3"
  },
  "language_info": {
   "codemirror_mode": {
    "name": "ipython"
   },
   "file_extension": ".py",
   "mimetype": "text/x-python",
   "name": "python",
   "nbconvert_exporter": "python"
  }
 },
 "nbformat": 4,
 "nbformat_minor": 2
}
