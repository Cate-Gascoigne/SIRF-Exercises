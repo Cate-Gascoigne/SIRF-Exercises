{
 "cells": [
  {
   "cell_type": "markdown",
   "metadata": {},
   "source": [
    "## Notebook B: Simulate a steady-state sequence\n",
    "\n",
    "#### Prerequisites:\n",
    "- formatted template rawdata.\n",
    "- a segmentation.\n",
    "- an XML file describing the segmentation.\n",
    "\n",
    "#### Goals:\n",
    "- simulating a static 2D steady state sequence acquisition.\n",
    "\n",
    "#### Content overview: \n",
    "- Setting up the simulation with template data and segmentation.\n",
    "- Performing the simulation.\n",
    "- Reconstructing the simulation output."
   ]
  },
  {
   "cell_type": "code",
   "execution_count": null,
   "metadata": {},
   "outputs": [],
   "source": [
    "from pathlib import Path\n",
    "import os \n",
    "import numpy as np \n",
    "\n",
    "import matplotlib.pyplot as plt\n",
    "plt.rcParams['figure.figsize'] = [15,7.5]\n",
    "\n",
    "import sirf.Reg as pReg\n",
    "import sirf.Gadgetron as pMR\n",
    "import sirf.DynamicSimulation as pDS\n",
    "\n",
    "import auxiliary_functions as aux\n",
    "\n",
    "# this is where we store the properly formatted data\n",
    "root_path = Path(os.getenv(\"SIRF_INSTALL_PATH\"))\n",
    "root_path = root_path / \"share/SIRF-3.1/Simulation/\"\n",
    "fpath_input = root_path / \"Input\"\n",
    "\n",
    "fig_path = root_path / \"Figures\"\n",
    "fig_path.mkdir(exist_ok=True)\n"
   ]
  },
  {
   "cell_type": "code",
   "execution_count": null,
   "metadata": {},
   "outputs": [],
   "source": [
    "\n",
    "# set up simulation as we know it from before\n",
    "fname_xml = fpath_input / \"XCAT_TissueParameters_XML.xml\"\n",
    "fname_segmentation = fpath_input / \"segmentation.nii\"\n",
    "\n",
    "segmentation = pReg.NiftiImageData3D(str(fname_segmentation))\n",
    "simulation = pDS.MRDynamicSimulation(segmentation, str(fname_xml))\n"
   ]
  },
  {
   "cell_type": "code",
   "execution_count": null,
   "metadata": {},
   "outputs": [],
   "source": [
    "# template data\n",
    "fname_acquisition_template = fpath_input / \"acquisition_template.h5\"\n",
    "acquisition_template = pMR.AcquisitionData(str(fname_acquisition_template))\n",
    "\n",
    "# our template file contains 1500 readouts. We only want to use a subset for this purpose here.\n",
    "num_acq_subset = np.floor(np.pi/2*256)\n",
    "subset = np.arange(num_acq_subset)\n",
    "acquisition_template = acquisition_template.get_subset(subset)\n",
    "\n",
    "# to activate a golden-angle 2D encoding model we only need to set the trajectory\n",
    "acquisition_template = pMR.set_goldenangle2D_trajectory(acquisition_template)\n",
    "simulation.set_template_data(acquisition_template)"
   ]
  },
  {
   "cell_type": "markdown",
   "metadata": {},
   "source": [
    "Complex Gaussian noise is added to the rawdata after the simulation is performed. The width of the noise distribution is computed based on an SNR parameter and a label of the segmentation for which the SNR is then achieved in image space."
   ]
  },
  {
   "cell_type": "code",
   "execution_count": null,
   "metadata": {},
   "outputs": [],
   "source": [
    "#\n",
    "SNR = 10\n",
    "SNR_label = 13\n",
    "\n",
    "simulation.set_snr(SNR)\n",
    "simulation.set_snr_label(SNR_label)"
   ]
  },
  {
   "cell_type": "markdown",
   "metadata": {},
   "source": [
    "### Coilmaps\n",
    "The coilmaps used in the simulation can be added flexibly.\n",
    "The best approach is to first compute them from the rawdata using SIRF and subsequently\n",
    "- replaced by a simulation of coilmaps that match the data size in the `CoilSensitivityData` object. \n",
    "- replaced by a dedicated coilmap which is measured. This will arguably give the best results as they are the most realistic.\n",
    "\n",
    "It is discouraged to use the computed coil profiles without replacing the data in the `CoilSensitivityData` as anatomy and air which are present in the template acquisitions will be transported into the simulation.\n",
    "\n",
    "In the auxiliary functions there is an example of how to simulate 2D coilmaps based on using the principal components of Gaussian sensitivity profiles.\n"
   ]
  },
  {
   "cell_type": "code",
   "execution_count": null,
   "metadata": {},
   "outputs": [],
   "source": [
    "# get gaussian coilmaps\n",
    "csm = aux.gaussian_2D_coilmaps(acquisition_template)\n",
    "csm_arr = csm.as_array()\n",
    "\n",
    "f, ax = plt.subplots(1,4)\n",
    "for ic in range(4):\n",
    "    ax[ic].imshow(np.abs(np.squeeze((csm_arr[ic,...]))), vmin=0.0, vmax=0.35)\n",
    "    ax[ic].axis('off')\n",
    "    ax[ic].set_title('Receive channel {}'.format(ic+1))\n",
    "\n",
    "fname_out = fig_path / \"fig_b_coilmaps.png\"\n",
    "plt.savefig(str(fname_out), dpi=300)\n",
    "\n",
    "# \n",
    "simulation.set_csm(csm)"
   ]
  },
  {
   "cell_type": "code",
   "execution_count": null,
   "metadata": {},
   "outputs": [],
   "source": [
    "\n",
    "# we set up our transformation to get a 4-chamber view\n",
    "offset_x_mm = 0\n",
    "offset_y_mm = 0\n",
    "offset_z_mm = -14\n",
    "rotation_angles_deg = [0,0,0]\n",
    "translation = np.array([offset_x_mm, offset_y_mm, offset_z_mm])\n",
    "euler_angles_deg = np.array(rotation_angles_deg)\n",
    "\n",
    "offset_trafo = pReg.AffineTransformation(translation, euler_angles_deg)\n",
    "simulation.set_offset_trafo(offset_trafo)"
   ]
  },
  {
   "cell_type": "code",
   "execution_count": null,
   "metadata": {},
   "outputs": [],
   "source": [
    "simulation.simulate_data()\n",
    "\n",
    "# now we simulate and \n",
    "fname_output = root_path / \"Output/output_b_simulate_motion_static.h5\"\n",
    "if not fname_output.parent.is_dir():\n",
    "    fname_output.parent.mkdir(parents=True, exist_ok=True)\n",
    "\n",
    "\n",
    "simulation.write_simulation_results(str(fname_output))"
   ]
  },
  {
   "cell_type": "code",
   "execution_count": null,
   "metadata": {},
   "outputs": [],
   "source": [
    "# reconstruc the data only from without any information on the \n",
    "# simulation performed above\n",
    "simulated_file = pMR.AcquisitionData(str(fname_output))\n",
    "\n",
    "recon_stat = aux.iterative_reconstruct_data(simulated_file)\n",
    "recon_stat = pReg.NiftiImageData3D(recon_stat)\n",
    "recon_stat.write('/media/sf_CCPPETMR/tmp_b_stat.nii')\n",
    "\n",
    "import matplotlib.pyplot as plt\n",
    "f = plt.figure()\n",
    "plt.imshow(np.transpose(np.squeeze(np.abs(recon_stat.as_array()))),cmap='gray')\n",
    "plt.axis('off')\n",
    "plt.show()\n"
   ]
  }
 ],
 "metadata": {
  "interpreter": {
   "hash": "30295c5bec572e859485b1ffa5e89b8b3e2022ef6e3e739c1ac40f143a557caf"
  },
  "kernelspec": {
   "display_name": "Python 3",
   "language": "python",
   "name": "python3"
  },
  "language_info": {
   "codemirror_mode": {
    "name": "ipython"
   },
   "file_extension": ".py",
   "mimetype": "text/x-python",
   "name": "python",
   "nbconvert_exporter": "python"
  }
 },
 "nbformat": 4,
 "nbformat_minor": 2
}
