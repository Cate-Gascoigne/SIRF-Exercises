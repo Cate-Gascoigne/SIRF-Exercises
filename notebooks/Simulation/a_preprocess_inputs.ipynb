{
 "cells": [
  {
   "cell_type": "markdown",
   "metadata": {},
   "source": [
    "## Notbook A: How to preprocess input data for simulation\n",
    "\n",
    "#### Prerequisites:\n",
    "- Basic knowledge of Python \n",
    "\n",
    "#### Goals:\n",
    "- guide on how to prepare data as the simulation expects it.\n",
    "\n",
    "#### Content overview: \n",
    "- Loading anatomy segmentation\n",
    "- Writing XML rawdata input"
   ]
  },
  {
   "cell_type": "markdown",
   "metadata": {},
   "source": [
    "First off, we require to pre-process our data.\n",
    "We require the following minimum input data for a simulation:\n",
    "- an anatomy segmentation in RAI format (right-anterior-inferior)\n",
    "- an MR rawdata file in ISMRMRD format describing the segmentation (contrast template)\n",
    "- an MR rawdata file in ISMRMRD format describing the acquisition process (acquisition template)\n",
    "- an XML descriptor assigning tissue parameters to the labels."
   ]
  },
  {
   "cell_type": "code",
   "execution_count": null,
   "metadata": {},
   "outputs": [],
   "source": [
    "\n",
    "# first we generate where we store our data\n",
    "import os\n",
    "from pathlib import Path \n",
    "\n",
    "fpath_out = Path(os.getenv(\"SIRF_INSTALL_PATH\"))\n",
    "fpath_out = fpath_out / \"share/SIRF-3.1/Simulation/Input/\"\n",
    "\n",
    "fpath_out.mkdir(exist_ok=True,parents=True)"
   ]
  },
  {
   "cell_type": "markdown",
   "metadata": {},
   "source": [
    "### Segmentation"
   ]
  },
  {
   "cell_type": "code",
   "execution_count": null,
   "metadata": {},
   "outputs": [],
   "source": [
    "import nibabel as nib\n",
    "\n",
    "root_path = '/media/sf_CCPPETMR/TestData/Input/xDynamicSimulation/pDynamicSimulation/'\n",
    "fpath_segmentation_nii = root_path + 'Cube128/label_volume_rai.nii'\n",
    "\n",
    "segmentation = nib.load(fpath_segmentation_nii)\n",
    "print(\"The data shape is {}\".format(segmentation.shape))"
   ]
  },
  {
   "cell_type": "markdown",
   "metadata": {},
   "source": [
    "Let's have a look at the data:"
   ]
  },
  {
   "cell_type": "code",
   "execution_count": null,
   "metadata": {},
   "outputs": [],
   "source": [
    "%matplotlib inline\n",
    "import matplotlib.pyplot as plt\n",
    "\n",
    "f, axs = plt.subplots(1,3)\n",
    "axs[0].imshow(segmentation.get_fdata()[:,:,64])\n",
    "axs[0].set_ylabel(\"L-R\")\n",
    "axs[0].set_xlabel(\"P-A\")\n",
    "axs[0].set_xticks([])\n",
    "axs[0].set_yticks([])\n",
    "\n",
    "axs[1].imshow(segmentation.get_fdata()[:,64,:])\n",
    "axs[1].set_ylabel(\"L-R\")\n",
    "axs[1].set_xlabel(\"S-I\")\n",
    "axs[1].set_xticks([])\n",
    "axs[1].set_yticks([])\n",
    "\n",
    "axs[2].imshow(segmentation.get_fdata()[64,:,:])\n",
    "axs[2].set_ylabel(\"P-A\")\n",
    "axs[2].set_xlabel(\"S-I\")\n",
    "axs[2].set_xticks([])\n",
    "axs[2].set_yticks([])\n",
    "\n",
    "plt.show()"
   ]
  },
  {
   "cell_type": "markdown",
   "metadata": {},
   "source": [
    "RAI means: the data are available in memory such with increasing XYZ index the voxels move from left to right, from posteior to anterior, and from superior to inferior.\n",
    "Now this needs to be stored with orientation as well as resolution information."
   ]
  },
  {
   "cell_type": "markdown",
   "metadata": {},
   "source": [
    "We still need to store this geometry information into the segmentation Nifti."
   ]
  },
  {
   "cell_type": "code",
   "execution_count": null,
   "metadata": {},
   "outputs": [],
   "source": [
    "import numpy as np\n",
    "\n",
    "resolution_mm_per_pixel = np.array([2,2,-2,1])\n",
    "offset_mm =(-np.array(segmentation.shape)/2 + 0.5) * resolution_mm_per_pixel[0:3]\n",
    "\n",
    "affine = np.diag(resolution_mm_per_pixel)\n",
    "affine[:3,3] = offset_mm\n",
    "\n",
    "#\n",
    "img = nib.Nifti1Image(segmentation.get_fdata(), affine)\n",
    "fname_segmentation = str(fpath_out) + \"/segmentation.nii\"\n",
    "nib.save(img, fname_segmentation)"
   ]
  },
  {
   "cell_type": "markdown",
   "metadata": {},
   "source": [
    "### Motion Fields\n",
    "The motion fields must match the segmentation."
   ]
  },
  {
   "cell_type": "code",
   "execution_count": null,
   "metadata": {},
   "outputs": [],
   "source": [
    "import sirf.Reg as pReg\n",
    "\n",
    "def read_motionfields(fpath_prefix):\n",
    "\tp = sorted( Path(fpath_prefix).glob('mvf*') )\n",
    "\tfiles = [x for x in p if x.is_file()]\n",
    "\t\n",
    "\ttemp = []\n",
    "\tfor f in files:\n",
    "\t\tprint(\"Reading from {} ... \".format(f))\n",
    "\t\timg = pReg.NiftiImageData3DDisplacement(str(f))\n",
    "\t\ttemp.append(img)\n",
    "\n",
    "\tdata = np.array(temp, dtype=object)\n",
    "\treturn data\n",
    "\n",
    "fpath_resp_mvf = root_path + 'Cube128/mvf_resp/'\n",
    "resp_mvfs = read_motionfields(fpath_resp_mvf)\n"
   ]
  },
  {
   "cell_type": "code",
   "execution_count": null,
   "metadata": {},
   "outputs": [],
   "source": [
    "\n",
    "inhale_mvf = resp_mvfs[-1] \n",
    "inhale_arr = inhale_mvf.as_array()\n",
    "inhale_arr = np.linalg.norm(inhale_arr, axis=4)\n",
    "print(inhale_arr.shape)\n",
    "\n",
    "f, axs = plt.subplots(1,3)\n",
    "axs[0].imshow(inhale_arr[:,:,64])\n",
    "axs[0].set_ylabel(\"L-R\")\n",
    "axs[0].set_xlabel(\"P-A\")\n",
    "axs[0].set_xticks([])\n",
    "axs[0].set_yticks([])\n",
    "axs[0].xaxis.label.set_color('white')\n",
    "axs[0].yaxis.label.set_color('white')\n",
    "\n",
    "axs[1].imshow(inhale_arr[:,64,:])\n",
    "axs[1].set_ylabel(\"L-R\")\n",
    "axs[1].set_xlabel(\"S-I\")\n",
    "axs[1].set_xticks([])\n",
    "axs[1].set_yticks([])\n",
    "axs[1].xaxis.label.set_color('white')\n",
    "axs[1].yaxis.label.set_color('white')\n",
    "\n",
    "\n",
    "axs[2].imshow(inhale_arr[64,:,:])\n",
    "axs[2].set_ylabel(\"P-A\")\n",
    "axs[2].set_xlabel(\"S-I\")\n",
    "axs[2].set_xticks([])\n",
    "axs[2].set_yticks([])\n",
    "axs[2].xaxis.label.set_color('white')\n",
    "axs[2].yaxis.label.set_color('white')\n",
    "\n",
    "plt.show()"
   ]
  },
  {
   "cell_type": "markdown",
   "metadata": {},
   "source": [
    "### Raw data"
   ]
  },
  {
   "cell_type": "markdown",
   "metadata": {},
   "source": [
    "The simulation needs two MR raw-data objects to serve as templates:\n",
    "- one to set up the segmentation in image space, the so-called contrast template\n",
    "- one to dictate the simulated acquisition, the so-called acquisition template\n",
    "\n",
    "Since the simulation is able to resample different containers their geometry needs to be defined first. \n",
    "This is done by using a pre-compiled executable usually used for the SIRF tests.\n"
   ]
  },
  {
   "cell_type": "code",
   "execution_count": null,
   "metadata": {},
   "outputs": [],
   "source": [
    "fpath_SIRF_build = \"/home/sirfuser/devel/buildVM/builds/SIRF/build/\"\n",
    "fpath_preprocess_exe = fpath_SIRF_build + \"src/xGadgetron/cGadgetron/tests/MR_PROCESS_TESTDATA\"\n",
    "\n",
    "fname_input_contrast_template = root_path + 'Cube128/CV_nav_cart_128Cube_FLASH_T1.h5'\n",
    "fname_contrast_template = str(fpath_out) + \"/contrast_template.h5\"\n",
    "command_conttempl = \"{} {} {}\".format(fpath_preprocess_exe, fname_contrast_template, fname_contrast_template)\n",
    "\n",
    "\n",
    "fname_input_acquisition_template = root_path + 'General/meas_MID33_rad_2d_gc_FID78808_ismrmrd.h5'\n",
    "fname_acquisition_template = str(fpath_out) + \"/acquisition_template.h5\"\n",
    "command_acqtemplate = \"{} {} {}\".format(fpath_preprocess_exe, fname_input_acquisition_template, fname_acquisition_template)\n"
   ]
  },
  {
   "cell_type": "code",
   "execution_count": null,
   "metadata": {},
   "outputs": [],
   "source": [
    "\n",
    "print(\"Running {}\".format(command_conttempl))\n",
    "os.system(command_conttempl)\n",
    "\n",
    "os.system(command_acqtemplate)\n",
    "print(\"Running {}\".format(command_acqtemplate))"
   ]
  },
  {
   "cell_type": "markdown",
   "metadata": {},
   "source": [
    "### XML descriptor "
   ]
  },
  {
   "cell_type": "markdown",
   "metadata": {},
   "source": [
    "Here is an example of the XML descriptor. \n",
    "\n",
    "It contains\n",
    "- the label | which voxels it describes in the segmentation\n",
    "- the name | keeps track of what we actually mean by it \n",
    "- MR parameters | T1, T2, proton density and chemical shift\n",
    "- (PET parameters | only relevant for PET simulations)\n",
    "\n",
    "<img src=\"./simulation_xml_example.png\" alt=\"drawing\" width=600 />\n",
    "\n",
    "\n",
    "\n",
    "<h4> Features and Caveats: </h4>\n",
    "\n",
    "- the XML descriptor **needs to come in the form as displayed**.\n",
    "- arbitarily many sections of TissueParameter objects can be added, it does not matter if there are parameters described that do not appear in your segmentation.\n",
    "- **all labels appearing in your segmentations need to appear**, otherwise an error will occur informing you of your mistake. The above example would require a couple of more entries.\n",
    "- the PET parameters are not taken into consideration for MR simulations, but they still need to be present, fill them with zeros.\n"
   ]
  },
  {
   "cell_type": "code",
   "execution_count": null,
   "metadata": {},
   "outputs": [],
   "source": [
    "\n",
    "import sirf.Reg as pReg\n",
    "import sirf.DynamicSimulation as pDS\n",
    "import sirf.Gadgetron as pMR\n",
    "\n",
    "\n",
    "fpath_input = fpath_out\n",
    "\n",
    "fpath_out = Path(os.getenv(\"SIRF_INSTALL_PATH\"))\n",
    "fpath_out = fpath_out / \"share/SIRF-3.1/Simulation/Output/\"\n",
    "fpath_out.mkdir(exist_ok=True,parents=True)\n",
    "\n",
    "prefix_ground_truth = str(fpath_out) + \"/simulation_geometry_acquisition_offset_parametermap\"\n"
   ]
  },
  {
   "cell_type": "code",
   "execution_count": null,
   "metadata": {},
   "outputs": [],
   "source": [
    "\n",
    "# load the templates into SIRF MR acquisition data container\n",
    "contrast_template = pMR.AcquisitionData(fname_contrast_template)\n",
    "acquisition_template = pMR.AcquisitionData(fname_acquisition_template)\n"
   ]
  },
  {
   "cell_type": "code",
   "execution_count": null,
   "metadata": {},
   "outputs": [],
   "source": [
    "\n",
    "# load the labels into SIRF Nifti Container\n",
    "segmentation = pReg.NiftiImageData3D(fname_segmentation)\n",
    "\n",
    "# set up the simulation with the segmentation and corresponding XML filename.\n",
    "fname_xml = str(fpath_input) + '/XCAT_TissueParameters_XML.xml'\n",
    "mrsim = pDS.MRDynamicSimulation(segmentation, fname_xml)\n",
    "\n",
    "mrsim.set_contrast_template_data(contrast_template)\n",
    "mrsim.set_acquisition_template_data(acquisition_template)\n"
   ]
  },
  {
   "cell_type": "code",
   "execution_count": null,
   "metadata": {},
   "outputs": [],
   "source": [
    "# now we set up an affine transformation to move the acquired slice around\n",
    "offset_x_mm = 0\n",
    "offset_y_mm = 0\n",
    "offset_z_mm = -127.5 \n",
    "rotation_angles_deg = [0,0,0]\n",
    "translation = np.array([offset_x_mm, offset_y_mm, offset_z_mm])\n",
    "euler_angles_deg = np.array(rotation_angles_deg)\n",
    "\n",
    "offset_trafo = pReg.AffineTransformation(translation, euler_angles_deg)\n",
    "mrsim.set_offset_trafo(offset_trafo)\n",
    "\n",
    "filenames_parametermaps = mrsim.save_parametermap_ground_truth(prefix_ground_truth)"
   ]
  },
  {
   "cell_type": "code",
   "execution_count": null,
   "metadata": {},
   "outputs": [],
   "source": [
    "t1_map = pReg.NiftiImageData(filenames_parametermaps[0])\n",
    "t2_map = pReg.NiftiImageData(filenames_parametermaps[1])\n",
    "rho_map = pReg.NiftiImageData(filenames_parametermaps[2])\n",
    "\n",
    "f, axs = plt.subplots(1,3)\n",
    "axs[0].imshow(t1_map.as_array())\n",
    "axs[0].axis(\"off\")\n",
    "axs[0].set_title(\"T1\")\n",
    "\n",
    "axs[1].imshow(t2_map.as_array())\n",
    "axs[1].axis(\"off\")\n",
    "axs[1].set_title(\"T2\")\n",
    "\n",
    "axs[2].imshow(rho_map.as_array())\n",
    "axs[2].axis(\"off\")\n",
    "axs[2].set_title(\"Spin density\")\n",
    "\n",
    "plt.show()\n"
   ]
  }
 ],
 "metadata": {
  "interpreter": {
   "hash": "30295c5bec572e859485b1ffa5e89b8b3e2022ef6e3e739c1ac40f143a557caf"
  },
  "kernelspec": {
   "display_name": "Python 3.6.9 64-bit",
   "language": "python",
   "name": "python3"
  },
  "language_info": {
   "codemirror_mode": {
    "name": "ipython"
   },
   "file_extension": ".py",
   "mimetype": "text/x-python",
   "name": "python",
   "nbconvert_exporter": "python"
  }
 },
 "nbformat": 4,
 "nbformat_minor": 2
}
