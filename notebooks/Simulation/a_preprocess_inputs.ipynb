{
 "cells": [
  {
   "cell_type": "markdown",
   "metadata": {},
   "source": [
    "print(\"Hello world\")"
   ]
  },
  {
   "cell_type": "markdown",
   "metadata": {},
   "source": [
    "First off, we require to pre-process our data.\n",
    "We require the following minimum input data for a simulation:\n",
    "- an anatomy segmentation in RAI format (right-anterior-inferior)\n",
    "- an MR rawdata file in ISMRMRD format.\n",
    "- an XML descriptor assigning tissue parameters to the labels"
   ]
  },
  {
   "cell_type": "code",
   "execution_count": null,
   "metadata": {},
   "outputs": [],
   "source": [
    "import numpy as np\n",
    "import nibabel as nib\n",
    "\n",
    "\n",
    "\n",
    "root_path = '/media/sf_CCPPETMR/TestData/Input/xDynamicSimulation/pDynamicSimulation/'\n",
    "fpath_segmentation_nii = root_path + 'Cube128/label_volume_rai.nii'\n",
    "\n",
    "segmentation = nib.load(fpath_segmentation_nii)\n",
    "print(\"The data shape is {}\".format(segmentation.shape))\n"
   ]
  },
  {
   "cell_type": "code",
   "execution_count": null,
   "metadata": {},
   "outputs": [],
   "source": [
    "%matplotlib inline\n",
    "import matplotlib.pyplot as plt\n",
    "import sirf.Utilities as pUtil\n",
    "\n",
    "f, axs = plt.subplots(1,3)\n",
    "axs[0].imshow(segmentation.get_fdata()[:,:,64])\n",
    "axs[0].set_ylabel(\"L-R\")\n",
    "axs[0].set_xlabel(\"P-A\")\n",
    "axs[0].set_xticks([])\n",
    "axs[0].set_yticks([])\n",
    "\n",
    "axs[1].imshow(segmentation.get_fdata()[:,64,:])\n",
    "axs[1].set_ylabel(\"L-R\")\n",
    "axs[1].set_xlabel(\"S-I\")\n",
    "axs[1].set_xticks([])\n",
    "axs[1].set_yticks([])\n",
    "\n",
    "axs[2].imshow(segmentation.get_fdata()[64,:,:])\n",
    "axs[2].set_ylabel(\"P-A\")\n",
    "axs[2].set_xlabel(\"S-I\")\n",
    "axs[2].set_xticks([])\n",
    "axs[2].set_yticks([])\n",
    "\n",
    "plt.show()\n"
   ]
  },
  {
   "cell_type": "markdown",
   "metadata": {},
   "source": [
    "Here is an example of the XML descriptor. It contains\n",
    "- the label | which voxels it describes in the segmentation\n",
    "- the name | keeps track of what we actually mean by it \n",
    "- MR parameters | T1, T2, proton density and chemical shift\n",
    "- (PET parameters | only relevant for PET simulations)\n",
    "\n",
    "![asdf](simulation_xml_example.png \"Exemple of XML descriptor\")"
   ]
  },
  {
   "cell_type": "code",
   "execution_count": null,
   "metadata": {},
   "outputs": [],
   "source": []
  }
 ],
 "metadata": {
  "interpreter": {
   "hash": "30295c5bec572e859485b1ffa5e89b8b3e2022ef6e3e739c1ac40f143a557caf"
  },
  "kernelspec": {
   "display_name": "Python 3.6.9 64-bit",
   "language": "python",
   "name": "python3"
  },
  "language_info": {
   "codemirror_mode": {
    "name": "ipython"
   },
   "file_extension": ".py",
   "mimetype": "text/x-python",
   "name": "python",
   "nbconvert_exporter": "python"
  }
 },
 "nbformat": 4,
 "nbformat_minor": 2
}
