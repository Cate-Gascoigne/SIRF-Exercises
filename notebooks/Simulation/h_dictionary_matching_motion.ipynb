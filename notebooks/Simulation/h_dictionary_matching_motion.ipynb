{
 "cells": [
  {
   "cell_type": "code",
   "execution_count": null,
   "metadata": {},
   "outputs": [],
   "source": [
    "from pathlib import Path\n",
    "import os \n",
    "\n",
    "import matplotlib.pyplot as plt\n",
    "import numpy as np\n",
    "import auxiliary_functions as aux\n",
    "\n",
    "import sirf.Gadgetron as pMR\n",
    "\n",
    "# this is where we store the properly formatted data\n",
    "root_path = Path(os.getenv(\"SIRF_INSTALL_PATH\"))\n",
    "root_path = root_path / \"share/SIRF-3.1/Simulation/\"\n",
    "fpath_input = root_path / \"Input\"\n",
    "fpath_output = root_path / \"Output\"\n",
    "\n",
    "fname_stat          = fpath_output / \"output_d_simulate_mrf_static_1500.h5\"\n",
    "fname_resp          = fpath_output / \"output_g_simulate_mrf_resp.h5\"\n",
    "fname_cardioresp    = fpath_output / \"output_g_simulate_mrf_cardio_resp.h5\""
   ]
  },
  {
   "cell_type": "code",
   "execution_count": null,
   "metadata": {},
   "outputs": [],
   "source": [
    "ad_stat = pMR.AcquisitionData(str(fname_stat))\n",
    "ad_resp = pMR.AcquisitionData(str(fname_resp))\n",
    "ad_cardioresp = pMR.AcquisitionData(str(fname_cardioresp))\n",
    "\n",
    "num_recon_imgs = 3\n",
    "num_cg_iter = 5\n",
    "\n",
    "# \n",
    "fname_out = fpath_output / \"output_h_acquisitions_resolved_stat.h5\"\n",
    "\n",
    "if fname_out.is_file():\n",
    "    ad_stat = pMR.AcquisitionData(str(fname_out))\n",
    "    recon_stat = pMR.ImageData()\n",
    "    recon_stat.from_acquisition_data(ad_stat)\n",
    "    \n",
    "    fname_in = fpath_output / \"output_h_recon_resolved_stat.npy\"\n",
    "    arr = np.load(str(fname_in))\n",
    "    recon_stat.fill(arr)\n",
    "\n",
    "else:\n",
    "    recon_stat, ad_stat  = aux.iterative_reconstruct_timeresolved(ad_stat,num_recon_imgs,num_cg_iter)\n",
    "    ad_stat.write(str(fname_out))\n",
    "\n",
    "    fname_out = fpath_output / \"output_h_recon_resolved_stat.npy\"\n",
    "    np.save(str(fname_out), recon_stat.as_array())"
   ]
  },
  {
   "cell_type": "code",
   "execution_count": null,
   "metadata": {},
   "outputs": [],
   "source": [
    "# split cells to enable sequential execution\n",
    "\n",
    "fname_out = fpath_output / \"output_h_acquisitions_resolved_resp.h5\"\n",
    "\n",
    "if fname_out.is_file():\n",
    "    ad_resp = pMR.AcquisitionData(str(fname_out))\n",
    "    recon_resp = pMR.ImageData()\n",
    "    recon_resp.from_acquisition_data(ad_resp)\n",
    "    \n",
    "    fname_in = fpath_output / \"output_h_recon_resolved_stat.npy\"\n",
    "    arr = np.load(str(fname_in))\n",
    "    recon_resp.fill(arr)\n",
    "\n",
    "else:\n",
    "    recon_resp, ad_resp  = aux.iterative_reconstruct_timeresolved(ad_resp,num_recon_imgs,num_cg_iter)\n",
    "    ad_resp.write(str(fname_out))\n",
    "\n",
    "    fname_out = fpath_output / \"output_h_recon_resolved_resp.npy\"\n",
    "    np.save(str(fname_out), recon_resp.as_array())"
   ]
  },
  {
   "cell_type": "code",
   "execution_count": null,
   "metadata": {},
   "outputs": [],
   "source": [
    "# \n",
    "fname_out = fpath_output / \"output_h_acquisitions_resolved_cardioresp.h5\"\n",
    "\n",
    "if fname_out.is_file():\n",
    "    ad_cardioresp = pMR.AcquisitionData(str(fname_out))\n",
    "    recon_cardioresp = pMR.ImageData()\n",
    "    recon_cardioresp.from_acquisition_data(ad_resp)\n",
    "    \n",
    "    fname_in = fpath_output / \"output_h_recon_resolved_cardioresp.npy\"\n",
    "    arr = np.load(str(fname_in))\n",
    "    recon_cardioresp.fill(arr)\n",
    "\n",
    "else:\n",
    "    recon_cardioresp, ad_cardioresp = aux.iterative_reconstruct_timeresolved(ad_cardioresp,num_recon_imgs,num_cg_iter)\n",
    "    ad_cardioresp.write(str(fname_out))\n",
    "\n",
    "    fname_out = fpath_output / \"output_h_recon_resolved_cardioresp.npy\"\n",
    "    np.save(str(fname_out), recon_cardioresp.as_array())"
   ]
  },
  {
   "cell_type": "code",
   "execution_count": null,
   "metadata": {},
   "outputs": [],
   "source": [
    "# finally perform dictionary matching\n",
    "fname_dict = Path(\"/media/sf_CCPPETMR/TestData/Input/xDynamicSimulation/pDynamicSimulation/Fingerprints/dict_70_1500.npz\")\n",
    "mrfdict = np.load(fname_dict)\n",
    "\n",
    "dict_theta = mrfdict['dict_theta']\n",
    "dict_mrf = mrfdict['dict_norm']\n",
    "\n",
    "dict_stat = np.transpose( aux.apply_databased_sliding_window(ad_stat, np.transpose(dict_mrf)))\n",
    "dict_resp = np.transpose( aux.apply_databased_sliding_window(ad_resp, np.transpose(dict_mrf)))\n",
    "dict_cardioresp = np.transpose( aux.apply_databased_sliding_window(ad_cardioresp, np.transpose(dict_mrf)))"
   ]
  },
  {
   "cell_type": "code",
   "execution_count": null,
   "metadata": {},
   "outputs": [],
   "source": [
    "# split cells to enable sequential execution\n",
    "match_stat = aux.dictionary_matching(recon_stat, dict_stat, dict_theta)"
   ]
  },
  {
   "cell_type": "code",
   "execution_count": null,
   "metadata": {},
   "outputs": [],
   "source": [
    "match_resp = aux.dictionary_matching(recon_resp, dict_resp, dict_theta)"
   ]
  },
  {
   "cell_type": "code",
   "execution_count": null,
   "metadata": {},
   "outputs": [],
   "source": [
    "match_cardioresp = aux.dictionary_matching(recon_cardioresp, dict_cardioresp, dict_theta)"
   ]
  },
  {
   "cell_type": "code",
   "execution_count": null,
   "metadata": {},
   "outputs": [],
   "source": [
    "import nibabel as nib\n",
    "T1GT = nib.load(str(fpath_output/ \"output_c_static_ground_truth_T1_ms.nii\"))\n",
    "T2GT = nib.load(str(fpath_output/ \"output_c_static_ground_truth_T2_ms.nii\"))\n",
    "\n",
    "f,ax = plt.subplots(2,4)\n",
    "\n",
    "ax[0,0].imshow(np.abs(match_stat[:,:,1]),cmap='jet',vmin=400,vmax=2500)\n",
    "ax[0,0].axis('off')\n",
    "ax[0,2].set_title('S')\n",
    "ax[1,0].imshow(np.abs(match_stat[:,:,2]),cmap='viridis',vmin=10,vmax=150)\n",
    "ax[1,0].axis('off')\n",
    "\n",
    "ax[0,1].imshow(np.abs(match_resp[:,:,1]),cmap='jet',vmin=400,vmax=2500)\n",
    "ax[0,1].axis('off')\n",
    "ax[0,2].set_title('R')\n",
    "ax[1,1].imshow(np.abs(match_resp[:,:,2]),cmap='viridis',vmin=10,vmax=150)\n",
    "ax[1,1].axis('off')\n",
    "\n",
    "ax[0,2].imshow(np.abs(match_cardioresp[:,:,1]),cmap='jet',vmin=400,vmax=2500)\n",
    "ax[0,2].axis('off')\n",
    "ax[0,2].set_title('C+R')\n",
    "ax[1,2].imshow(np.abs(match_cardioresp[:,:,2]),cmap='viridis',vmin=10,vmax=150)\n",
    "ax[1,2].axis('off')\n",
    "\n",
    "ax[0,3].imshow(np.transpose(np.abs(np.squeeze(T1GT.get_fdata()))),cmap='jet',vmin=400,vmax=2500)\n",
    "ax[0,3].axis('off')\n",
    "ax[0,3].set_title('GT')\n",
    "ax[1,3].imshow(np.transpose(np.abs(np.squeeze(T2GT.get_fdata()))),cmap='viridis',vmin=10,vmax=150)\n",
    "ax[1,3].axis('off')\n",
    "\n",
    "fig_path = root_path / \"Figures\"\n",
    "fig_path.mkdir(exist_ok=True)\n",
    "\n",
    "fname_out = fig_path / \"fig_h_dictionary_matching_motionresolved.png\"\n",
    "plt.savefig(str(fname_out), dpi=300)\n",
    "plt.show()"
   ]
  }
 ],
 "metadata": {
  "interpreter": {
   "hash": "30295c5bec572e859485b1ffa5e89b8b3e2022ef6e3e739c1ac40f143a557caf"
  },
  "kernelspec": {
   "display_name": "Python 3",
   "language": "python",
   "name": "python3"
  },
  "language_info": {
   "codemirror_mode": {
    "name": "ipython"
   },
   "file_extension": ".py",
   "mimetype": "text/x-python",
   "name": "python",
   "nbconvert_exporter": "python"
  }
 },
 "nbformat": 4,
 "nbformat_minor": 2
}
