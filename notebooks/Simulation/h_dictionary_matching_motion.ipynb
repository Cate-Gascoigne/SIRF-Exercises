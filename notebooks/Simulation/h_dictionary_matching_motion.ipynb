{
 "cells": [
  {
   "cell_type": "markdown",
   "metadata": {},
   "source": [
    "## Notebook H: Dictionary matching for motion-resolved simulation\n",
    "\n",
    "#### Prerequisites:\n",
    "- successful execution of notebook e_timeresolved_reconstruction.ipynb\n",
    "- successful execution of notebook g_simuialte_MRF_with_motion.ipynb\n",
    "\n",
    "#### Content:\n",
    "- performing a time-resolved reconstruction for multiple motion types.\n",
    "- extracting $T_1$ and $T_2$ maps from dictionary matching. \n",
    "- comparison of dictionary matching results for multiple motion types."
   ]
  },
  {
   "cell_type": "code",
   "execution_count": null,
   "metadata": {},
   "outputs": [],
   "source": [
    "from pathlib import Path\n",
    "import os \n",
    "\n",
    "import matplotlib.pyplot as plt\n",
    "import numpy as np\n",
    "import auxiliary_functions as aux\n",
    "\n",
    "import sirf.Gadgetron as pMR\n",
    "\n",
    "# this is where we store the properly formatted data\n",
    "root_path = aux.root_path\n",
    "\n",
    "fpath_input = root_path / \"Input\"\n",
    "fpath_output = root_path / \"Output\"\n",
    "fig_path = root_path / \"Figures\"\n",
    "\n",
    "fig_path.mkdir(exist_ok=True)\n",
    "\n",
    "fname_stat          = fpath_output / \"output_d_simulate_mrf_static_1500.h5\"\n",
    "fname_resp          = fpath_output / \"output_g_simulate_mrf_resp.h5\"\n",
    "fname_cardioresp    = fpath_output / \"output_g_simulate_mrf_cardio_resp.h5\""
   ]
  },
  {
   "cell_type": "code",
   "execution_count": null,
   "metadata": {},
   "outputs": [],
   "source": [
    "ad_stat = pMR.AcquisitionData(str(fname_stat))\n",
    "ad_resp = pMR.AcquisitionData(str(fname_resp))\n",
    "ad_cardioresp = pMR.AcquisitionData(str(fname_cardioresp))\n",
    "\n",
    "num_recon_imgs = 250\n",
    "\n",
    "fname_out = fpath_output / \"output_h_acquisitions_resolved_stat.h5\"\n",
    "\n",
    "if fname_out.is_file():\n",
    "    ad_stat = pMR.AcquisitionData(str(fname_out))\n",
    "    recon_stat = pMR.ImageData()\n",
    "    recon_stat.from_acquisition_data(ad_stat)\n",
    "    \n",
    "    fname_in = fpath_output / \"output_h_recon_resolved_stat.npy\"\n",
    "    arr = np.load(str(fname_in))\n",
    "    recon_stat.fill(arr)\n",
    "else:\n",
    "    recon_stat, ad_stat  = aux.reconstruct_timeresolved(ad_stat,num_recon_imgs)\n",
    "    ad_stat.write(str(fname_out))\n",
    "\n",
    "    fname_out = fpath_output / \"output_h_recon_resolved_stat.npy\"\n",
    "    np.save(str(fname_out), recon_stat.as_array())\n",
    "\n",
    "aux.write_nii('/media/sf_CCPPETMR/tmp_h_s.nii', recon_stat)"
   ]
  },
  {
   "cell_type": "code",
   "execution_count": null,
   "metadata": {},
   "outputs": [],
   "source": [
    "# split cells to enable sequential execution\n",
    "\n",
    "fname_out = fpath_output / \"output_h_acquisitions_resolved_resp.h5\"\n",
    "\n",
    "if fname_out.is_file():\n",
    "    ad_resp = pMR.AcquisitionData(str(fname_out))\n",
    "    recon_resp = pMR.ImageData()\n",
    "    recon_resp.from_acquisition_data(ad_resp)\n",
    "    \n",
    "    fname_in = fpath_output / \"output_h_recon_resolved_resp.npy\"\n",
    "    arr = np.load(str(fname_in))\n",
    "    recon_resp.fill(arr)\n",
    "\n",
    "else:\n",
    "    recon_resp, ad_resp  = aux.reconstruct_timeresolved(ad_resp,num_recon_imgs)\n",
    "    ad_resp.write(str(fname_out))\n",
    "\n",
    "    fname_out = fpath_output / \"output_h_recon_resolved_resp.npy\"\n",
    "    np.save(str(fname_out), recon_resp.as_array())\n",
    "aux.write_nii('/media/sf_CCPPETMR/tmp_h_r.nii', recon_resp)\n"
   ]
  },
  {
   "cell_type": "code",
   "execution_count": null,
   "metadata": {},
   "outputs": [],
   "source": [
    "# \n",
    "fname_out = fpath_output / \"output_h_acquisitions_resolved_cardioresp.h5\"\n",
    "\n",
    "if fname_out.is_file():\n",
    "    ad_cardioresp = pMR.AcquisitionData(str(fname_out))\n",
    "    recon_cardioresp = pMR.ImageData()\n",
    "    recon_cardioresp.from_acquisition_data(ad_resp)\n",
    "    \n",
    "    fname_in = fpath_output / \"output_h_recon_resolved_cardioresp.npy\"\n",
    "    arr = np.load(str(fname_in))\n",
    "    recon_cardioresp.fill(arr)\n",
    "\n",
    "else:\n",
    "    recon_cardioresp, ad_cardioresp = aux.reconstruct_timeresolved(ad_cardioresp,num_recon_imgs)\n",
    "    ad_cardioresp.write(str(fname_out))\n",
    "\n",
    "    fname_out = fpath_output / \"output_h_recon_resolved_cardioresp.npy\"\n",
    "    np.save(str(fname_out), recon_cardioresp.as_array())\n",
    "\n",
    "aux.write_nii('/media/sf_CCPPETMR/tmp_h_cr.nii', recon_cardioresp)"
   ]
  },
  {
   "cell_type": "code",
   "execution_count": null,
   "metadata": {},
   "outputs": [],
   "source": [
    "# finally perform dictionary matching\n",
    "fname_dict = fpath_input / \"Fingerprinting/dict_70_1500.npz\"\n",
    "mrfdict = np.load(fname_dict)\n",
    "\n",
    "dict_theta = mrfdict['dict_theta']\n",
    "dict_mrf = mrfdict['dict_norm']\n",
    "\n",
    "# otherwise it's too annoying to wait for this\n",
    "subsample_dict_factor = 10\n",
    "dict_theta = dict_theta[0:-1:subsample_dict_factor,:]\n",
    "dict_mrf= dict_mrf[0:-1:subsample_dict_factor,:]\n"
   ]
  },
  {
   "cell_type": "code",
   "execution_count": null,
   "metadata": {},
   "outputs": [],
   "source": [
    "dict_stat = np.transpose( aux.apply_databased_sliding_window(ad_stat, np.transpose(dict_mrf)))\n",
    "dict_resp = np.transpose( aux.apply_databased_sliding_window(ad_resp, np.transpose(dict_mrf)))\n",
    "dict_cardioresp = np.transpose( aux.apply_databased_sliding_window(ad_cardioresp, np.transpose(dict_mrf)))"
   ]
  },
  {
   "cell_type": "code",
   "execution_count": null,
   "metadata": {},
   "outputs": [],
   "source": [
    "# split cells to enable sequential execution\n",
    "match_stat = aux.dictionary_matching(recon_stat, dict_stat, dict_theta)"
   ]
  },
  {
   "cell_type": "code",
   "execution_count": null,
   "metadata": {},
   "outputs": [],
   "source": [
    "match_resp = aux.dictionary_matching(recon_resp, dict_resp, dict_theta)"
   ]
  },
  {
   "cell_type": "code",
   "execution_count": null,
   "metadata": {},
   "outputs": [],
   "source": [
    "match_cardioresp = aux.dictionary_matching(recon_cardioresp, dict_cardioresp, dict_theta)"
   ]
  },
  {
   "cell_type": "code",
   "execution_count": null,
   "metadata": {},
   "outputs": [],
   "source": [
    "import nibabel as nib\n",
    "from mpl_toolkits.axes_grid1 import make_axes_locatable\n",
    "\n",
    "T1GT = nib.load(str(fpath_output/ \"output_c_static_ground_truth_T1_ms.nii\"))\n",
    "T2GT = nib.load(str(fpath_output/ \"output_c_static_ground_truth_T2_ms.nii\"))\n",
    "\n",
    "f,ax = plt.subplots(2,4)\n",
    "\n",
    "ax[0,0].imshow(np.abs(match_stat[:,:,1]),cmap='jet',vmin=0,vmax=2500)\n",
    "ax[0,0].axis('off')\n",
    "ax[0,0].set_title('S')\n",
    "ax[1,0].imshow(np.abs(match_stat[:,:,2]),cmap='magma',vmin=0,vmax=150)\n",
    "ax[1,0].axis('off')\n",
    "\n",
    "ax[0,1].imshow(np.abs(match_resp[:,:,1]),cmap='jet',vmin=0,vmax=2500)\n",
    "ax[0,1].axis('off')\n",
    "ax[0,1].set_title('R')\n",
    "ax[1,1].imshow(np.abs(match_resp[:,:,2]),cmap='magma',vmin=0,vmax=150)\n",
    "ax[1,1].axis('off')\n",
    "\n",
    "ax[0,2].imshow(np.abs(match_cardioresp[:,:,1]),cmap='jet',vmin=0,vmax=2500)\n",
    "ax[0,2].axis('off')\n",
    "ax[0,2].set_title('C+R')\n",
    "ax[1,2].imshow(np.abs(match_cardioresp[:,:,2]),cmap='magma',vmin=0,vmax=150)\n",
    "ax[1,2].axis('off')\n",
    "\n",
    "\n",
    "divider = make_axes_locatable(ax[0,3])\n",
    "cax = divider.append_axes('right', size='5%', pad=0.05)\n",
    "\n",
    "im = ax[0,3].imshow(np.transpose(np.abs(np.squeeze(T1GT.get_fdata()))),cmap='jet',vmin=0,vmax=2500)\n",
    "ax[0,3].axis('off')\n",
    "ax[0,3].set_title('GT')\n",
    "\n",
    "cbar = f.colorbar(im, cax=cax, ticks=[0, 800, 1600, 2400])\n",
    "cbar.ax.tick_params(labelsize=12)\n",
    "cbar.set_label(f'T1(ms)')\n",
    "\n",
    "\n",
    "divider = make_axes_locatable(ax[1,3])\n",
    "cax = divider.append_axes('right', size='5%', pad=0.05)\n",
    "\n",
    "im =ax[1,3].imshow(np.transpose(np.abs(np.squeeze(T2GT.get_fdata()))),cmap='magma',vmin=0,vmax=150)\n",
    "ax[1,3].axis('off')\n",
    "\n",
    "cbar = f.colorbar(im, cax=cax, ticks=[0, 50, 100, 150])\n",
    "cbar.ax.tick_params(labelsize=12)\n",
    "cbar.set_label(f'T2(ms)')\n",
    "\n",
    "\n",
    "\n",
    "fname_out = fig_path / \"fig_h_dictionary_matching_motionresolved.png\"\n",
    "plt.savefig(str(fname_out), dpi=300)"
   ]
  },
  {
   "cell_type": "markdown",
   "metadata": {},
   "source": [
    "#### Recap\n",
    "In this notebook we \n",
    "- applied the dictionary matching to previously simulated data containing motion.\n",
    "- compared the influence of motion on the resulting $T_1$ and $T_2$ maps."
   ]
  }
 ],
 "metadata": {
  "interpreter": {
   "hash": "30295c5bec572e859485b1ffa5e89b8b3e2022ef6e3e739c1ac40f143a557caf"
  },
  "kernelspec": {
   "display_name": "Python 3",
   "language": "python",
   "name": "python3"
  },
  "language_info": {
   "codemirror_mode": {
    "name": "ipython"
   },
   "file_extension": ".py",
   "mimetype": "text/x-python",
   "name": "python",
   "nbconvert_exporter": "python"
  }
 },
 "nbformat": 4,
 "nbformat_minor": 2
}
