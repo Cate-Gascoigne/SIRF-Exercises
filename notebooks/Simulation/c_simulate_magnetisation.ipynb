{
 "cells": [
  {
   "cell_type": "markdown",
   "metadata": {},
   "source": [
    "### Notebook C: "
   ]
  },
  {
   "cell_type": "markdown",
   "metadata": {},
   "source": [
    "## Notbook C: How to preprocess input data for simulation\n",
    "\n",
    "#### Prerequisites:\n",
    "- basic knowledge of Python \n",
    "- segmentation and motion fields\n",
    "- contrast and acquisition template rawdata\n",
    "- simulated magnetisation for all tissue types in the segmentation\n",
    "\n",
    "#### Goals:\n",
    "- Passing a pre-computed magnetisation to the simulation.\n",
    "\n",
    "#### Content overview: \n",
    "- extracting the tissue parameters from an XML file.\n",
    "- adding a time-dependent magnetisation to the simulation.\n",
    "- using a pre-computed magnetisation to perform an MRF simulation."
   ]
  },
  {
   "cell_type": "code",
   "execution_count": null,
   "metadata": {},
   "outputs": [],
   "source": [
    "from pathlib import Path\n",
    "import os \n",
    "\n",
    "# this is where we store the properly formatted data\n",
    "root_path = Path(os.getenv(\"SIRF_INSTALL_PATH\"))\n",
    "root_path = root_path / \"share/SIRF-3.1/Simulation/\"\n",
    "fpath_input = root_path / \"Input\"\n"
   ]
  },
  {
   "cell_type": "markdown",
   "metadata": {},
   "source": [
    "#### Generating Tissue Dictionary\n",
    "\n",
    "In the XML file we have defined the MR parameters T1, T2 and spin density for every tissue appearing in our segmentation. If we want to perform an EPG simulation for each these combinations we have to read .\n",
    "\n",
    "This can be done using XML parsing and is encapsulated in the TissueParameterList.\n",
    "Each row contains the MR tissue parameters in the order: \n",
    "\n",
    "_(label, spin density (% of water), T1(ms), T2(ms), chemical shift (ppm))_\n",
    "\n",
    "Once this information is available it can be passed to any external tool."
   ]
  },
  {
   "cell_type": "code",
   "execution_count": null,
   "metadata": {},
   "outputs": [],
   "source": [
    "import numpy as np\n",
    "import auxiliary_functions as aux\n",
    "import TissueParameterList as TPL\n",
    "\n",
    "fname_xml = fpath_input / \"XCAT_TissueParameters_XML.xml\"\n",
    "tpl = TPL.TissueParameterList()\n",
    "tpl.parse_xml(str(fname_xml))\n",
    "print(\"The tissue parameters for the different labels are: \\n {}\".format(tpl.mr_as_array().astype(np.int)))\n"
   ]
  },
  {
   "cell_type": "markdown",
   "metadata": {},
   "source": [
    "The EPG simulation part is ommitted at this point and a pre-computed magnetisation is loaded from a file."
   ]
  },
  {
   "cell_type": "code",
   "execution_count": null,
   "metadata": {},
   "outputs": [],
   "source": [
    "from pathlib import Path\n",
    "import shutil \n",
    "fpath_epg_result = Path(\"/media/sf_CCPPETMR/TestData/Input/xDynamicSimulation/pDynamicSimulation/Fingerprints/\")\n",
    "\n",
    "fname_epg_input = fpath_epg_result / \"XCAT_tissue_parameter_list.npz\"\n",
    "fname_epg_simulation = fpath_epg_result / \"XCAT_tissue_parameter_fingerprints.npy\"\n",
    "\n",
    "# copy for reference later\n",
    "shutil.copy( str(fname_epg_input), str(fpath_input))\n",
    "shutil.copy( str(fname_epg_simulation), str(fpath_input))\n",
    "\n",
    "# re-assign non-unique tissue combinations\n",
    "epg_input = np.load(fname_epg_input)\n",
    "inverse_idx = epg_input[\"unique_idx_inverse\"]\n",
    "inverse_idx.shape\n",
    "\n",
    "#\n",
    "epg_output = np.load(fname_epg_simulation)\n",
    "magnetisation = epg_output[:, inverse_idx]"
   ]
  },
  {
   "cell_type": "code",
   "execution_count": null,
   "metadata": {},
   "outputs": [],
   "source": [
    "# We go through our usual drill of setting up our simulation\n",
    "\n",
    "import sirf.DynamicSimulation as pDS\n",
    "import sirf.Reg as pReg\n",
    "import sirf.Gadgetron as pMR\n",
    "\n",
    "\n",
    "fname_segmentation = fpath_input / \"segmentation.nii\"\n",
    "segmentation = pReg.NiftiImageData3D(str(fname_segmentation))\n",
    "\n",
    "simulation = pDS.MRDynamicSimulation(segmentation, str(fname_xml))\n",
    "\n"
   ]
  },
  {
   "cell_type": "code",
   "execution_count": null,
   "metadata": {},
   "outputs": [],
   "source": [
    "\n",
    "fname_contrast_template = fpath_input / \"contrast_template.h5\"\n",
    "contrast_template = pMR.AcquisitionData(str(fname_contrast_template))\n",
    "contrast_template = pMR.preprocess_acquisition_data(contrast_template)\n",
    "\n",
    "simulation.set_contrast_template_data(contrast_template)"
   ]
  },
  {
   "cell_type": "code",
   "execution_count": null,
   "metadata": {},
   "outputs": [],
   "source": [
    "\n",
    "fname_acquisition_template = fpath_input / \"acquisition_template.h5\"\n",
    "acquisition_template = pMR.AcquisitionData(str(fname_acquisition_template))\n",
    "\n",
    "num_acquisitions = 256\n",
    "subset_idx = np.arange(num_acquisitions)\n",
    "acquisition_template = acquisition_template.get_subset(subset_idx)\n",
    "acquisition_template = pMR.set_goldenangle2D_trajectory(acquisition_template)\n",
    "\n",
    "simulation.set_acquisition_template_data(acquisition_template)"
   ]
  },
  {
   "cell_type": "code",
   "execution_count": null,
   "metadata": {},
   "outputs": [],
   "source": [
    "csm = aux.unity_coilmaps_from_rawdata(acquisition_template)\n",
    "simulation.set_csm(csm)"
   ]
  },
  {
   "cell_type": "code",
   "execution_count": null,
   "metadata": {},
   "outputs": [],
   "source": []
  }
 ],
 "metadata": {
  "interpreter": {
   "hash": "30295c5bec572e859485b1ffa5e89b8b3e2022ef6e3e739c1ac40f143a557caf"
  },
  "kernelspec": {
   "display_name": "Python 3.6.9 64-bit",
   "language": "python",
   "name": "python3"
  },
  "language_info": {
   "codemirror_mode": {
    "name": "ipython"
   },
   "file_extension": ".py",
   "mimetype": "text/x-python",
   "name": "python",
   "nbconvert_exporter": "python"
  }
 },
 "nbformat": 4,
 "nbformat_minor": 2
}
