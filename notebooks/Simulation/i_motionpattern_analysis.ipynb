{
 "cells": [
  {
   "cell_type": "markdown",
   "metadata": {},
   "source": [
    "### Notebook I: Analysing effect of different motion patterns\n",
    "Goals:\n",
    "- we want to run the simulation with different motion patterns and analyse the effect on resulting T1 maps"
   ]
  },
  {
   "cell_type": "code",
   "execution_count": null,
   "metadata": {},
   "outputs": [],
   "source": [
    "from pathlib import Path\n",
    "import os, time\n",
    "import numpy as np\n",
    "import auxiliary_functions as aux\n",
    "\n",
    "import sirf.DynamicSimulation as pDS\n",
    "import sirf.Reg as pReg\n",
    "import sirf.Gadgetron as pMR\n",
    "\n",
    "# this is where we store the properly formatted data\n",
    "root_path = Path(os.getenv(\"SIRF_INSTALL_PATH\"))\n",
    "root_path = root_path / \"share/SIRF-3.1/Simulation/\"\n",
    "fpath_input = root_path / \"Input\"\n"
   ]
  },
  {
   "cell_type": "code",
   "execution_count": null,
   "metadata": {},
   "outputs": [],
   "source": [
    "# we always need the same MRF signal\n",
    "def get_preconfigured_mrfsignal(fpath_epg_result, subset_idx=None):\n",
    "    \n",
    "    fname_epg_input = fpath_epg_result / \"XCAT_tissue_parameter_list.npz\"\n",
    "    fname_epg_simulation = fpath_epg_result / \"XCAT_tissue_parameter_fingerprints.npy\"\n",
    "\n",
    "    # re-assign non-unique tissue combinations\n",
    "    epg_input = np.load(fname_epg_input)\n",
    "    inverse_idx = epg_input[\"unique_idx_inverse\"]\n",
    "    inverse_idx.shape\n",
    "\n",
    "    #\n",
    "    epg_output = np.load(fname_epg_simulation)\n",
    "    magnetisation = epg_output[:, inverse_idx]\n",
    "\n",
    "    num_sim_acq = magnetisation.shape[0]\n",
    "    magnet_subset = np.arange(num_sim_acq)\n",
    "    magnetisation = magnetisation[magnet_subset, :]\n",
    "\n",
    "    # say which labels are in the dynamic\n",
    "    signal_labels = np.arange(magnetisation.shape[1])\n",
    "    magnetisation = np.transpose(magnetisation)\n",
    "\n",
    "    if subset_idx is not None:\n",
    "        magnetisation = magnetisation[:,subset_idx]\n",
    "\n",
    "    mrf_signal = pDS.ExternalMRSignal(signal_labels, magnetisation)\n",
    "    mrf_dynamic = pDS.ExternalMRContrastDynamic()\n",
    "    mrf_dynamic.add_external_signal(mrf_signal)\n",
    "\n",
    "    return mrf_dynamic\n"
   ]
  },
  {
   "cell_type": "code",
   "execution_count": null,
   "metadata": {},
   "outputs": [],
   "source": [
    "# we always need the same     \n",
    "def get_preconfigured_MRF_simulation(fpath_input, num_acquisitions=None):\n",
    "\n",
    "    fname_xml = fpath_input / \"XCAT_TissueParameters_XML.xml\"\n",
    "    fname_segmentation = fpath_input / \"segmentation.nii\"\n",
    "    segmentation = pReg.NiftiImageData3D(str(fname_segmentation))\n",
    "\n",
    "    simulation = pDS.MRDynamicSimulation(segmentation, str(fname_xml))\n",
    "\n",
    "    fname_acquisition_template = fpath_input / \"acquisition_template.h5\"\n",
    "    acquisition_template = pMR.AcquisitionData(str(fname_acquisition_template))\n",
    "\n",
    "    if num_acquisitions is None:\n",
    "        num_acquisitions = acquisition_template.number()\n",
    "    \n",
    "    subset_idx = np.arange(num_acquisitions)\n",
    "    acquisition_template = acquisition_template.get_subset(subset_idx)\n",
    "    acquisition_template = pMR.set_goldenangle2D_trajectory(acquisition_template)\n",
    "\n",
    "    simulation.set_template_data(acquisition_template)\n",
    "    \n",
    "    #\n",
    "    csm = aux.gaussian_2D_coilmaps(acquisition_template)\n",
    "    simulation.set_csm(csm)\n",
    "\n",
    "    # add MRF\n",
    "    fpath_epg_result = Path(\"/media/sf_CCPPETMR/TestData/Input/xDynamicSimulation/pDynamicSimulation/Fingerprints/\")\n",
    "    mrf_dynamic = get_preconfigured_mrfsignal(fpath_epg_result, subset_idx)\n",
    "    simulation.add_external_contrast_dynamic(mrf_dynamic)\n",
    "\n",
    "    # we add the usual offset transformation\n",
    "    offset_x_mm = 0\n",
    "    offset_y_mm = 0\n",
    "    offset_z_mm = -14\n",
    "    rotation_angles_deg = [0,0,0]\n",
    "    translation = np.array([offset_x_mm, offset_y_mm, offset_z_mm])\n",
    "    euler_angles_deg = np.array(rotation_angles_deg)\n",
    "\n",
    "    offset_trafo = pReg.AffineTransformation(translation, euler_angles_deg)\n",
    "    simulation.set_offset_trafo(offset_trafo)\n",
    "\n",
    "    return simulation, acquisition_template"
   ]
  },
  {
   "cell_type": "code",
   "execution_count": null,
   "metadata": {},
   "outputs": [],
   "source": [
    "# we always need this setup for the motion, the surrogate will dictate what happens\n",
    "def get_preconfigured_motiondynamic(fpath_mvfs, surrogate_time, surrogate_signal):\n",
    "    \n",
    "    num_binned_states = 100\n",
    "    motion = pDS.MRMotionDynamic( num_binned_states )\n",
    "    motion.set_dynamic_signal(surrogate_time, surrogate_signal)\n",
    "    motion.set_cyclicality(False)\n",
    "    \n",
    "    aux.set_motionfields_from_path(motion, fpath_mvfs)\n",
    "\n",
    "    return motion"
   ]
  },
  {
   "cell_type": "code",
   "execution_count": null,
   "metadata": {},
   "outputs": [],
   "source": [
    "#\n",
    "num_simul_acquisitions = 256\n",
    "\n",
    "# General time axis, let the guy move for 10 minutes\n",
    "Nt = 10000\n",
    "t0_s = 0\n",
    "tmax_s = 60*10\n",
    "\n",
    "fpath_resp_mvfs = str(fpath_input / 'mvfs_resp/')\n",
    "fpath_card_mvfs = str(fpath_input / 'mvfs_card/')"
   ]
  },
  {
   "cell_type": "code",
   "execution_count": null,
   "metadata": {},
   "outputs": [],
   "source": [
    "## and the same drill for the respiration\n",
    "f_Hz_resp = 0.25\n",
    "t_resp, sig_resp = aux.get_normed_sinus_signal(t0_s, tmax_s, Nt, f_Hz_resp)\n",
    "\n",
    "half_resp_motion = get_preconfigured_motiondynamic(fpath_resp_mvfs, t_resp,  0.5*sig_resp)\n",
    "simulation, acquisition_template = get_preconfigured_MRF_simulation(fpath_input, num_acquisitions=num_simul_acquisitions)\n",
    "\n",
    "simulation.add_motion_dynamic(half_resp_motion)\n",
    "\n",
    "tstart = time.time()\n",
    "simulation.simulate_data()\n",
    "print(\"--- Required {} minutes for the simulation.\".format( (time.time()-tstart)/60))\n",
    "\n",
    "fname_half_resp_sim = root_path / \"Output/output_i_simulate_half_resp_amplitude.h5\"\n",
    "if not fname_half_resp_sim.parent.is_dir():\n",
    "    fname_half_resp_sim.parent.mkdir(parents=True, exist_ok=True)\n",
    "\n",
    "simulation.write_simulation_results(str(fname_half_resp_sim))"
   ]
  },
  {
   "cell_type": "code",
   "execution_count": null,
   "metadata": {},
   "outputs": [],
   "source": [
    "import scipy.signal as scisig\n",
    "import matplotlib.pyplot as plt\n",
    "## and the same drill for the respiration\n",
    "f_Hz_card = 1.25\n",
    "t_card, sig_card = aux.get_normed_sawtooth_signal(t0_s, tmax_s, Nt, f_Hz_resp)\n",
    "\n",
    "card_motion = get_preconfigured_motiondynamic(fpath_card_mvfs, t_card,  sig_card)\n",
    "simulation, acquisition_template = get_preconfigured_MRF_simulation(fpath_input, num_simul_acquisitions=num_simul_acquisitions)\n",
    "\n",
    "simulation.add_motion_dynamic(card_motion)\n",
    "\n",
    "tstart = time.time()\n",
    "simulation.simulate_data()\n",
    "print(\"--- Required {} minutes for the simulation.\".format( (time.time()-tstart)/60))\n",
    "\n",
    "fname_cardiac_sim = root_path / \"Output/output_i_simulate_card.h5\"\n",
    "if not fname_cardiac_sim.parent.is_dir():\n",
    "    fname_cardiac_sim.parent.mkdir(parents=True, exist_ok=True)\n",
    "\n",
    "simulation.write_simulation_results(str(fname_cardiac_sim))"
   ]
  },
  {
   "cell_type": "code",
   "execution_count": null,
   "metadata": {},
   "outputs": [],
   "source": [
    "resp_data = pMR.AcquisitionData(str(fname_half_resp_sim))\n",
    "\n",
    "num_time_points = 10\n",
    "recon_halfresp = aux.reconstruct_timeresolved(resp_data, num_time_points)\n",
    "aux.write_nii('/media/sf_CCPPETMR/tmp_halfresp.nii', recon_halfresp)"
   ]
  },
  {
   "cell_type": "code",
   "execution_count": null,
   "metadata": {},
   "outputs": [],
   "source": [
    "cardiac_data = pMR.AcquisitionData(str(fname_cardiac_sim))\n",
    "idx_corr = card_motion.get_idx_corr(cardiac_data)\n",
    "keep_bins =np.arange(50,100)\n",
    "\n",
    "num_time_points = 10\n",
    "recon_card_gated = aux.reconstruct_timeresolved_gated(cardiac_data, num_time_points, idx_corr, keep_bins)\n",
    "recon_card_gated\n",
    "aux.write_nii('/media/sf_CCPPETMR/tmp_cardgated.nii', recon_card_gated)"
   ]
  },
  {
   "cell_type": "code",
   "execution_count": null,
   "metadata": {},
   "outputs": [],
   "source": []
  }
 ],
 "metadata": {
  "interpreter": {
   "hash": "30295c5bec572e859485b1ffa5e89b8b3e2022ef6e3e739c1ac40f143a557caf"
  },
  "kernelspec": {
   "display_name": "Python 3.6.9 64-bit",
   "language": "python",
   "name": "python3"
  },
  "language_info": {
   "codemirror_mode": {
    "name": "ipython"
   },
   "file_extension": ".py",
   "mimetype": "text/x-python",
   "name": "python",
   "nbconvert_exporter": "python"
  }
 },
 "nbformat": 4,
 "nbformat_minor": 2
}
