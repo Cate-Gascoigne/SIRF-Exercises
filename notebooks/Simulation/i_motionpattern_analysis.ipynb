{
 "cells": [
  {
   "cell_type": "markdown",
   "metadata": {},
   "source": [
    "## Notebook I: Analysing effect of different motion patterns\n",
    "Goals:\n",
    "- we want to run the simulation with different motion patterns and analyse the effect on resulting T1 maps"
   ]
  },
  {
   "cell_type": "code",
   "execution_count": null,
   "metadata": {},
   "outputs": [],
   "source": [
    "import numpy as np\n",
    "import auxiliary_functions as aux\n",
    "\n",
    "import matplotlib.pyplot as plt\n",
    "from pathlib import Path\n",
    "import os, time\n",
    "\n",
    "import sirf.DynamicSimulation as pDS\n",
    "import sirf.Reg as pReg\n",
    "import sirf.Gadgetron as pMR\n",
    "\n",
    "# this is where we store the properly formatted data\n",
    "root_path = Path(os.getenv(\"SIRF_INSTALL_PATH\"))\n",
    "root_path = root_path / \"share/SIRF-3.1/Simulation/\"\n",
    "fpath_input = root_path / \"Input\"\n",
    "\n",
    "fname_cardiac_sim = root_path / \"Output/output_i_simulate_card.h5\"\n",
    "fname_half_resp_sim = root_path / \"Output/output_i_simulate_half_resp_amplitude.h5\""
   ]
  },
  {
   "cell_type": "code",
   "execution_count": null,
   "metadata": {},
   "outputs": [],
   "source": [
    "# load dictionary\n",
    "fname_dict = Path(\"/media/sf_CCPPETMR/TestData/Input/xDynamicSimulation/pDynamicSimulation/Fingerprints/dict_70_1500.npz\")\n",
    "mrfdict = np.load(fname_dict)\n",
    "\n",
    "dict_theta = mrfdict['dict_theta']\n",
    "dict_mrf = mrfdict['dict_norm']\n",
    "\n",
    "# otherwise it's too annoying to wait for this\n",
    "subsample_dict_factor = 10\n",
    "dict_theta = dict_theta[0:-1:subsample_dict_factor,:]\n",
    "dict_mrf= dict_mrf[0:-1:subsample_dict_factor,:]"
   ]
  },
  {
   "cell_type": "code",
   "execution_count": null,
   "metadata": {},
   "outputs": [],
   "source": [
    "# we always need the same MRF signal\n",
    "def get_preconfigured_mrfsignal(fpath_epg_result, subset_idx=None):\n",
    "    \n",
    "    fname_epg_input = fpath_epg_result / \"XCAT_tissue_parameter_list.npz\"\n",
    "    fname_epg_simulation = fpath_epg_result / \"XCAT_tissue_parameter_fingerprints.npy\"\n",
    "\n",
    "    # re-assign non-unique tissue combinations\n",
    "    epg_input = np.load(fname_epg_input)\n",
    "    inverse_idx = epg_input[\"unique_idx_inverse\"]\n",
    "    inverse_idx.shape\n",
    "\n",
    "    #\n",
    "    epg_output = np.load(fname_epg_simulation)\n",
    "    magnetisation = epg_output[:, inverse_idx]\n",
    "\n",
    "    num_sim_acq = magnetisation.shape[0]\n",
    "    magnet_subset = np.arange(num_sim_acq)\n",
    "    magnetisation = magnetisation[magnet_subset, :]\n",
    "\n",
    "    # say which labels are in the dynamic\n",
    "    signal_labels = np.arange(magnetisation.shape[1])\n",
    "    magnetisation = np.transpose(magnetisation)\n",
    "\n",
    "    if subset_idx is not None:\n",
    "        magnetisation = magnetisation[:,subset_idx]\n",
    "\n",
    "    mrf_signal = pDS.ExternalMRSignal(signal_labels, magnetisation)\n",
    "    mrf_dynamic = pDS.ExternalMRContrastDynamic()\n",
    "    mrf_dynamic.add_external_signal(mrf_signal)\n",
    "\n",
    "    return mrf_dynamic\n"
   ]
  },
  {
   "cell_type": "code",
   "execution_count": null,
   "metadata": {},
   "outputs": [],
   "source": [
    "# we always need the same     \n",
    "def get_preconfigured_MRF_simulation_object(fpath_input, num_acquisitions=None):\n",
    "\n",
    "    fname_xml = fpath_input / \"XCAT_TissueParameters_XML.xml\"\n",
    "    fname_segmentation = fpath_input / \"segmentation.nii\"\n",
    "    segmentation = pReg.NiftiImageData3D(str(fname_segmentation))\n",
    "\n",
    "    simulation = pDS.MRDynamicSimulation(segmentation, str(fname_xml))\n",
    "\n",
    "    fname_acquisition_template = fpath_input / \"acquisition_template.h5\"\n",
    "    acquisition_template = pMR.AcquisitionData(str(fname_acquisition_template))\n",
    "\n",
    "    if num_acquisitions is None:\n",
    "        num_acquisitions = 1500#acquisition_template.number()\n",
    "    \n",
    "    subset_idx = np.arange(num_acquisitions)\n",
    "    acquisition_template = acquisition_template.get_subset(subset_idx)\n",
    "    acquisition_template = pMR.set_goldenangle2D_trajectory(acquisition_template)\n",
    "\n",
    "    simulation.set_template_data(acquisition_template)\n",
    "    \n",
    "    #\n",
    "    csm = aux.gaussian_2D_coilmaps(acquisition_template)\n",
    "    simulation.set_csm(csm)\n",
    "\n",
    "    # add MRF\n",
    "    fpath_epg_result = Path(\"/media/sf_CCPPETMR/TestData/Input/xDynamicSimulation/pDynamicSimulation/Fingerprints/\")\n",
    "    mrf_dynamic = get_preconfigured_mrfsignal(fpath_epg_result, subset_idx)\n",
    "    simulation.add_external_contrast_dynamic(mrf_dynamic)\n",
    "\n",
    "    # we add the usual offset transformation\n",
    "    offset_x_mm = 0\n",
    "    offset_y_mm = 0\n",
    "    offset_z_mm = -9\n",
    "    rotation_angles_deg = [0,0,0]\n",
    "    translation = np.array([offset_x_mm, offset_y_mm, offset_z_mm])\n",
    "    euler_angles_deg = np.array(rotation_angles_deg)\n",
    "\n",
    "    offset_trafo = pReg.AffineTransformation(translation, euler_angles_deg)\n",
    "    simulation.set_offset_trafo(offset_trafo)\n",
    "\n",
    "    return simulation, acquisition_template"
   ]
  },
  {
   "cell_type": "code",
   "execution_count": null,
   "metadata": {},
   "outputs": [],
   "source": [
    "# we always need this setup for the motion, the surrogate will dictate what happens\n",
    "def get_preconfigured_motiondynamic(fpath_mvfs, surrogate_time, surrogate_signal):\n",
    "    \n",
    "    num_binned_states = 10\n",
    "    motion = pDS.MRMotionDynamic( num_binned_states )\n",
    "    motion.set_dynamic_signal(surrogate_time, surrogate_signal)\n",
    "    motion.set_cyclicality(False)\n",
    "    \n",
    "    aux.set_motionfields_from_path(motion, fpath_mvfs)\n",
    "\n",
    "    return motion"
   ]
  },
  {
   "cell_type": "code",
   "execution_count": null,
   "metadata": {},
   "outputs": [],
   "source": [
    "import TissueParameterList as TPL\n",
    "import nibabel as nib \n",
    "fname_xml = fpath_input / \"XCAT_TissueParameters_XML.xml\"\n",
    "tpl = TPL.TissueParameterList()\n",
    "tpl.parse_xml(str(fname_xml))\n",
    "label_name_dict = tpl.get_labels_and_names()\n",
    "\n",
    "print(label_name_dict)\n",
    "\n",
    "def get_mask_for_labels(segmentation, labels):\n",
    "    mask = np.zeros(segmentation.shape, dtype=bool)\n",
    "    for lab in labels:\n",
    "        mask += (segmentation == lab)\n",
    "    \n",
    "    return mask\n",
    "\n",
    "labels_myocard = [1,2,3,4]\n",
    "fname_segmentation = fpath_input / \"segmentation.nii\"\n",
    "seg = nib.load(str(fname_segmentation)).get_fdata()\n",
    "\n",
    "myo_mask = get_mask_for_labels(seg, labels_myocard)\n",
    "nii = nib.Nifti1Image(myo_mask.astype(np.float32), np.eye(4))\n",
    "nib.save(nii, \"/media/sf_CCPPETMR/tmp_mask.nii\")\n"
   ]
  },
  {
   "cell_type": "code",
   "execution_count": null,
   "metadata": {},
   "outputs": [],
   "source": [
    "#\n",
    "num_simul_acquisitions = None\n",
    "\n",
    "# General time axis, let the guy move for 10 minutes\n",
    "Nt = 10000\n",
    "t0_s = 0\n",
    "tmax_s = 15\n",
    "\n",
    "fpath_resp_mvfs = str(fpath_input / 'mvfs_resp/')\n",
    "fpath_card_mvfs = str(fpath_input / 'mvfs_card/')"
   ]
  },
  {
   "cell_type": "code",
   "execution_count": null,
   "metadata": {},
   "outputs": [],
   "source": [
    "## and the same drill for the respiration\n",
    "f_Hz_resp = 0.25\n",
    "t_resp, sig_resp = aux.get_normed_sinus_signal(t0_s, tmax_s, Nt, f_Hz_resp)\n",
    "\n",
    "half_resp_motion = get_preconfigured_motiondynamic(fpath_resp_mvfs, t_resp,  0.5*sig_resp)\n",
    "simulation, acquisition_template = get_preconfigured_MRF_simulation_object(fpath_input, num_acquisitions=num_simul_acquisitions)\n",
    "\n",
    "simulation.add_motion_dynamic(half_resp_motion)"
   ]
  },
  {
   "cell_type": "code",
   "execution_count": null,
   "metadata": {},
   "outputs": [],
   "source": [
    "tstart = time.time()\n",
    "simulation.simulate_data()\n",
    "\n",
    "print(\"--- Required {} minutes for the simulation.\".format( (time.time()-tstart)/60))\n",
    "\n",
    "if not fname_half_resp_sim.parent.is_dir():\n",
    "    fname_half_resp_sim.parent.mkdir(parents=True, exist_ok=True)\n",
    "\n",
    "simulation.write_simulation_results(str(fname_half_resp_sim))"
   ]
  },
  {
   "cell_type": "code",
   "execution_count": null,
   "metadata": {},
   "outputs": [],
   "source": [
    "import scipy.signal as scisig\n",
    "import matplotlib.pyplot as plt\n",
    "## and the same drill for the respiration\n",
    "f_Hz_card = 1.25\n",
    "t_card, sig_card = aux.get_normed_sawtooth_signal(t0_s, tmax_s, Nt, f_Hz_card)\n",
    "\n",
    "card_motion = get_preconfigured_motiondynamic(fpath_card_mvfs, t_card,  sig_card)\n",
    "simulation, acquisition_template = get_preconfigured_MRF_simulation_object(fpath_input, num_acquisitions=num_simul_acquisitions)\n",
    "\n",
    "simulation.add_motion_dynamic(card_motion)"
   ]
  },
  {
   "cell_type": "code",
   "execution_count": null,
   "metadata": {},
   "outputs": [],
   "source": [
    "tstart = time.time()\n",
    "simulation.simulate_data()\n",
    "print(\"--- Required {} minutes for the simulation.\".format( (time.time()-tstart)/60))\n",
    "\n",
    "if not fname_cardiac_sim.parent.is_dir():\n",
    "    fname_cardiac_sim.parent.mkdir(parents=True, exist_ok=True)\n",
    "\n",
    "simulation.write_simulation_results(str(fname_cardiac_sim))"
   ]
  },
  {
   "cell_type": "code",
   "execution_count": null,
   "metadata": {},
   "outputs": [],
   "source": [
    "ad_resp = pMR.AcquisitionData(str(fname_half_resp_sim))"
   ]
  },
  {
   "cell_type": "code",
   "execution_count": null,
   "metadata": {},
   "outputs": [],
   "source": [
    "num_time_points = 75\n",
    "recon_halfresp, ad_resp = aux.reconstruct_timeresolved(ad_resp, num_time_points)\n",
    "aux.write_nii('/media/sf_CCPPETMR/tmp_halfresp.nii', recon_halfresp)"
   ]
  },
  {
   "cell_type": "code",
   "execution_count": null,
   "metadata": {},
   "outputs": [],
   "source": [
    "dict_resp = np.transpose(aux.apply_databased_sliding_window(ad_resp, np.transpose(dict_mrf)))\n",
    "match_resp = aux.dictionary_matching(recon_halfresp, dict_resp, dict_theta)"
   ]
  },
  {
   "cell_type": "code",
   "execution_count": null,
   "metadata": {},
   "outputs": [],
   "source": [
    "f,ax = plt.subplots(1,2)\n",
    "\n",
    "ax[0].imshow(np.abs(match_resp[:,:,1]),cmap='jet',vmin=0,vmax=2500)\n",
    "ax[0].axis('off')\n",
    "ax[0].set_title(\"T1 Card\")\n",
    "\n",
    "ax[1].imshow(np.abs(match_resp[:,:,2]),cmap='magma',vmin=0,vmax=150)\n",
    "ax[1].axis('off')\n",
    "ax[1].set_title(\"T2 Card\")"
   ]
  },
  {
   "cell_type": "code",
   "execution_count": null,
   "metadata": {},
   "outputs": [],
   "source": [
    "cardiac_data = pMR.AcquisitionData(str(fname_cardiac_sim))\n",
    "num_time_points = 75"
   ]
  },
  {
   "cell_type": "code",
   "execution_count": null,
   "metadata": {},
   "outputs": [],
   "source": [
    "recon_card, ad_card = aux.reconstruct_timeresolved(cardiac_data, num_time_points)\n",
    "aux.write_nii('/media/sf_CCPPETMR/tmp_card.nii', recon_card)\n"
   ]
  },
  {
   "cell_type": "code",
   "execution_count": null,
   "metadata": {},
   "outputs": [],
   "source": [
    "dict_card = np.transpose(aux.apply_databased_sliding_window(ad_card, np.transpose(dict_mrf)))\n",
    "match_card = aux.dictionary_matching(recon_card, dict_card, dict_theta)"
   ]
  },
  {
   "cell_type": "code",
   "execution_count": null,
   "metadata": {},
   "outputs": [],
   "source": [
    "f,ax = plt.subplots(1,2)\n",
    "\n",
    "ax[0].imshow(np.abs(match_card[:,:,1]),cmap='jet',vmin=0,vmax=2500)\n",
    "ax[0].axis('off')\n",
    "ax[0].set_title(\"T1 Card\")\n",
    "\n",
    "ax[1].imshow(np.abs(match_card[:,:,2]),cmap='magma',vmin=0,vmax=150)\n",
    "ax[1].axis('off')\n",
    "ax[1].set_title(\"T2 Card\")"
   ]
  },
  {
   "cell_type": "code",
   "execution_count": null,
   "metadata": {},
   "outputs": [],
   "source": [
    "cardiac_data = pMR.AcquisitionData(str(fname_cardiac_sim))\n",
    "idx_corr = card_motion.get_idx_corr(cardiac_data)\n",
    "keep_bins =np.arange(5,10)\n",
    "\n",
    "recon_card_gated, ad_cardgated = aux.reconstruct_timeresolved_gated(cardiac_data, num_time_points, idx_corr, keep_bins)\n",
    "aux.write_nii('/media/sf_CCPPETMR/tmp_cardgated.nii', recon_card_gated)"
   ]
  },
  {
   "cell_type": "code",
   "execution_count": null,
   "metadata": {},
   "outputs": [],
   "source": [
    "gated_dict = np.transpose(aux.gate_data(np.transpose(dict_mrf), idx_corr, keep_bins))\n",
    "dict_card_gated = np.transpose(aux.apply_databased_sliding_window(ad_cardgated, np.transpose(gated_dict)))"
   ]
  },
  {
   "cell_type": "code",
   "execution_count": null,
   "metadata": {},
   "outputs": [],
   "source": [
    "match_cardiogated = aux.dictionary_matching(recon_card_gated, dict_card_gated, dict_theta)"
   ]
  },
  {
   "cell_type": "code",
   "execution_count": null,
   "metadata": {},
   "outputs": [],
   "source": [
    "f,ax = plt.subplots(1,2)\n",
    "\n",
    "ax[0].imshow(np.abs(match_cardiogated[:,:,1]),cmap='jet',vmin=0,vmax=2500)\n",
    "ax[0].axis('off')\n",
    "\n",
    "ax[1].imshow(np.abs(match_cardiogated[:,:,2]),cmap='magma',vmin=0,vmax=150)\n",
    "ax[1].axis('off')\n"
   ]
  },
  {
   "cell_type": "code",
   "execution_count": null,
   "metadata": {},
   "outputs": [],
   "source": [
    "f,ax = plt.subplots(2,2)\n",
    "\n",
    "ax[0,0].imshow(np.abs(match_card[:,:,1]),cmap='jet',vmin=0,vmax=2500)\n",
    "ax[0,0].axis('off')\n",
    "ax[0,0].set_title('T1')\n",
    "\n",
    "\n",
    "ax[1,0].imshow(np.abs(match_card[:,:,2]),cmap='magma',vmin=0,vmax=150)\n",
    "ax[1,0].axis('off')\n",
    "ax[1,0].set_title('T2')\n",
    "\n",
    "ax[0,1].imshow(np.abs(match_cardiogated[:,:,1]),cmap='jet',vmin=0,vmax=2500)\n",
    "ax[0,1].axis('off')\n",
    "ax[0,1].set_title('T1 Gated')\n",
    "\n",
    "ax[1,1].imshow(np.abs(match_cardiogated[:,:,2]),cmap='magma',vmin=0,vmax=150)\n",
    "ax[1,1].axis('off')\n",
    "ax[1,1].set_title('T2 Gated')\n",
    "\n",
    "plt.savefig(\"/media/sf_CCPPETMR/fig_i_gating.png\", dpi=300)"
   ]
  }
 ],
 "metadata": {
  "interpreter": {
   "hash": "30295c5bec572e859485b1ffa5e89b8b3e2022ef6e3e739c1ac40f143a557caf"
  },
  "kernelspec": {
   "display_name": "Python 3",
   "language": "python",
   "name": "python3"
  },
  "language_info": {
   "codemirror_mode": {
    "name": "ipython"
   },
   "file_extension": ".py",
   "mimetype": "text/x-python",
   "name": "python",
   "nbconvert_exporter": "python"
  }
 },
 "nbformat": 4,
 "nbformat_minor": 2
}
