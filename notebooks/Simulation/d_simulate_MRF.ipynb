{
 "cells": [
  {
   "cell_type": "markdown",
   "metadata": {},
   "source": [
    "## Notebook D: Simulating an MRF acquisition\n",
    "\n",
    "#### Prerequisites:\n",
    "- segmentation and motion fields\n",
    "- acquisition template rawdata.\n",
    "- simulated magnetisation over time for all tissue types in the segmentation.\n",
    "\n",
    "#### Goals:\n",
    "- Simulating a time-varying magnetisation.\n",
    "\n",
    "#### Content overview: \n",
    "- extracting the tissue parameters from an XML file.\n",
    "- adding a time-dependent magnetisation dynamic to the simulation.\n",
    "- using a pre-computed magnetisation to perform an MRF simulation."
   ]
  },
  {
   "cell_type": "code",
   "execution_count": null,
   "metadata": {},
   "outputs": [],
   "source": [
    "from pathlib import Path\n",
    "import os \n",
    "\n",
    "# this is where we store the properly formatted data\n",
    "root_path = Path(os.getenv(\"SIRF_INSTALL_PATH\"))\n",
    "root_path = root_path / \"share/SIRF-3.1/Simulation/\"\n",
    "fpath_input = root_path / \"Input\"\n",
    "\n",
    "fig_path = root_path / \"Figures\"\n",
    "fig_path.mkdir(exist_ok=True)"
   ]
  },
  {
   "cell_type": "markdown",
   "metadata": {},
   "source": [
    "#### Generating Tissue Dictionary\n",
    "\n",
    "In the XML file we have defined the MR parameters T1, T2 and spin density for every tissue appearing in our segmentation. If we want to perform an EPG simulation for each these combinations we have to read .\n",
    "\n",
    "This can be done using XML parsing and is encapsulated in the TissueParameterList.\n",
    "Each row contains the MR tissue parameters in the order: \n",
    "\n",
    "_(label, spin density (% of water), T1(ms), T2(ms), chemical shift (ppm))_\n",
    "\n",
    "Once this information is available it can be passed to any external tool."
   ]
  },
  {
   "cell_type": "code",
   "execution_count": null,
   "metadata": {},
   "outputs": [],
   "source": [
    "import numpy as np\n",
    "import auxiliary_functions as aux\n",
    "import TissueParameterList as TPL\n",
    "\n",
    "fname_xml = fpath_input / \"XCAT_TissueParameters_XML.xml\"\n",
    "tpl = TPL.TissueParameterList()\n",
    "tpl.parse_xml(str(fname_xml))\n",
    "print(\"The tissue parameters for the different labels are: \\n {}\".format(tpl.mr_as_array().astype(np.int)))\n"
   ]
  },
  {
   "cell_type": "markdown",
   "metadata": {},
   "source": [
    "The EPG simulation part is ommitted at this point and a pre-computed magnetisation is loaded from a file."
   ]
  },
  {
   "cell_type": "code",
   "execution_count": null,
   "metadata": {},
   "outputs": [],
   "source": [
    "import matplotlib.pyplot as plt\n",
    "from pathlib import Path\n",
    "import shutil \n",
    "\n",
    "fpath_epg_result = Path(\"/media/sf_CCPPETMR/TestData/Input/xDynamicSimulation/pDynamicSimulation/Fingerprints/\")\n",
    "\n",
    "fname_epg_input = fpath_epg_result / \"XCAT_tissue_parameter_list.npz\"\n",
    "fname_epg_simulation = fpath_epg_result / \"XCAT_tissue_parameter_fingerprints.npy\"\n",
    "\n",
    "# copy for reference later\n",
    "shutil.copy( str(fname_epg_input), str(fpath_input))\n",
    "shutil.copy( str(fname_epg_simulation), str(fpath_input))\n",
    "\n",
    "# re-assign non-unique tissue combinations\n",
    "epg_input = np.load(fname_epg_input)\n",
    "inverse_idx = epg_input[\"unique_idx_inverse\"]\n",
    "inverse_idx.shape\n",
    "\n",
    "#\n",
    "epg_output = np.load(fname_epg_simulation)\n",
    "magnetisation = epg_output[:, inverse_idx]\n",
    "\n",
    "plt.figure()\n",
    "plt.plot(np.real(epg_output))\n",
    "plt.xlabel(\"readout\")\n",
    "plt.ylabel(\"signal (a.u.)\")\n",
    "fname_out = fig_path / \"fig_d_magnetisation.png\"\n",
    "plt.savefig(str(fname_out), dpi=300)"
   ]
  },
  {
   "cell_type": "code",
   "execution_count": null,
   "metadata": {},
   "outputs": [],
   "source": [
    "# We go through our usual drill of setting up our simulation\n",
    "\n",
    "import sirf.DynamicSimulation as pDS\n",
    "import sirf.Reg as pReg\n",
    "import sirf.Gadgetron as pMR\n",
    "\n",
    "\n",
    "fname_segmentation = fpath_input / \"segmentation.nii\"\n",
    "segmentation = pReg.NiftiImageData3D(str(fname_segmentation))\n",
    "\n",
    "simulation = pDS.MRDynamicSimulation(segmentation, str(fname_xml))\n",
    "\n"
   ]
  },
  {
   "cell_type": "code",
   "execution_count": null,
   "metadata": {},
   "outputs": [],
   "source": [
    "\n",
    "fname_acquisition_template = fpath_input / \"acquisition_template.h5\"\n",
    "acquisition_template = pMR.AcquisitionData(str(fname_acquisition_template))\n",
    "\n",
    "num_acquisitions = magnetisation.shape[0]\n",
    "subset_idx = np.arange(num_acquisitions)\n",
    "acquisition_template = acquisition_template.get_subset(subset_idx)\n",
    "acquisition_template = pMR.set_goldenangle2D_trajectory(acquisition_template)\n",
    "\n",
    "simulation.set_template_data(acquisition_template)"
   ]
  },
  {
   "cell_type": "code",
   "execution_count": null,
   "metadata": {},
   "outputs": [],
   "source": [
    "csm = aux.gaussian_2D_coilmaps(acquisition_template)\n",
    "simulation.set_csm(csm)"
   ]
  },
  {
   "cell_type": "code",
   "execution_count": null,
   "metadata": {},
   "outputs": [],
   "source": [
    "# we add the usual simulation\n",
    "offset_x_mm = 0\n",
    "offset_y_mm = 0\n",
    "offset_z_mm = -9\n",
    "rotation_angles_deg = [0,0,0]\n",
    "translation = np.array([offset_x_mm, offset_y_mm, offset_z_mm])\n",
    "euler_angles_deg = np.array(rotation_angles_deg)\n",
    "\n",
    "offset_trafo = pReg.AffineTransformation(translation, euler_angles_deg)\n",
    "simulation.set_offset_trafo(offset_trafo)"
   ]
  },
  {
   "cell_type": "markdown",
   "metadata": {},
   "source": [
    "To set up a time-dependant magnetisation we use the same principle as with the motion dynamic:\n",
    "- first we set up a dynamic object\n",
    "- we set the required parameters\n",
    "- we add the dynamic to the simulation"
   ]
  },
  {
   "cell_type": "code",
   "execution_count": null,
   "metadata": {},
   "outputs": [],
   "source": [
    "# now we need to create an external conrast dynamic\n",
    "\n",
    "# say which labels are in the dynamic\n",
    "signal_labels = np.arange(magnetisation.shape[1])\n",
    "magnetisation = np.transpose(magnetisation[:num_acquisitions,:])\n",
    "\n",
    "mrf_signal = pDS.ExternalMRSignal(signal_labels, magnetisation)\n",
    "mrf_dynamic = pDS.ExternalMRContrastDynamic()\n",
    "mrf_dynamic.add_external_signal(mrf_signal)\n",
    "simulation.add_external_contrast_dynamic(mrf_dynamic)"
   ]
  },
  {
   "cell_type": "code",
   "execution_count": null,
   "metadata": {},
   "outputs": [],
   "source": [
    "# now we simulate and store it\n",
    "import time\n",
    "tstart = time.time()\n",
    "simulation.simulate_data()\n",
    "print(\"--- Required {} minutes for the simulation.\".format( (time.time()-tstart)/60))\n",
    "\n",
    "fname_output = root_path / \"Output/output_d_simulate_mrf_static_{}.h5\".format(num_acquisitions)\n",
    "if not fname_output.parent.is_dir():\n",
    "    fname_output.parent.mkdir(parents=True, exist_ok=True)\n",
    "\n",
    "simulation.write_simulation_results(str(fname_output))"
   ]
  },
  {
   "cell_type": "code",
   "execution_count": null,
   "metadata": {},
   "outputs": [],
   "source": [
    "simulated_data = pMR.AcquisitionData(str(fname_output))\n",
    "recon = pReg.NiftiImageData3D(aux.reconstruct_data(simulated_data))\n",
    "recon.write(\"/media/sf_CCPPETMR/tmp_mrf.nii\")"
   ]
  },
  {
   "cell_type": "code",
   "execution_count": null,
   "metadata": {},
   "outputs": [],
   "source": [
    "prefix_output = root_path / \"Output/output_d_static_ground_truth\"\n",
    "simulation.save_parametermap_ground_truth(str(prefix_output))"
   ]
  },
  {
   "cell_type": "markdown",
   "metadata": {},
   "source": [
    "#### Recap\n",
    "In this notebook we:\n",
    "- extracted tissue parameters from the simultaions XML descriptor.\n",
    "- added a time-varying magnetisation dynamic to the simulation.\n",
    "\n",
    "_Up next: reconstructing a time-resolved image series of the simulated data._"
   ]
  },
  {
   "cell_type": "code",
   "execution_count": null,
   "metadata": {},
   "outputs": [],
   "source": []
  }
 ],
 "metadata": {
  "interpreter": {
   "hash": "30295c5bec572e859485b1ffa5e89b8b3e2022ef6e3e739c1ac40f143a557caf"
  },
  "kernelspec": {
   "display_name": "Python 3",
   "language": "python",
   "name": "python3"
  },
  "language_info": {
   "codemirror_mode": {
    "name": "ipython"
   },
   "file_extension": ".py",
   "mimetype": "text/x-python",
   "name": "python",
   "nbconvert_exporter": "python"
  }
 },
 "nbformat": 4,
 "nbformat_minor": 2
}
